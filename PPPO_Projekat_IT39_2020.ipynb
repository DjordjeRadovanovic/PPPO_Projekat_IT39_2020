{
  "nbformat": 4,
  "nbformat_minor": 0,
  "metadata": {
    "colab": {
      "provenance": [],
      "gpuType": "T4",
      "include_colab_link": true
    },
    "kernelspec": {
      "name": "python3",
      "display_name": "Python 3"
    },
    "language_info": {
      "name": "python"
    },
    "accelerator": "GPU"
  },
  "cells": [
    {
      "cell_type": "markdown",
      "metadata": {
        "id": "view-in-github",
        "colab_type": "text"
      },
      "source": [
        "<a href=\"https://colab.research.google.com/github/DjordjeRadovanovic/PPPO_Projekat_IT39_2020/blob/main/PPPO_Projekat_IT39_2020.ipynb\" target=\"_parent\"><img src=\"https://colab.research.google.com/assets/colab-badge.svg\" alt=\"Open In Colab\"/></a>"
      ]
    },
    {
      "cell_type": "markdown",
      "source": [
        "# **Principi prezentacije i prepoznavanja oblika 2023/2024**"
      ],
      "metadata": {
        "id": "zcLjyarQJLt0"
      }
    },
    {
      "cell_type": "markdown",
      "source": [
        "\n",
        "**Đorđe Radovanović IT39/2020**\n",
        "\n",
        "**Tema:** Klasifikacija lišća"
      ],
      "metadata": {
        "id": "0kAgPujZJNai"
      }
    },
    {
      "cell_type": "markdown",
      "source": [
        "## **Sadržaj**"
      ],
      "metadata": {
        "id": "j_JONDQdLEmZ"
      }
    },
    {
      "cell_type": "markdown",
      "source": [
        "1. Uvod\n",
        "2. Metodologija\n",
        "3. Analiza dataseta\n",
        "4. Odabir tehnologija\n",
        "5. Učitavanje dataseta\n",
        "6. Projekat\n",
        "7. Zaključak\n",
        "8. Literatura"
      ],
      "metadata": {
        "id": "paZPrjO1Ley8"
      }
    },
    {
      "cell_type": "markdown",
      "source": [
        "## **1. Uvod**"
      ],
      "metadata": {
        "id": "RUM2CE-kNhwy"
      }
    },
    {
      "cell_type": "markdown",
      "source": [
        "Jedna od najznačajnijih primena mašinskog učenja je u domenu klasifikacije podataka. Klasifikacija podataka predstavlja određivanje kojoj klasi prosleđeni podatak pripada. Podaci mogu biti u numeričkom formatu ili u vidu slika.\n",
        "\n",
        "Klasifikacija fotografija ima veliku korist u industriji i nauci. Naučnicima i inženjerima koji se bave analizom fotografija je od velike važnosti da ispravno utvrde klasu podataka koja se nalazi na fotografiji. Sa razvojem mašinskog učenja otvorena su vrata novim tehnikama analize i klasifikacije podataka.\n",
        "\n",
        "Postoje dve metode klasifikacije fotografija. Prva metoda se svodi na uočavanje karakteristika fotografije, koje klasifikator kasnije upotrebljava da bi odredio klasu objekta na fotografiji, ili njegovu teksturu. Neke od tehnika su **klasifikacija pomoću HOG i linearne regresije**, ili **klasifikacija tekstura pomoću Gabor filtera**.\n",
        "\n",
        "Druga metoda koristi već postojeće modele dubokog učenja, koji su već spremljeni i istrenirani na osnovu velikih setova podataka. Najčešće se koriste modeli poput **VGG16**, **VGG19**, **InceptionV3**, **ResNet**. Novi slučajevi upotrebe zahtevaju modifikaciju datih modela pomoću transfernog učenja (*transfer learning*).\n",
        "\n",
        "Cilj ovog projekta je izrada modela koji omogućava klasifikaciju crno-belih fotografija oblika lista. Koristiće se **VGG16** model, jer je jednostavan i dovoljno performantan za ovaj slučaj upotrebe. Izvršiće se treniranje modela i njegova validacija, kako bi se utvrdilo da je model dovoljno precizan za dalju upotrebu. Na kraju, kao primer, biće izvršeno testiranje modela nad novim setom slika, kako bi se pokazala njegova preciznost u upotrebi."
      ],
      "metadata": {
        "id": "fvemCeeoNsdw"
      }
    },
    {
      "cell_type": "markdown",
      "source": [
        "## **2. Metodologija**"
      ],
      "metadata": {
        "id": "hiB5VHRqNxt4"
      }
    },
    {
      "cell_type": "markdown",
      "source": [
        "Pre početka izrade projekta, neophodno je definisati metodologiju kojom će se voditi projekat:\n",
        "\n",
        "1.   **Analiza dataseta** - podatke je neophodno proučiti.\n",
        "2.   **Odabir tehnologija** - potrebno je pronaći odgovarajuće tehnologije koje će se koristiti u projektu.\n",
        "3.   **Učitavanje dataseta** - dataset se učitava u memoriju i disk.\n",
        "4.   **Priprema podataka** - vrši se prilagođavanje podataka odabranim tehnologijama i modelu.\n",
        "5.   **Kreiranje modela za klasifikaciju** - kreira se model za klasifikaciju fotografija lišća i analizira njegova preciznost.\n",
        "6.   **Testiranje modela** - vrši se testiranje rada modela tako što se vrši predikcija sa novim podacima."
      ],
      "metadata": {
        "id": "xHqpSRS3N3dg"
      }
    },
    {
      "cell_type": "markdown",
      "source": [
        "## **3. Analiza dataseta**"
      ],
      "metadata": {
        "id": "edqQzIxob9En"
      }
    },
    {
      "cell_type": "markdown",
      "source": [
        "Koristiće se *Leaf_Classification.zip* fajl, koji je preuzet sa sledećeg linka:\n",
        "\n",
        "https://drive.google.com/file/d/1r4yy2ZIUGoyESydQzY39L-0s8ld7fuXr/view?usp=sharing\n",
        "\n",
        "*Leaf_Classification.zip* u sebi sadrži četiri posebna .zip fajla:\n",
        "\n",
        "*   **images.zip** - sadrži 1584 crno-belih slika oblika lista\n",
        "*   **sample_submission.csv.zip** - nije relevantan za projekat, koristi se za numeričku klasifikaciju na osnovu drugih kolona koje se ne koriste u ovom projektu.\n",
        "*   **test.csv.zip** - CSV fajl sa 594 test fotografija listova, bez određenih klasa.\n",
        "*   **train.csv.zip** - CSV fajl za treniranje i validaciju, sadrži 990 fotografija listova, gde svaki list ima svoju određenu klasu.\n",
        "\n",
        "Ukupno ima 99 klasa/kategorija listova.\n"
      ],
      "metadata": {
        "id": "nQx2AAcCcKX8"
      }
    },
    {
      "cell_type": "markdown",
      "source": [
        "## **4. Odabir tehnologija**"
      ],
      "metadata": {
        "id": "d4zOvtEXcLfy"
      }
    },
    {
      "cell_type": "markdown",
      "source": [
        "Koristiće se metoda klasifikacije podataka koja koristi već postojeće modele, poput **VGG16**, **VGG19**, **InceptionV3**, **ResNet**, itd.\n",
        "\n",
        "Za potrebe projekta koristiće se **VGG16** arhitektura, koja će se putem transfernog učenja i finog podešavanaja izmeniti kako bi odgovarala datom setu podataka. Iako nije toliko precizan poput nekih drugih modela, **VGG16** je odabran zbog toga što ima mali broj slojeva i dobru brzinu, što je potrebno za ovaj projekat.\n",
        "\n",
        "**VGG16** se može naći u **Keras** API-ju, koji pored modela sadrži i ostale neophodne komponente, kao što su inicijalizator modela (omogućava nam izradu sopstvenih modela), slojevi (poput **Dense**, **Flatten** i dr.), optimizatori (u slučaju projekta koristiće se **Adam**).\n",
        "\n",
        "Za proveru gubitaka koristiće se **sparse_categorical_crossentropy**, koji je namenjen za proveru gubitaka prilikom treniranja modela koji vrši klasifikaciju putem numeričkih labela/kategorija."
      ],
      "metadata": {
        "id": "6dYSo2DLcP-n"
      }
    },
    {
      "cell_type": "markdown",
      "source": [
        "## **5. Učitavanje dataseta**"
      ],
      "metadata": {
        "id": "EWQ2Og6uOhRd"
      }
    },
    {
      "cell_type": "markdown",
      "source": [
        "Prvi korak je učitavanje seta podataka koji će se koristiti prilikom treniranja modela. Da bi se to uradilo, neophodno je skinuti .zip fajl koji sadrži sve potrebne podatke, pomoću **wget** komande."
      ],
      "metadata": {
        "id": "U2RZTv0QPCzG"
      }
    },
    {
      "cell_type": "code",
      "source": [
        "!wget --no-check-certificate 'https://drive.usercontent.google.com/download?id=1r4yy2ZIUGoyESydQzY39L-0s8ld7fuXr&confirm=xxx' -O Leaf_Classification.zip"
      ],
      "metadata": {
        "colab": {
          "base_uri": "https://localhost:8080/"
        },
        "id": "kM-259_HNp-7",
        "outputId": "2acb60ab-9b07-499b-ad48-2d55f680f92d"
      },
      "execution_count": 1,
      "outputs": [
        {
          "output_type": "stream",
          "name": "stdout",
          "text": [
            "--2024-06-16 22:37:57--  https://drive.usercontent.google.com/download?id=1r4yy2ZIUGoyESydQzY39L-0s8ld7fuXr&confirm=xxx\n",
            "Resolving drive.usercontent.google.com (drive.usercontent.google.com)... 64.233.170.132, 2404:6800:4003:c1a::84\n",
            "Connecting to drive.usercontent.google.com (drive.usercontent.google.com)|64.233.170.132|:443... connected.\n",
            "HTTP request sent, awaiting response... 200 OK\n",
            "Length: 35953027 (34M) [application/octet-stream]\n",
            "Saving to: ‘Leaf_Classification.zip’\n",
            "\n",
            "Leaf_Classification 100%[===================>]  34.29M  32.8MB/s    in 1.0s    \n",
            "\n",
            "2024-06-16 22:37:59 (32.8 MB/s) - ‘Leaf_Classification.zip’ saved [35953027/35953027]\n",
            "\n"
          ]
        }
      ]
    },
    {
      "cell_type": "markdown",
      "source": [
        "Kada je *Leaf_Classification.zip* fajl skinut, potrebno je izvršiti dekompresiju podataka. To se radi pomoću **unzip** komande."
      ],
      "metadata": {
        "id": "4XXuaOm2PA4t"
      }
    },
    {
      "cell_type": "code",
      "source": [
        "!unzip Leaf_Classification.zip"
      ],
      "metadata": {
        "colab": {
          "base_uri": "https://localhost:8080/"
        },
        "id": "kfy0z1NAPWrK",
        "outputId": "e09a1ff9-89d0-4ac4-ff49-84d05b903fb7"
      },
      "execution_count": 2,
      "outputs": [
        {
          "output_type": "stream",
          "name": "stdout",
          "text": [
            "Archive:  Leaf_Classification.zip\n",
            "  inflating: images.zip              \n",
            "  inflating: sample_submission.csv.zip  \n",
            "  inflating: test.csv.zip            \n",
            "  inflating: train.csv.zip           \n"
          ]
        }
      ]
    },
    {
      "cell_type": "markdown",
      "source": [
        "U *Leaf_Classification.zip* fajlu se nalaze još 4 posebna .zip fajla: *images.zip*, *sample_submission.csv.zip*, *train.csv.zip* i *test.csv.zip*. Analizom sadržaja ovih fajlova utvrđeno je da neće trebati *sample_submission.csv.zip*. Stoga, ponoviće se **unzip** komanda, ali samo za ostala tri .zip fajla."
      ],
      "metadata": {
        "id": "r5tpKgVRPW_N"
      }
    },
    {
      "cell_type": "code",
      "source": [
        "!unzip -qq images.zip\n",
        "!unzip -qq train.csv.zip\n",
        "!unzip -qq test.csv.zip"
      ],
      "metadata": {
        "id": "H4Jv2I54RS-3"
      },
      "execution_count": 3,
      "outputs": []
    },
    {
      "cell_type": "markdown",
      "source": [
        "Sada su svi podaci raspakovani i spremni za korišćenje u daljem radu. Sledeći korak je pisanje samog koda za pripremu podataka, generisanje, treniranje i testiranje modela."
      ],
      "metadata": {
        "id": "XX3pU-8jTaD8"
      }
    },
    {
      "cell_type": "markdown",
      "source": [
        "## **6. Projekat**"
      ],
      "metadata": {
        "id": "qYqCozqjOh2N"
      }
    },
    {
      "cell_type": "markdown",
      "source": [
        "Prva stvar koju je potrebno uraditi je importovanje svih neophodnih biblioteka za projekat. Potrebno je koristiti **pandas** biblioteku za Python, koja ima **DataFrame** dvodimenzionalnu strukturu podataka koju možemo koristiti za predstavljanje tabelarnih CSV podataka. Takođe je potrebno koristiti **NumPy** biblioteku za matematičke operacije nad prosleđenim podacima.\n",
        "\n",
        "VGG16 model se preuzima iz **Keras** biblioteke, koja se koristi u svrhe mašinskog učenja. **Keras** biblioteka sadrži veliki broj modela, uključujuči i **VGG16**, koji će se koristiti.\n",
        "\n",
        "**LabelEncoder** iz biblioteke **sklearn** će se koristiti za pretvaranje naziva klasa iz stringa u numeričke vrednosti."
      ],
      "metadata": {
        "id": "NL86006vot4v"
      }
    },
    {
      "cell_type": "code",
      "source": [
        "# Importovanje neophodnih biblioteka\n",
        "import keras\n",
        "import pandas as pd\n",
        "import numpy as np\n",
        "from sklearn.preprocessing import LabelEncoder\n",
        "from keras.applications import VGG16\n",
        "from keras.models import Model\n",
        "from keras.layers import Dense, Flatten, Dropout\n",
        "from keras.optimizers import Adam\n",
        "import os\n",
        "from PIL import Image\n",
        "import matplotlib.pyplot as plt"
      ],
      "metadata": {
        "id": "s0MPDqCT6C_j"
      },
      "execution_count": 4,
      "outputs": []
    },
    {
      "cell_type": "markdown",
      "source": [
        "### **6.1. Priprema podataka**"
      ],
      "metadata": {
        "id": "wjhY-NqmLSoK"
      }
    },
    {
      "cell_type": "markdown",
      "source": [
        "Sledeći korak je učitavanje i sređivanje CSV podataka iz *train.csv* fajla. Učitavanje se vrši pomoću **read_csv** funkcije iz **pandas** paketa. Podaci se unose u *train_df* DataFrame.\n",
        "\n",
        "Takođe se vrši definisanje direktorijuma u kojem se nalaze slike neophodne za treniranje/testiranje modela."
      ],
      "metadata": {
        "id": "Ol1UzkNF7H4P"
      }
    },
    {
      "cell_type": "code",
      "source": [
        "# Učitavanje podataka iz train.csv u train_df DataFrame\n",
        "train_df = pd.read_csv('train.csv')\n",
        "\n",
        "# Definisanje direktorijuma sa slikama\n",
        "img_dir = 'images/'"
      ],
      "metadata": {
        "id": "rSThsGc76Dee"
      },
      "execution_count": 5,
      "outputs": []
    },
    {
      "cell_type": "markdown",
      "source": [
        "Potrebno je učitati slike iz direktorijuma i ubaciti ij u NumPy niz. Definisana je funkcija **load_and_preprocess_image** koja uzima putanju slika, vrši promenu dimenzija u 224x224 (kako bi bile pogodne za **VGG16** model), i vraća NumPy niz koji će se kasnije upotrebiti."
      ],
      "metadata": {
        "id": "x5MOWqwG7ilq"
      }
    },
    {
      "cell_type": "code",
      "source": [
        "# Učitavanje i predprocesiranje slika\n",
        "def load_and_preprocess_image(image_path):\n",
        "    img = Image.open(image_path)\n",
        "    img = img.resize((224, 224))\n",
        "    img_array = np.asarray(img)\n",
        "    img_array = img_array / 255.0\n",
        "    return img_array"
      ],
      "metadata": {
        "id": "7mNgRe1H6D06"
      },
      "execution_count": 6,
      "outputs": []
    },
    {
      "cell_type": "markdown",
      "source": [
        "Sledeći korak je kreiranje listi *x_train* i *y_train*, koje će se koristiti za treniranje modela.\n",
        "\n",
        "* **x_train** - slike lišća\n",
        "* **y_train** - klase lišća, odgovaraju slici iz *x_train*\n",
        "\n",
        "**Postupak:** Kreiraju se dve liste, i za svaki red u *train_df* se čitaju podaci. Podatak o ID-ju se pretvara u putanju slike, koja se učitava preko gorenavedene funkcije i ubacuje u *x_train*, dok se za vrednost *y_train* uzima naziv klase lista (**species**) koji stoji pored."
      ],
      "metadata": {
        "id": "1vlRR3Sc7sCB"
      }
    },
    {
      "cell_type": "code",
      "source": [
        "# Kreiranje listi sa podacima za treniranje modela\n",
        "x_train = []\n",
        "y_train = []\n",
        "\n",
        "# Popunjavanje x_train i y_train listi\n",
        "for index, row in train_df.iterrows():\n",
        "    id = row['id']\n",
        "    species = row['species']\n",
        "    img_path = os.path.join(img_dir, f'{id}.jpg')\n",
        "\n",
        "    # Učitavanje i sređivanje slike\n",
        "    img = load_and_preprocess_image(img_path)\n",
        "\n",
        "    # Dodavanje slike u x_train listu\n",
        "    x_train.append(img)\n",
        "\n",
        "    # Dodavanje klase u y_train listu\n",
        "    y_train.append(species)"
      ],
      "metadata": {
        "id": "3E_108m36EIe"
      },
      "execution_count": 7,
      "outputs": []
    },
    {
      "cell_type": "markdown",
      "source": [
        "Sada kada su kreirani *x_train* i *y_train* podaci za treniranje, neophodno je proveriti da li su odgovarajućeg oblika za model."
      ],
      "metadata": {
        "id": "vcrWsSe17siZ"
      }
    },
    {
      "cell_type": "code",
      "source": [
        "# Provera x_train i y_train\n",
        "print('x_train[0] shape:', x_train[0].shape)\n",
        "print('y_train[0]:', y_train[0])"
      ],
      "metadata": {
        "colab": {
          "base_uri": "https://localhost:8080/"
        },
        "id": "g5rdwN7M6Eev",
        "outputId": "54bef1e1-55cc-472b-f4cd-a942577a21aa"
      },
      "execution_count": 8,
      "outputs": [
        {
          "output_type": "stream",
          "name": "stdout",
          "text": [
            "x_train[0] shape: (224, 224)\n",
            "y_train[0]: Acer_Opalus\n"
          ]
        }
      ]
    },
    {
      "cell_type": "markdown",
      "source": [
        "Kako podaci za *x_train* nisu odgovarajućeg oblika, neophodno je izvršiti konverziju. Potrebno je pretvoriti podatke u **NumPy** niz, i dodati četvrtu dimenziju - color channels. Kako RGB ima tri kanala, dodaje se broj 3."
      ],
      "metadata": {
        "id": "BSXVzIkt7s2i"
      }
    },
    {
      "cell_type": "code",
      "source": [
        "x_new = []\n",
        "for image in x_train:\n",
        "    img_array = np.asarray(image)\n",
        "    x_new.append(img_array)\n",
        "x_train = np.array(x_new)\n",
        "\n",
        "# Konverzija x_train u odgovarajući oblik - iz (990, 224, 224) u (990, 224, 224, 3)\n",
        "x_train = np.repeat(x_train[..., np.newaxis], 3, axis=-1)"
      ],
      "metadata": {
        "id": "sE51zrJY6EuC"
      },
      "execution_count": 9,
      "outputs": []
    },
    {
      "cell_type": "markdown",
      "source": [
        "Podaci iz *y_train* se moraju pretvoriti u numeričke vrednosti kako bi se moglo izvršiti treniranje modela. Ta konverzija se vrši pomoću **LabelEncoder** funkcije iz biblioteke **sklearn**.\n",
        "\n",
        "**LabelEncoder** dodeljuje numeričku vrednost svakom nazivu klase, po abecednom redu.\n",
        "\n",
        "U ovom koraku takođe se vrši sortiranje naziva klasa po abecedi, kako bi se kasnije moglo vršiti mapiranje broja klase sa najvećom verovatnoćom sa nazivom klase."
      ],
      "metadata": {
        "id": "GnnwYgGw7tL1"
      }
    },
    {
      "cell_type": "code",
      "source": [
        "# Transformacija labela u numeričke vrednosti, za output\n",
        "classes_names = sorted(set(y_train)) # Da bismo sačuvali nazive klasa\n",
        "y_train = LabelEncoder().fit_transform(y_train)\n",
        "y_train = np.array(y_train)"
      ],
      "metadata": {
        "id": "Ir-VVRj76E-j"
      },
      "execution_count": 10,
      "outputs": []
    },
    {
      "cell_type": "markdown",
      "source": [
        "Još jednom se vrši provera oblika input i output podataka za model."
      ],
      "metadata": {
        "id": "LRGfUsfk7tiF"
      }
    },
    {
      "cell_type": "code",
      "source": [
        "# Prikaz oblika x_train i y_train\n",
        "print('x_train shape:', x_train.shape)\n",
        "print('y_train shape:', y_train.shape)"
      ],
      "metadata": {
        "colab": {
          "base_uri": "https://localhost:8080/"
        },
        "id": "D-29Y2b56FMX",
        "outputId": "03b9b02f-626a-4e4e-a22d-31147e5a37d8"
      },
      "execution_count": 11,
      "outputs": [
        {
          "output_type": "stream",
          "name": "stdout",
          "text": [
            "x_train shape: (990, 224, 224, 3)\n",
            "y_train shape: (990,)\n"
          ]
        }
      ]
    },
    {
      "cell_type": "markdown",
      "source": [
        "Kada su podaci odgovarajućeg oblika, može se početi sa izgradnjom i treniranjem modela."
      ],
      "metadata": {
        "id": "8UA2_c6K7t1L"
      }
    },
    {
      "cell_type": "markdown",
      "source": [
        "### **6.2. Kreiranje modela za klasifikaciju**"
      ],
      "metadata": {
        "id": "-qLTOanSLqLP"
      }
    },
    {
      "cell_type": "markdown",
      "source": [
        "Prvo je potrebno definisati ukupan broj mogućih klasa. U slučaju predikcije listova, ima ih 99."
      ],
      "metadata": {
        "id": "dKk-Jy-oLov5"
      }
    },
    {
      "cell_type": "code",
      "source": [
        "# Dobijanje ukupnog broja klasa\n",
        "num_classes = train_df['species'].unique().size\n",
        "print('Broj klasa: ', num_classes)"
      ],
      "metadata": {
        "colab": {
          "base_uri": "https://localhost:8080/"
        },
        "id": "TWgfNF3S6FdO",
        "outputId": "6791e640-8308-4a60-fc90-8a9500870fa2"
      },
      "execution_count": 12,
      "outputs": [
        {
          "output_type": "stream",
          "name": "stdout",
          "text": [
            "Broj klasa:  99\n"
          ]
        }
      ]
    },
    {
      "cell_type": "markdown",
      "source": [
        "Koristiće se tehnika transfernog učenja (*transfer learning*).\n",
        "\n",
        "**Ideja:** Koristi se postojeći model koji je već treniran za neki dataset. Takav model već ima razvijene tehnike uočavanja karakteristika koje se ne bi mogle razviti sa vrlo malim datasetom (kakav je ovaj). Postojeći model možemo prilagoditi novom setu podataka pomoću dodavanja slojeva, promene konfiguracije i ponovnog treniranja određenog broja slojeva sa novim datasetom.\n",
        "\n",
        "U ovom slučaju koristiće se **VGG16** model kao osnova, jer sadrži dovoljan broj slojeva i dovoljno dobre performanse za ovaj slučaj analize."
      ],
      "metadata": {
        "id": "fSsZdNp37uK9"
      }
    },
    {
      "cell_type": "markdown",
      "source": [
        "Vrši se učitavanje baznog **VGG16** modela, konfiguracija njegovih slojeva. U ovom slučaju, potrebno je onemogućiti treniranje nekih slojeva tog modela.\n",
        "\n",
        "*(Eksperimentisanjem je utvrđeno da je najbolje ostaviti poslednja dva modela otvorenim za treniranje, a svim drugim modelima zabraniti.)*"
      ],
      "metadata": {
        "id": "JeV7MmAoBagA"
      }
    },
    {
      "cell_type": "code",
      "source": [
        "# Konfiguracija VGG16\n",
        "vgg_conv = VGG16(weights='imagenet', include_top=False, input_shape=(224, 224, 3))\n",
        "\n",
        "# Onemogućavanje treniranja slojeva VGG16 modela\n",
        "for layer in vgg_conv.layers[:-2]:\n",
        "    layer.trainable = False\n",
        "\n",
        "for layer in vgg_conv.layers:\n",
        "    print(layer, layer.trainable)"
      ],
      "metadata": {
        "colab": {
          "base_uri": "https://localhost:8080/"
        },
        "id": "u1CAmfbr6F0K",
        "outputId": "8276c4b0-58d5-41f7-e664-58af87c504c1"
      },
      "execution_count": 32,
      "outputs": [
        {
          "output_type": "stream",
          "name": "stdout",
          "text": [
            "<keras.src.engine.input_layer.InputLayer object at 0x783c34735b40> False\n",
            "<keras.src.layers.convolutional.conv2d.Conv2D object at 0x783cd6556470> False\n",
            "<keras.src.layers.convolutional.conv2d.Conv2D object at 0x783c804023e0> False\n",
            "<keras.src.layers.pooling.max_pooling2d.MaxPooling2D object at 0x783c80163520> False\n",
            "<keras.src.layers.convolutional.conv2d.Conv2D object at 0x783c804bdc60> False\n",
            "<keras.src.layers.convolutional.conv2d.Conv2D object at 0x783c801613f0> False\n",
            "<keras.src.layers.pooling.max_pooling2d.MaxPooling2D object at 0x783c347b50c0> False\n",
            "<keras.src.layers.convolutional.conv2d.Conv2D object at 0x783c801609a0> False\n",
            "<keras.src.layers.convolutional.conv2d.Conv2D object at 0x783c347b60e0> False\n",
            "<keras.src.layers.convolutional.conv2d.Conv2D object at 0x783c347363e0> False\n",
            "<keras.src.layers.pooling.max_pooling2d.MaxPooling2D object at 0x783c347b74c0> False\n",
            "<keras.src.layers.convolutional.conv2d.Conv2D object at 0x783c347b6020> False\n",
            "<keras.src.layers.convolutional.conv2d.Conv2D object at 0x783c347b5480> False\n",
            "<keras.src.layers.convolutional.conv2d.Conv2D object at 0x783c804e9900> False\n",
            "<keras.src.layers.pooling.max_pooling2d.MaxPooling2D object at 0x783c347b52a0> False\n",
            "<keras.src.layers.convolutional.conv2d.Conv2D object at 0x783c347b7400> False\n",
            "<keras.src.layers.convolutional.conv2d.Conv2D object at 0x783c347d4640> False\n",
            "<keras.src.layers.convolutional.conv2d.Conv2D object at 0x783c347b6260> True\n",
            "<keras.src.layers.pooling.max_pooling2d.MaxPooling2D object at 0x783c347d5810> True\n"
          ]
        }
      ]
    },
    {
      "cell_type": "markdown",
      "source": [
        "Sledeći korak je kreiranje modela. Koristi se sekvencijalni (*Sequential*) model, kome se dodaju slojevi. Kao početni sloj stavljaju se slojevi prethodno konfigurisanog **VGG16** modela.\n",
        "\n",
        "Pored njega, dodaju se još četiri sloja.\n",
        "\n",
        "*(Eksperimentisanjem je utvrđeno da ova četiri sloja, sa datim konfiguracijama, daju najbolje rezultate.)*"
      ],
      "metadata": {
        "id": "cHQHm53u7usF"
      }
    },
    {
      "cell_type": "code",
      "source": [
        "# Kreiranje modela - sekvencijalni\n",
        "model = keras.Sequential()\n",
        "\n",
        "# Dodavanje VGG16 slojeva u model\n",
        "model.add(vgg_conv)\n",
        "\n",
        "# Dodavanje novih slojeva u model\n",
        "model.add(Flatten())\n",
        "model.add(Dense(1024, activation='relu'))\n",
        "model.add(Dropout(0.5))\n",
        "model.add(Dense(num_classes, activation='softmax'))\n",
        "\n",
        "# Prikazivanje podataka o modelu koji je kreiran\n",
        "model.summary()"
      ],
      "metadata": {
        "colab": {
          "base_uri": "https://localhost:8080/"
        },
        "id": "2uQhicAV6GFS",
        "outputId": "93c25152-fe31-49cb-e8bc-fcbb51cdcf1e"
      },
      "execution_count": 33,
      "outputs": [
        {
          "output_type": "stream",
          "name": "stdout",
          "text": [
            "Model: \"sequential_4\"\n",
            "_________________________________________________________________\n",
            " Layer (type)                Output Shape              Param #   \n",
            "=================================================================\n",
            " vgg16 (Functional)          (None, 7, 7, 512)         14714688  \n",
            "                                                                 \n",
            " flatten_4 (Flatten)         (None, 25088)             0         \n",
            "                                                                 \n",
            " dense_8 (Dense)             (None, 1024)              25691136  \n",
            "                                                                 \n",
            " dropout_4 (Dropout)         (None, 1024)              0         \n",
            "                                                                 \n",
            " dense_9 (Dense)             (None, 99)                101475    \n",
            "                                                                 \n",
            "=================================================================\n",
            "Total params: 40507299 (154.52 MB)\n",
            "Trainable params: 28152419 (107.39 MB)\n",
            "Non-trainable params: 12354880 (47.13 MB)\n",
            "_________________________________________________________________\n"
          ]
        }
      ]
    },
    {
      "cell_type": "markdown",
      "source": [
        "Sada sledi kompilacija modela. Koristi se **Adam** optimizator. Kao funkcija gubitka koristi se **sparse_categorical_crossentropy** koja je prilagođena za klasifikaciju numeričkih klasa.\n",
        "\n",
        "Od metrika pratiće se **accuracy** - preciznost predikcije.\n",
        "\n",
        "*(Eksperimentisanjem je utvrđeno da se najbolji rezultati dobijaju kada je stepen učenja (learning rate) **Adam** optimizatora podešen na 0.001 - standardnu vrednost.)*"
      ],
      "metadata": {
        "id": "qS62wQlF7vCq"
      }
    },
    {
      "cell_type": "code",
      "source": [
        "# Kompilacija modela\n",
        "model.compile(optimizer=Adam(learning_rate=0.001), loss='sparse_categorical_crossentropy', metrics=['accuracy'])"
      ],
      "metadata": {
        "id": "bJA0DSzH6GSS"
      },
      "execution_count": 34,
      "outputs": []
    },
    {
      "cell_type": "markdown",
      "source": [
        "Sledi korak treniranja modela. Prosleđuju se već pripremljeni *x_train* i *y_train* setovi, broj epoha, veličina prosleđenih podataka i drugi parametri.\n",
        "\n",
        "Eksperimentisanjem sa različitim vrednostima (10/15/30 *epochs*, 16/32/64 *batch_size*) je uočeno da je najbolji odnos brzine treniranja i tačnosti podataka kada se treniranje vrši u 15 epoha, sa *batch_size=32*.\n",
        "\n",
        "Pomoću *validation_split=0.2*, vrši se \"odsecanje\" podataka na dva dela, u odnosu 80:20 (80% se koriste za treniranje, dok se ostalih 20% koristi za validaciju - proveru tačnosti modela)."
      ],
      "metadata": {
        "id": "WdtP77gt7veW"
      }
    },
    {
      "cell_type": "code",
      "source": [
        "# Treniranje modela\n",
        "history = model.fit(x_train, y_train, epochs=15, validation_split=0.2, batch_size=32)"
      ],
      "metadata": {
        "colab": {
          "base_uri": "https://localhost:8080/"
        },
        "id": "1VkFW5h96GjS",
        "outputId": "eca2aa94-5acb-4ff7-f7b4-c2c3e9f0238a"
      },
      "execution_count": 35,
      "outputs": [
        {
          "output_type": "stream",
          "name": "stdout",
          "text": [
            "Epoch 1/15\n",
            "25/25 [==============================] - 6s 208ms/step - loss: 4.5478 - accuracy: 0.1338 - val_loss: 2.5610 - val_accuracy: 0.3990\n",
            "Epoch 2/15\n",
            "25/25 [==============================] - 4s 165ms/step - loss: 1.6561 - accuracy: 0.5783 - val_loss: 0.9947 - val_accuracy: 0.6970\n",
            "Epoch 3/15\n",
            "25/25 [==============================] - 4s 167ms/step - loss: 0.6397 - accuracy: 0.7992 - val_loss: 0.7095 - val_accuracy: 0.7879\n",
            "Epoch 4/15\n",
            "25/25 [==============================] - 5s 187ms/step - loss: 0.3302 - accuracy: 0.8977 - val_loss: 0.6031 - val_accuracy: 0.7980\n",
            "Epoch 5/15\n",
            "25/25 [==============================] - 5s 189ms/step - loss: 0.3105 - accuracy: 0.9268 - val_loss: 0.5667 - val_accuracy: 0.8232\n",
            "Epoch 6/15\n",
            "25/25 [==============================] - 4s 169ms/step - loss: 0.2026 - accuracy: 0.9407 - val_loss: 0.5107 - val_accuracy: 0.8535\n",
            "Epoch 7/15\n",
            "25/25 [==============================] - 4s 169ms/step - loss: 0.1749 - accuracy: 0.9508 - val_loss: 0.6689 - val_accuracy: 0.8384\n",
            "Epoch 8/15\n",
            "25/25 [==============================] - 4s 173ms/step - loss: 0.1629 - accuracy: 0.9444 - val_loss: 0.4765 - val_accuracy: 0.8586\n",
            "Epoch 9/15\n",
            "25/25 [==============================] - 4s 172ms/step - loss: 0.1192 - accuracy: 0.9684 - val_loss: 0.5168 - val_accuracy: 0.8535\n",
            "Epoch 10/15\n",
            "25/25 [==============================] - 5s 192ms/step - loss: 0.0810 - accuracy: 0.9836 - val_loss: 0.4538 - val_accuracy: 0.8586\n",
            "Epoch 11/15\n",
            "25/25 [==============================] - 5s 193ms/step - loss: 0.0493 - accuracy: 0.9836 - val_loss: 0.4330 - val_accuracy: 0.8434\n",
            "Epoch 12/15\n",
            "25/25 [==============================] - 5s 190ms/step - loss: 0.0451 - accuracy: 0.9836 - val_loss: 0.4941 - val_accuracy: 0.8636\n",
            "Epoch 13/15\n",
            "25/25 [==============================] - 5s 189ms/step - loss: 0.0236 - accuracy: 0.9924 - val_loss: 0.7665 - val_accuracy: 0.8030\n",
            "Epoch 14/15\n",
            "25/25 [==============================] - 4s 171ms/step - loss: 0.0493 - accuracy: 0.9874 - val_loss: 0.5605 - val_accuracy: 0.8485\n",
            "Epoch 15/15\n",
            "25/25 [==============================] - 5s 188ms/step - loss: 0.0259 - accuracy: 0.9924 - val_loss: 0.4841 - val_accuracy: 0.8687\n"
          ]
        }
      ]
    },
    {
      "cell_type": "markdown",
      "source": [
        "Uočeno je da je preciznost podataka prilikom treniranja oko 98-99%, a preciznost prilikom validacije oko 85-90%, što predstavlja visok stepen pouzdanosti modela."
      ],
      "metadata": {
        "id": "LMG_F_TpIxow"
      }
    },
    {
      "cell_type": "markdown",
      "source": [
        "Podaci dobijeni prilikom treniranja modela uneti su u promenljivu *history*. Ti podaci se mogu izvući i koristiti u graficima, poput:\n",
        "\n",
        "* Grafika tačnosti treninga i validacije\n",
        "* Grafika gubitka treninga i validacije\n",
        "\n",
        "Crtanje grafika se vrši pomoću operacija iz biblioteke **matplotlib**."
      ],
      "metadata": {
        "id": "En5ICYrW7vxC"
      }
    },
    {
      "cell_type": "code",
      "source": [
        "# Krive tačnosti i gubitaka\n",
        "acc = history.history['accuracy']\n",
        "val_acc = history.history['val_accuracy']\n",
        "loss = history.history['loss']\n",
        "val_loss = history.history['val_loss']\n",
        "\n",
        "epochs = range(len(acc))\n",
        "\n",
        "# Prikaz tačnosti treninga i validacije\n",
        "# Prikaz gubitka treninga i validacije\n",
        "\n",
        "plt.figure(figsize=(20,10))\n",
        "plt.subplots_adjust(left=0, right=1, bottom=0, top=0.95, wspace=0.05, hspace=0)\n",
        "plt.subplot(121)\n",
        "plt.plot(epochs, acc, 'b', label='Training accuracy')\n",
        "plt.plot(epochs, val_acc, 'r', label='Validation accuracy')\n",
        "plt.title('Training and validation accuracy', size=20)\n",
        "plt.legend(prop={'size': 10})\n",
        "plt.grid()\n",
        "plt.subplot(122)\n",
        "plt.plot(epochs, loss, 'b', label='Training loss')\n",
        "plt.plot(epochs, val_loss, 'r', label='Validation loss')\n",
        "plt.title('Training and validation loss', size=20)\n",
        "plt.legend(prop={'size': 10})\n",
        "plt.grid()\n",
        "plt.show()"
      ],
      "metadata": {
        "colab": {
          "base_uri": "https://localhost:8080/",
          "height": 572
        },
        "id": "jJFtxdOl6HT6",
        "outputId": "ecac5ea6-ece1-493b-8bde-6a61b524557d"
      },
      "execution_count": 36,
      "outputs": [
        {
          "output_type": "display_data",
          "data": {
            "text/plain": [
              "<Figure size 2000x1000 with 2 Axes>"
            ],
            "image/png": "[encoded data removed]"
          },
          "metadata": {}
        }
      ]
    },
    {
      "cell_type": "markdown",
      "source": [
        "Model se može sačuvati u posebnom *.keras* fajlu, i može se kasnije upotrebljavati u službi klasifikacije lišća."
      ],
      "metadata": {
        "id": "XBYO8aSMGv-8"
      }
    },
    {
      "cell_type": "code",
      "source": [
        "# Čuvanje modela\n",
        "model.save('model.keras')"
      ],
      "metadata": {
        "id": "6IIMGtjK61SU"
      },
      "execution_count": 38,
      "outputs": []
    },
    {
      "cell_type": "markdown",
      "source": [
        "### **6.3. Testiranje modela**"
      ],
      "metadata": {
        "id": "F5eaGVp6L5l1"
      }
    },
    {
      "cell_type": "markdown",
      "source": [
        "Ostaje testirati model sa novim podacima. Potrebno je izvući nove podatke iz datoteke *test.csv* i ubaciti ih u *x_test*.\n",
        "\n",
        "Postupak je gotovo identičan kao i za *x_train*."
      ],
      "metadata": {
        "id": "6SkE8l2m7wr-"
      }
    },
    {
      "cell_type": "code",
      "source": [
        "# Učitavanje podataka iz test.csv u test_df DataFrame\n",
        "test_df = pd.read_csv('test.csv')\n",
        "\n",
        "# Kreiranje x_test podataka za predikciju\n",
        "x_test = []\n",
        "\n",
        "# Popunjavanje x_test liste\n",
        "for index, row in test_df.iterrows():\n",
        "    id = int(row['id'])                               # bugfix\n",
        "    img_path = os.path.join(img_dir, f'{id}.jpg')\n",
        "    img = load_and_preprocess_image(img_path)\n",
        "    x_test.append(img)\n",
        "\n",
        "x_new = []\n",
        "for image in x_test:\n",
        "    img_array = np.asarray(image)\n",
        "    x_new.append(img_array)\n",
        "x_test = np.array(x_new)\n",
        "\n",
        "# Konverzija x_test u odgovarajući oblik - iz (594, 224, 224) u (594, 224, 224, 3)\n",
        "x_test = np.repeat(x_test[..., np.newaxis], 3, axis=-1)\n",
        "\n",
        "# Prikaz oblika x_test\n",
        "print('x_test shape:', x_test.shape)"
      ],
      "metadata": {
        "colab": {
          "base_uri": "https://localhost:8080/"
        },
        "id": "ZAnK0FpR6HhP",
        "outputId": "b323553e-1449-4b47-ed23-f06d0a1c4dd9"
      },
      "execution_count": 39,
      "outputs": [
        {
          "output_type": "stream",
          "name": "stdout",
          "text": [
            "x_test shape: (594, 224, 224, 3)\n"
          ]
        }
      ]
    },
    {
      "cell_type": "markdown",
      "source": [
        "Vrši se predikcija klasa novih slika, pomoću **model.predict**. Podaci dobijeni prilikom predikcije ubacuju se u *y_test*."
      ],
      "metadata": {
        "id": "yWDFmubTHaui"
      }
    },
    {
      "cell_type": "code",
      "source": [
        "# Klasifikacija novih slika\n",
        "y_test = model.predict(x_test)"
      ],
      "metadata": {
        "colab": {
          "base_uri": "https://localhost:8080/"
        },
        "id": "PzcnfpmoHbF1",
        "outputId": "ea4fae64-7167-4abc-d938-38fd07cbba33"
      },
      "execution_count": 40,
      "outputs": [
        {
          "output_type": "stream",
          "name": "stdout",
          "text": [
            "19/19 [==============================] - 7s 375ms/step\n"
          ]
        }
      ]
    },
    {
      "cell_type": "markdown",
      "source": [
        "Prikazan je jedan primer slike, i naziva klase dobijenog nakon upotrebe modela sa novim setom slika."
      ],
      "metadata": {
        "id": "pExWWiKp7xQV"
      }
    },
    {
      "cell_type": "code",
      "source": [
        "# Verovatnoće klasa za prvu test sliku\n",
        "print(y_test[0])\n",
        "\n",
        "# Prva test slika\n",
        "plt.imshow(x_test[0])\n",
        "plt.title(classes_names[np.argmax(y_test[0])])\n",
        "plt.axis('off')"
      ],
      "metadata": {
        "colab": {
          "base_uri": "https://localhost:8080/",
          "height": 879
        },
        "id": "Y6KPoDlW6Hwe",
        "outputId": "5a8ae0f6-be6a-4a63-8439-89288c4ebe18"
      },
      "execution_count": 41,
      "outputs": [
        {
          "output_type": "stream",
          "name": "stdout",
          "text": [
            "[9.81828634e-07 1.29611499e-06 1.90639895e-07 1.01674654e-04\n",
            " 1.92243235e-07 1.65716347e-08 2.77813160e-06 1.24164662e-05\n",
            " 2.30602363e-05 5.80832449e-08 2.08668985e-06 5.05554340e-07\n",
            " 1.34896736e-05 1.12264601e-07 1.84497626e-08 8.39247605e-09\n",
            " 3.39172850e-08 2.70886716e-07 9.19265020e-08 2.46814000e-08\n",
            " 8.25399837e-09 7.89479415e-08 3.79612031e-09 1.33692724e-09\n",
            " 4.90775207e-08 1.67589917e-07 2.32410198e-08 7.23899305e-08\n",
            " 7.26188105e-08 9.62674349e-08 4.57121132e-07 7.13403324e-06\n",
            " 1.83239067e-07 6.11328869e-05 1.49972621e-08 3.59592207e-07\n",
            " 3.18406393e-07 2.11372289e-08 1.83725490e-07 1.33638984e-08\n",
            " 1.46600962e-06 2.90301585e-07 6.73271217e-08 6.71204759e-07\n",
            " 2.48145113e-08 3.41122650e-05 1.99672522e-05 1.05969747e-07\n",
            " 2.62579825e-08 3.90585200e-08 1.31573952e-05 9.99115169e-01\n",
            " 6.22282369e-06 6.87458794e-07 2.13831049e-06 1.34061781e-06\n",
            " 4.75747555e-07 9.14314224e-09 1.94887662e-06 5.16910603e-08\n",
            " 5.39743132e-06 1.20333095e-06 6.57858800e-06 4.37217182e-07\n",
            " 2.16801072e-06 5.97322947e-09 2.06996174e-06 1.76495530e-06\n",
            " 1.05406919e-07 5.71951873e-08 3.92247799e-08 1.02724973e-09\n",
            " 1.08987495e-08 6.13937573e-07 2.14271189e-04 6.10651441e-08\n",
            " 6.41683116e-08 1.41001501e-05 1.21730807e-07 3.20924228e-05\n",
            " 2.38960752e-07 5.36393088e-07 7.99306861e-08 2.45037227e-04\n",
            " 1.79580802e-05 1.33150735e-08 9.90916789e-08 2.03592236e-07\n",
            " 5.10792233e-07 2.97937333e-07 2.23068383e-07 1.72887866e-07\n",
            " 5.73285934e-06 2.60684942e-07 9.87825857e-08 6.62027091e-08\n",
            " 1.92103944e-05 3.56779879e-07 1.28986528e-07]\n"
          ]
        },
        {
          "output_type": "execute_result",
          "data": {
            "text/plain": [
              "(-0.5, 223.5, 223.5, -0.5)"
            ]
          },
          "metadata": {},
          "execution_count": 41
        },
        {
          "output_type": "display_data",
          "data": {
            "text/plain": [
              "<Figure size 640x480 with 1 Axes>"
            ],
            "image/png": "[encoded data removed]"
          },
          "metadata": {}
        }
      ]
    },
    {
      "cell_type": "markdown",
      "source": [
        "Ovako kreiran model se može koristiti za klasifikaciju crno-belih slika lišća u 99 kategorija, sa preciznošću od oko 85-90%."
      ],
      "metadata": {
        "id": "aYtILVgzH98-"
      }
    },
    {
      "cell_type": "markdown",
      "source": [
        "## **7. Zaključak**"
      ],
      "metadata": {
        "id": "T7nY9zzBO6Pu"
      }
    },
    {
      "cell_type": "markdown",
      "source": [
        "Napravljen je model za klasifikaciju crno-belih fotografija lišća, koji kao osnovu sadrži slojeve koji su deo **VGG16** modela. Izdvojeni su i prerađeni podaci, koji su upotrebljeni za treniranje i validaciju modela. Analizirana je preciznost modela i testiran je njegov rad sa novim podacima.\n",
        "\n",
        "Ovakav model se kasnije može dodatno doraditi i trenirati sa novim i augmentovanim podacima, kako bi se postigla još veća preciznost i robusnost modela, neophodna za upotrebu u realnim slučajevima klasifikacije lišća."
      ],
      "metadata": {
        "id": "80gnq0yCPFZb"
      }
    },
    {
      "cell_type": "markdown",
      "source": [
        "## **8. Literatura**"
      ],
      "metadata": {
        "id": "aVUhegwUO8-x"
      }
    },
    {
      "cell_type": "markdown",
      "source": [
        "[Vežbanke iz predmeta Principi prezentacije i prepoznavanja oblika](https://github.com/MarkoArsenovic/PPPO2021/blob/main/Vezbe08.ipynb)\n",
        "\n",
        "[Beginner’s Guide to VGG16 Implementation in Keras](https://builtin.com/machine-learning/vgg16)\n",
        "\n",
        "[Why Keras Is the Leading Deep Learning API](https://builtin.com/artificial-intelligence/why-keras-leading-deep-learning-api)\n",
        "\n",
        "[Keras API Documentation](https://keras.io/api/)"
      ],
      "metadata": {
        "id": "rVAEwTJxPF8W"
      }
    }
  ]
}