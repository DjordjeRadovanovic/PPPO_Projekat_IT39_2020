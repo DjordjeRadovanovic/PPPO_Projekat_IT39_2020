{
  "nbformat": 4,
  "nbformat_minor": 0,
  "metadata": {
    "colab": {
      "provenance": [],
      "authorship_tag": "ABX9TyPZU0jsywNPoGsyJjDoE8f8",
      "include_colab_link": true
    },
    "kernelspec": {
      "name": "python3",
      "display_name": "Python 3"
    },
    "language_info": {
      "name": "python"
    }
  },
  "cells": [
    {
      "cell_type": "markdown",
      "metadata": {
        "id": "view-in-github",
        "colab_type": "text"
      },
      "source": [
        "<a href=\"https://colab.research.google.com/github/DjordjeRadovanovic/PPPO_Projekat_IT39_2020/blob/main/PPPO_Projekat_IT39_2020.ipynb\" target=\"_parent\"><img src=\"https://colab.research.google.com/assets/colab-badge.svg\" alt=\"Open In Colab\"/></a>"
      ]
    },
    {
      "cell_type": "markdown",
      "source": [
        "# **Principi prezentacije i prepoznavanja oblika 2023/2024**"
      ],
      "metadata": {
        "id": "zcLjyarQJLt0"
      }
    },
    {
      "cell_type": "markdown",
      "source": [
        "\n",
        "**Đorđe Radovanović IT39/2020**\n",
        "\n",
        "**Tema:** Klasifikacija lišća"
      ],
      "metadata": {
        "id": "0kAgPujZJNai"
      }
    },
    {
      "cell_type": "markdown",
      "source": [
        "## **Sadržaj**"
      ],
      "metadata": {
        "id": "j_JONDQdLEmZ"
      }
    },
    {
      "cell_type": "markdown",
      "source": [
        "1. Uvod\n",
        "2. Tema\n",
        "3. Učitavanje dataseta\n",
        "4. Projekat\n",
        "5. Zaključak\n",
        "6. Literatura"
      ],
      "metadata": {
        "id": "paZPrjO1Ley8"
      }
    },
    {
      "cell_type": "markdown",
      "source": [
        "## **1. Uvod**"
      ],
      "metadata": {
        "id": "RUM2CE-kNhwy"
      }
    },
    {
      "cell_type": "markdown",
      "source": [],
      "metadata": {
        "id": "fvemCeeoNsdw"
      }
    },
    {
      "cell_type": "markdown",
      "source": [
        "## **2. Metodologija**"
      ],
      "metadata": {
        "id": "hiB5VHRqNxt4"
      }
    },
    {
      "cell_type": "markdown",
      "source": [],
      "metadata": {
        "id": "xHqpSRS3N3dg"
      }
    },
    {
      "cell_type": "markdown",
      "source": [
        "## **3. Učitavanje dataseta**"
      ],
      "metadata": {
        "id": "EWQ2Og6uOhRd"
      }
    },
    {
      "cell_type": "markdown",
      "source": [
        "Prvi korak je učitavanje seta podataka koji će se koristiti prilikom treniranja modela. Da bi se to uradilo, neophodno je skinuti .zip fajl koji sadrži sve potrebne podatke, pomoću **wget** komande."
      ],
      "metadata": {
        "id": "U2RZTv0QPCzG"
      }
    },
    {
      "cell_type": "code",
      "source": [
        "!wget --no-check-certificate 'https://drive.usercontent.google.com/download?id=1r4yy2ZIUGoyESydQzY39L-0s8ld7fuXr&confirm=xxx' -O Leaf_Classification.zip"
      ],
      "metadata": {
        "colab": {
          "base_uri": "https://localhost:8080/"
        },
        "id": "kM-259_HNp-7",
        "outputId": "d7739823-01f6-4fdf-a867-589b165f18c7"
      },
      "execution_count": 5,
      "outputs": [
        {
          "output_type": "stream",
          "name": "stdout",
          "text": [
            "--2024-06-16 20:27:57--  https://drive.usercontent.google.com/download?id=1r4yy2ZIUGoyESydQzY39L-0s8ld7fuXr&confirm=xxx\n",
            "Resolving drive.usercontent.google.com (drive.usercontent.google.com)... 74.125.134.132, 2607:f8b0:400c:c00::84\n",
            "Connecting to drive.usercontent.google.com (drive.usercontent.google.com)|74.125.134.132|:443... connected.\n",
            "HTTP request sent, awaiting response... 200 OK\n",
            "Length: 35953027 (34M) [application/octet-stream]\n",
            "Saving to: ‘Leaf_Classification.zip’\n",
            "\n",
            "Leaf_Classification 100%[===================>]  34.29M  64.9MB/s    in 0.5s    \n",
            "\n",
            "2024-06-16 20:27:58 (64.9 MB/s) - ‘Leaf_Classification.zip’ saved [35953027/35953027]\n",
            "\n"
          ]
        }
      ]
    },
    {
      "cell_type": "markdown",
      "source": [
        "Kada je Leaf_Classification.zip fajl skinut, potrebno je izvršiti dekompresiju podataka. To radimo pomoću **unzip** komande."
      ],
      "metadata": {
        "id": "4XXuaOm2PA4t"
      }
    },
    {
      "cell_type": "code",
      "source": [
        "!unzip Leaf_Classification.zip"
      ],
      "metadata": {
        "colab": {
          "base_uri": "https://localhost:8080/"
        },
        "id": "kfy0z1NAPWrK",
        "outputId": "a0c2c366-620f-4084-f972-5af2c765a9c8"
      },
      "execution_count": 6,
      "outputs": [
        {
          "output_type": "stream",
          "name": "stdout",
          "text": [
            "Archive:  Leaf_Classification.zip\n",
            "replace images.zip? [y]es, [n]o, [A]ll, [N]one, [r]ename: "
          ]
        }
      ]
    },
    {
      "cell_type": "markdown",
      "source": [
        "Možemo uočiti da se u Leaf_Classification.zip fajlu nalaze još 4 posebna .zip fajla: *images.zip*, *sample_submission.csv.zip*, *train.csv.zip* i *test.csv.zip*. Analizom sadržaja ovih fajlova utvrđeno je da neće trebati *sample_submission.csv.zip*. Stoga, ponovićemo **unzip**, ali samo za ostala tri .zip fajla."
      ],
      "metadata": {
        "id": "r5tpKgVRPW_N"
      }
    },
    {
      "cell_type": "code",
      "source": [
        "!unzip -qq images.zip\n",
        "!unzip -qq train.csv.zip\n",
        "!unzip -qq test.csv.zip"
      ],
      "metadata": {
        "id": "H4Jv2I54RS-3",
        "outputId": "1d464efa-ecdc-4179-bd56-104401327817",
        "colab": {
          "base_uri": "https://localhost:8080/"
        }
      },
      "execution_count": 7,
      "outputs": [
        {
          "output_type": "stream",
          "name": "stdout",
          "text": [
            "replace images/1.jpg? [y]es, [n]o, [A]ll, [N]one, [r]ename: y\n",
            "replace images/10.jpg? [y]es, [n]o, [A]ll, [N]one, [r]ename: y\n",
            "replace images/100.jpg? [y]es, [n]o, [A]ll, [N]one, [r]ename: replace train.csv? [y]es, [n]o, [A]ll, [N]one, [r]ename: replace test.csv? [y]es, [n]o, [A]ll, [N]one, [r]ename: "
          ]
        }
      ]
    },
    {
      "cell_type": "markdown",
      "source": [
        "Sada imamo sve podatke raspakovane i spremne za korišćenje u daljem radu. Sledeći korak je pisanje samog koda za pripremu podataka, generisanje, treniranje i testiranje modela."
      ],
      "metadata": {
        "id": "XX3pU-8jTaD8"
      }
    },
    {
      "cell_type": "markdown",
      "source": [
        "## **4. Projekat**"
      ],
      "metadata": {
        "id": "qYqCozqjOh2N"
      }
    },
    {
      "cell_type": "markdown",
      "source": [
        "Prva stvar koju je potrebno uraditi je importovanje svih neophodnih biblioteka za projekat. Potrebno je koristiti **pandas** biblioteku za Python, koja ima DataFrame dvodimenzionalnu strukturu podataka koju možemo koristiti za predstavljanje tabelarnih CSV podataka. Takođe je potrebno koristiti **NumPy** biblioteku za matematičke operacije nad prosleđenim podacima.\n",
        "\n",
        "VGG16 model možemo preuzeti iz **Keras** biblioteke, koja se koristi u svrhe mašinskog učenja. **Keras** biblioteka sadrži veliki broj modela, uključujuči i VGG16, koji će se koristiti. **Keras** koristi TensorFlow backend."
      ],
      "metadata": {
        "id": "OhAzqow9PEuq"
      }
    },
    {
      "cell_type": "code",
      "source": [
        "# Importovanje neophodnih biblioteka\n",
        "import keras\n",
        "import pandas as pd\n",
        "import numpy as np\n",
        "from PIL import Image\n",
        "from sklearn.model_selection import train_test_split\n",
        "from sklearn.preprocessing import LabelEncoder\n",
        "from keras.applications import VGG16\n",
        "from keras.models import Model\n",
        "from keras.layers import Dense, Flatten, Dropout\n",
        "from keras.optimizers import Adam\n",
        "from keras.preprocessing.image import ImageDataGenerator"
      ],
      "metadata": {
        "id": "BidhFKo0ihEL"
      },
      "execution_count": null,
      "outputs": []
    },
    {
      "cell_type": "markdown",
      "source": [
        "Sledeći korak je učitavanje i sređivanje CSV podataka iz train.csv fajla. Učitavanje se vrši pomoću read_csv funkcije iz pandas paketa."
      ],
      "metadata": {
        "id": "LCULRVGki6lJ"
      }
    },
    {
      "cell_type": "code",
      "source": [
        "# Učitavanje podataka iz train.csv u train_data DataFrame\n",
        "train_data = pd.read_csv('train.csv')\n",
        "\n",
        "# Prikazivanje svih kolona\n",
        "train_data.columns"
      ],
      "metadata": {
        "colab": {
          "base_uri": "https://localhost:8080/"
        },
        "id": "nGuov_qsjtFs",
        "outputId": "0faa328e-d68f-45cf-de0c-a8a74f0a4d81"
      },
      "execution_count": null,
      "outputs": [
        {
          "output_type": "execute_result",
          "data": {
            "text/plain": [
              "Index(['id', 'species', 'margin1', 'margin2', 'margin3', 'margin4', 'margin5',\n",
              "       'margin6', 'margin7', 'margin8',\n",
              "       ...\n",
              "       'texture55', 'texture56', 'texture57', 'texture58', 'texture59',\n",
              "       'texture60', 'texture61', 'texture62', 'texture63', 'texture64'],\n",
              "      dtype='object', length=194)"
            ]
          },
          "metadata": {},
          "execution_count": 18
        }
      ]
    },
    {
      "cell_type": "markdown",
      "source": [
        "Vidimo da ima veliki broj kolona - marginX kolone, shapeX kolone, textureX kolone. Kako nisu potrebne za ovaj projekat, možemo ih izbaciti."
      ],
      "metadata": {
        "id": "PKpdnBwvm59u"
      }
    },
    {
      "cell_type": "code",
      "source": [
        "# Brisanje nepotrebnih kolona\n",
        "i = 1\n",
        "while i <= 64:\n",
        "  del train_data['margin' + str(i)]\n",
        "  del train_data['shape' + str(i)]\n",
        "  del train_data['texture' + str(i)]\n",
        "  i = i + 1\n",
        "\n",
        "# Prikazivanje svih kolona\n",
        "train_data.columns"
      ],
      "metadata": {
        "colab": {
          "base_uri": "https://localhost:8080/"
        },
        "id": "gCE3VT4EnDtQ",
        "outputId": "97f2fd07-f6b9-4260-ba72-ffda7105388e"
      },
      "execution_count": null,
      "outputs": [
        {
          "output_type": "execute_result",
          "data": {
            "text/plain": [
              "Index(['id', 'species'], dtype='object')"
            ]
          },
          "metadata": {},
          "execution_count": 19
        }
      ]
    },
    {
      "cell_type": "markdown",
      "source": [
        "Sada imamo samo dve kolone, **id** (koja predstavlja sliku u /images, poput 1.png), i **species** (klasa datog lista sa slike). Poslednja stvar koju treba odraditi je brisanje redova sa null vrednostima, ukoliko ih ima."
      ],
      "metadata": {
        "id": "HXWhCkx6pNSm"
      }
    },
    {
      "cell_type": "code",
      "source": [
        "# Broj redova pre brisanja null vrednosti\n",
        "print(train_data.shape[0])\n",
        "\n",
        "# Brisanje redova sa null vrednostima\n",
        "train_data.dropna()\n",
        "\n",
        "# Broj redova nakon brisanja null vrednosti\n",
        "print(train_data.shape[0])"
      ],
      "metadata": {
        "colab": {
          "base_uri": "https://localhost:8080/"
        },
        "id": "j-uRiLrJqo6K",
        "outputId": "26994136-1f1d-4a28-cc57-f4d260c235eb"
      },
      "execution_count": null,
      "outputs": [
        {
          "output_type": "stream",
          "name": "stdout",
          "text": [
            "990\n",
            "990\n"
          ]
        }
      ]
    },
    {
      "cell_type": "markdown",
      "source": [
        "Sada možemo dodati slike u train_data dataframe. To možemo obaviti kreiranjem nove kolone gde slika u koloni odgovara ID-ju (\"1 -> images/1.jpg\"). Potrebno je koristiti funkcije za manipulaciju slikama iz **Python Image Library** (**PIL**) biblioteke.\n",
        "\n",
        "**VGG16** zahteva upotrebu 224x224 slika, pa se slike već u ovom koraku mogu prilagoditi datom formatu."
      ],
      "metadata": {
        "id": "5IEElRcsrKRJ"
      }
    },
    {
      "cell_type": "code",
      "source": [
        "# Pretvaranje slike u NumPy array\n",
        "def image_column(id):\n",
        "  img = Image.open(f'images/{id}.jpg')\n",
        "  img = img.resize((224, 224))          # 224x224 dimenzije\n",
        "  return np.asarray(img)\n",
        "\n",
        "# Dodavanje nove kolone sa slikom koja odgovara koloni 'id'\n",
        "train_data['img'] = train_data['id'].apply(image_column)\n",
        "\n",
        "# Primer slike\n",
        "train_data['img'][0]"
      ],
      "metadata": {
        "id": "q-fl5Mpjs2vH",
        "colab": {
          "base_uri": "https://localhost:8080/",
          "height": 265
        },
        "outputId": "0f2d1b17-abf7-4aa7-95e2-231380563aa4"
      },
      "execution_count": null,
      "outputs": [
        {
          "output_type": "execute_result",
          "data": {
            "text/plain": [
              "array([[0, 0, 0, ..., 0, 0, 0],\n",
              "       [0, 0, 0, ..., 0, 0, 0],\n",
              "       [0, 0, 0, ..., 0, 0, 0],\n",
              "       ...,\n",
              "       [0, 0, 0, ..., 0, 0, 0],\n",
              "       [0, 0, 0, ..., 0, 0, 0],\n",
              "       [0, 0, 0, ..., 0, 0, 0]], dtype=uint8)"
            ],
            "text/html": [
              "<style>\n",
              "      .ndarray_repr .ndarray_raw_data {\n",
              "        display: none;\n",
              "      }\n",
              "      .ndarray_repr.show_array .ndarray_raw_data {\n",
              "        display: block;\n",
              "      }\n",
              "      .ndarray_repr.show_array .ndarray_image_preview {\n",
              "        display: none;\n",
              "      }\n",
              "      </style>\n",
              "      <div id=\"id-2ea5c43b-b08c-4a1b-b2d5-62c56488d4c8\" class=\"ndarray_repr\"><pre>ndarray (224, 224) <button style=\"padding: 0 2px;\">show data</button></pre><img src=\"data:image/png;base64,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\" class=\"ndarray_image_preview\" /><pre class=\"ndarray_raw_data\">array([[0, 0, 0, ..., 0, 0, 0],\n",
              "       [0, 0, 0, ..., 0, 0, 0],\n",
              "       [0, 0, 0, ..., 0, 0, 0],\n",
              "       ...,\n",
              "       [0, 0, 0, ..., 0, 0, 0],\n",
              "       [0, 0, 0, ..., 0, 0, 0],\n",
              "       [0, 0, 0, ..., 0, 0, 0]], dtype=uint8)</pre></div><script>\n",
              "      (() => {\n",
              "      const titles = ['show data', 'hide data'];\n",
              "      let index = 0\n",
              "      document.querySelector('#id-2ea5c43b-b08c-4a1b-b2d5-62c56488d4c8 button').onclick = (e) => {\n",
              "        document.querySelector('#id-2ea5c43b-b08c-4a1b-b2d5-62c56488d4c8').classList.toggle('show_array');\n",
              "        index = (++index) % 2;\n",
              "        document.querySelector('#id-2ea5c43b-b08c-4a1b-b2d5-62c56488d4c8 button').textContent = titles[index];\n",
              "        e.preventDefault();\n",
              "        e.stopPropagation();\n",
              "      }\n",
              "      })();\n",
              "    </script>"
            ]
          },
          "metadata": {},
          "execution_count": 22
        }
      ]
    },
    {
      "cell_type": "markdown",
      "source": [
        "Podaci su sada u formatu koji je potreban za treniranje **VGG16** modela. Ostalo je da ih podelimo na dva dela, na podatke za treniranje i podatke za validaciju (kako bismo utvrdili da model ima odgovarajuću tačnost predikcije klasifikacije).\n",
        "\n",
        "Podelu vršimo putem **train_test_split** funkcije iz biblioteke **sklearn**."
      ],
      "metadata": {
        "id": "lLoIP3nls3K-"
      }
    },
    {
      "cell_type": "code",
      "source": [
        "# Podela na podatke za treniranje i podatke za validaciju (odnos 80:20)\n",
        "train_df, val_df = train_test_split(train_data, test_size=0.2, random_state=42)"
      ],
      "metadata": {
        "id": "TLiZy2Sbuc3i"
      },
      "execution_count": null,
      "outputs": []
    },
    {
      "cell_type": "markdown",
      "source": [
        "Sada imamo potpuno spremne dataframe-ove koje ćemo koristiti za treniranje i validaciju modela. Možemo uraditi sličan postupak za podatke koji će se koristiti za predikciju/testiranje modela."
      ],
      "metadata": {
        "id": "qEp4U_3AueLc"
      }
    },
    {
      "cell_type": "code",
      "source": [
        "# Učitavanje podataka iz test.csv u test_df DataFrame\n",
        "test_df = pd.read_csv('test.csv')\n",
        "\n",
        "# Brisanje nepotrebnih kolona\n",
        "i = 1\n",
        "while i <= 64:\n",
        "  del test_df['margin' + str(i)]\n",
        "  del test_df['shape' + str(i)]\n",
        "  del test_df['texture' + str(i)]\n",
        "  i = i + 1\n",
        "\n",
        "# Dodavanje nove kolone sa slikom koja odgovara koloni 'id'\n",
        "test_df['img'] = test_df['id'].apply(image_column)\n",
        "\n",
        "test_df"
      ],
      "metadata": {
        "id": "8EvhwnJXu_Uk",
        "colab": {
          "base_uri": "https://localhost:8080/",
          "height": 423
        },
        "outputId": "1ff0dc54-0f6c-42d6-b804-abaf985bc822"
      },
      "execution_count": null,
      "outputs": [
        {
          "output_type": "execute_result",
          "data": {
            "text/plain": [
              "       id                                                img\n",
              "0       4  [[0, 0, 0, 0, 0, 0, 0, 0, 0, 0, 0, 0, 0, 0, 0,...\n",
              "1       7  [[0, 0, 0, 0, 0, 0, 0, 0, 0, 0, 0, 0, 0, 0, 0,...\n",
              "2       9  [[0, 0, 0, 0, 0, 0, 0, 0, 0, 0, 0, 0, 0, 0, 0,...\n",
              "3      12  [[0, 0, 0, 0, 0, 0, 0, 0, 0, 0, 0, 0, 0, 0, 0,...\n",
              "4      13  [[0, 0, 0, 0, 0, 0, 0, 0, 0, 0, 0, 0, 0, 0, 0,...\n",
              "..    ...                                                ...\n",
              "589  1576  [[0, 0, 0, 0, 0, 0, 0, 0, 0, 0, 0, 0, 0, 0, 0,...\n",
              "590  1577  [[0, 0, 0, 0, 0, 0, 0, 0, 0, 0, 0, 0, 0, 0, 0,...\n",
              "591  1579  [[0, 0, 0, 0, 0, 0, 0, 0, 0, 0, 0, 0, 0, 0, 0,...\n",
              "592  1580  [[0, 0, 0, 0, 0, 0, 0, 0, 0, 0, 0, 0, 0, 0, 0,...\n",
              "593  1583  [[0, 0, 0, 0, 0, 0, 0, 0, 0, 0, 0, 0, 0, 0, 0,...\n",
              "\n",
              "[594 rows x 2 columns]"
            ],
            "text/html": [
              "\n",
              "  <div id=\"df-4de43243-6478-4712-b6ab-638ed7574af8\" class=\"colab-df-container\">\n",
              "    <div>\n",
              "<style scoped>\n",
              "    .dataframe tbody tr th:only-of-type {\n",
              "        vertical-align: middle;\n",
              "    }\n",
              "\n",
              "    .dataframe tbody tr th {\n",
              "        vertical-align: top;\n",
              "    }\n",
              "\n",
              "    .dataframe thead th {\n",
              "        text-align: right;\n",
              "    }\n",
              "</style>\n",
              "<table border=\"1\" class=\"dataframe\">\n",
              "  <thead>\n",
              "    <tr style=\"text-align: right;\">\n",
              "      <th></th>\n",
              "      <th>id</th>\n",
              "      <th>img</th>\n",
              "    </tr>\n",
              "  </thead>\n",
              "  <tbody>\n",
              "    <tr>\n",
              "      <th>0</th>\n",
              "      <td>4</td>\n",
              "      <td>[[0, 0, 0, 0, 0, 0, 0, 0, 0, 0, 0, 0, 0, 0, 0,...</td>\n",
              "    </tr>\n",
              "    <tr>\n",
              "      <th>1</th>\n",
              "      <td>7</td>\n",
              "      <td>[[0, 0, 0, 0, 0, 0, 0, 0, 0, 0, 0, 0, 0, 0, 0,...</td>\n",
              "    </tr>\n",
              "    <tr>\n",
              "      <th>2</th>\n",
              "      <td>9</td>\n",
              "      <td>[[0, 0, 0, 0, 0, 0, 0, 0, 0, 0, 0, 0, 0, 0, 0,...</td>\n",
              "    </tr>\n",
              "    <tr>\n",
              "      <th>3</th>\n",
              "      <td>12</td>\n",
              "      <td>[[0, 0, 0, 0, 0, 0, 0, 0, 0, 0, 0, 0, 0, 0, 0,...</td>\n",
              "    </tr>\n",
              "    <tr>\n",
              "      <th>4</th>\n",
              "      <td>13</td>\n",
              "      <td>[[0, 0, 0, 0, 0, 0, 0, 0, 0, 0, 0, 0, 0, 0, 0,...</td>\n",
              "    </tr>\n",
              "    <tr>\n",
              "      <th>...</th>\n",
              "      <td>...</td>\n",
              "      <td>...</td>\n",
              "    </tr>\n",
              "    <tr>\n",
              "      <th>589</th>\n",
              "      <td>1576</td>\n",
              "      <td>[[0, 0, 0, 0, 0, 0, 0, 0, 0, 0, 0, 0, 0, 0, 0,...</td>\n",
              "    </tr>\n",
              "    <tr>\n",
              "      <th>590</th>\n",
              "      <td>1577</td>\n",
              "      <td>[[0, 0, 0, 0, 0, 0, 0, 0, 0, 0, 0, 0, 0, 0, 0,...</td>\n",
              "    </tr>\n",
              "    <tr>\n",
              "      <th>591</th>\n",
              "      <td>1579</td>\n",
              "      <td>[[0, 0, 0, 0, 0, 0, 0, 0, 0, 0, 0, 0, 0, 0, 0,...</td>\n",
              "    </tr>\n",
              "    <tr>\n",
              "      <th>592</th>\n",
              "      <td>1580</td>\n",
              "      <td>[[0, 0, 0, 0, 0, 0, 0, 0, 0, 0, 0, 0, 0, 0, 0,...</td>\n",
              "    </tr>\n",
              "    <tr>\n",
              "      <th>593</th>\n",
              "      <td>1583</td>\n",
              "      <td>[[0, 0, 0, 0, 0, 0, 0, 0, 0, 0, 0, 0, 0, 0, 0,...</td>\n",
              "    </tr>\n",
              "  </tbody>\n",
              "</table>\n",
              "<p>594 rows × 2 columns</p>\n",
              "</div>\n",
              "    <div class=\"colab-df-buttons\">\n",
              "\n",
              "  <div class=\"colab-df-container\">\n",
              "    <button class=\"colab-df-convert\" onclick=\"convertToInteractive('df-4de43243-6478-4712-b6ab-638ed7574af8')\"\n",
              "            title=\"Convert this dataframe to an interactive table.\"\n",
              "            style=\"display:none;\">\n",
              "\n",
              "  <svg xmlns=\"http://www.w3.org/2000/svg\" height=\"24px\" viewBox=\"0 -960 960 960\">\n",
              "    <path d=\"M120-120v-720h720v720H120Zm60-500h600v-160H180v160Zm220 220h160v-160H400v160Zm0 220h160v-160H400v160ZM180-400h160v-160H180v160Zm440 0h160v-160H620v160ZM180-180h160v-160H180v160Zm440 0h160v-160H620v160Z\"/>\n",
              "  </svg>\n",
              "    </button>\n",
              "\n",
              "  <style>\n",
              "    .colab-df-container {\n",
              "      display:flex;\n",
              "      gap: 12px;\n",
              "    }\n",
              "\n",
              "    .colab-df-convert {\n",
              "      background-color: #E8F0FE;\n",
              "      border: none;\n",
              "      border-radius: 50%;\n",
              "      cursor: pointer;\n",
              "      display: none;\n",
              "      fill: #1967D2;\n",
              "      height: 32px;\n",
              "      padding: 0 0 0 0;\n",
              "      width: 32px;\n",
              "    }\n",
              "\n",
              "    .colab-df-convert:hover {\n",
              "      background-color: #E2EBFA;\n",
              "      box-shadow: 0px 1px 2px rgba(60, 64, 67, 0.3), 0px 1px 3px 1px rgba(60, 64, 67, 0.15);\n",
              "      fill: #174EA6;\n",
              "    }\n",
              "\n",
              "    .colab-df-buttons div {\n",
              "      margin-bottom: 4px;\n",
              "    }\n",
              "\n",
              "    [theme=dark] .colab-df-convert {\n",
              "      background-color: #3B4455;\n",
              "      fill: #D2E3FC;\n",
              "    }\n",
              "\n",
              "    [theme=dark] .colab-df-convert:hover {\n",
              "      background-color: #434B5C;\n",
              "      box-shadow: 0px 1px 3px 1px rgba(0, 0, 0, 0.15);\n",
              "      filter: drop-shadow(0px 1px 2px rgba(0, 0, 0, 0.3));\n",
              "      fill: #FFFFFF;\n",
              "    }\n",
              "  </style>\n",
              "\n",
              "    <script>\n",
              "      const buttonEl =\n",
              "        document.querySelector('#df-4de43243-6478-4712-b6ab-638ed7574af8 button.colab-df-convert');\n",
              "      buttonEl.style.display =\n",
              "        google.colab.kernel.accessAllowed ? 'block' : 'none';\n",
              "\n",
              "      async function convertToInteractive(key) {\n",
              "        const element = document.querySelector('#df-4de43243-6478-4712-b6ab-638ed7574af8');\n",
              "        const dataTable =\n",
              "          await google.colab.kernel.invokeFunction('convertToInteractive',\n",
              "                                                    [key], {});\n",
              "        if (!dataTable) return;\n",
              "\n",
              "        const docLinkHtml = 'Like what you see? Visit the ' +\n",
              "          '<a target=\"_blank\" href=https://colab.research.google.com/notebooks/data_table.ipynb>data table notebook</a>'\n",
              "          + ' to learn more about interactive tables.';\n",
              "        element.innerHTML = '';\n",
              "        dataTable['output_type'] = 'display_data';\n",
              "        await google.colab.output.renderOutput(dataTable, element);\n",
              "        const docLink = document.createElement('div');\n",
              "        docLink.innerHTML = docLinkHtml;\n",
              "        element.appendChild(docLink);\n",
              "      }\n",
              "    </script>\n",
              "  </div>\n",
              "\n",
              "\n",
              "<div id=\"df-a3ed8162-d4ae-452a-a116-1093660f66ba\">\n",
              "  <button class=\"colab-df-quickchart\" onclick=\"quickchart('df-a3ed8162-d4ae-452a-a116-1093660f66ba')\"\n",
              "            title=\"Suggest charts\"\n",
              "            style=\"display:none;\">\n",
              "\n",
              "<svg xmlns=\"http://www.w3.org/2000/svg\" height=\"24px\"viewBox=\"0 0 24 24\"\n",
              "     width=\"24px\">\n",
              "    <g>\n",
              "        <path d=\"M19 3H5c-1.1 0-2 .9-2 2v14c0 1.1.9 2 2 2h14c1.1 0 2-.9 2-2V5c0-1.1-.9-2-2-2zM9 17H7v-7h2v7zm4 0h-2V7h2v10zm4 0h-2v-4h2v4z\"/>\n",
              "    </g>\n",
              "</svg>\n",
              "  </button>\n",
              "\n",
              "<style>\n",
              "  .colab-df-quickchart {\n",
              "      --bg-color: #E8F0FE;\n",
              "      --fill-color: #1967D2;\n",
              "      --hover-bg-color: #E2EBFA;\n",
              "      --hover-fill-color: #174EA6;\n",
              "      --disabled-fill-color: #AAA;\n",
              "      --disabled-bg-color: #DDD;\n",
              "  }\n",
              "\n",
              "  [theme=dark] .colab-df-quickchart {\n",
              "      --bg-color: #3B4455;\n",
              "      --fill-color: #D2E3FC;\n",
              "      --hover-bg-color: #434B5C;\n",
              "      --hover-fill-color: #FFFFFF;\n",
              "      --disabled-bg-color: #3B4455;\n",
              "      --disabled-fill-color: #666;\n",
              "  }\n",
              "\n",
              "  .colab-df-quickchart {\n",
              "    background-color: var(--bg-color);\n",
              "    border: none;\n",
              "    border-radius: 50%;\n",
              "    cursor: pointer;\n",
              "    display: none;\n",
              "    fill: var(--fill-color);\n",
              "    height: 32px;\n",
              "    padding: 0;\n",
              "    width: 32px;\n",
              "  }\n",
              "\n",
              "  .colab-df-quickchart:hover {\n",
              "    background-color: var(--hover-bg-color);\n",
              "    box-shadow: 0 1px 2px rgba(60, 64, 67, 0.3), 0 1px 3px 1px rgba(60, 64, 67, 0.15);\n",
              "    fill: var(--button-hover-fill-color);\n",
              "  }\n",
              "\n",
              "  .colab-df-quickchart-complete:disabled,\n",
              "  .colab-df-quickchart-complete:disabled:hover {\n",
              "    background-color: var(--disabled-bg-color);\n",
              "    fill: var(--disabled-fill-color);\n",
              "    box-shadow: none;\n",
              "  }\n",
              "\n",
              "  .colab-df-spinner {\n",
              "    border: 2px solid var(--fill-color);\n",
              "    border-color: transparent;\n",
              "    border-bottom-color: var(--fill-color);\n",
              "    animation:\n",
              "      spin 1s steps(1) infinite;\n",
              "  }\n",
              "\n",
              "  @keyframes spin {\n",
              "    0% {\n",
              "      border-color: transparent;\n",
              "      border-bottom-color: var(--fill-color);\n",
              "      border-left-color: var(--fill-color);\n",
              "    }\n",
              "    20% {\n",
              "      border-color: transparent;\n",
              "      border-left-color: var(--fill-color);\n",
              "      border-top-color: var(--fill-color);\n",
              "    }\n",
              "    30% {\n",
              "      border-color: transparent;\n",
              "      border-left-color: var(--fill-color);\n",
              "      border-top-color: var(--fill-color);\n",
              "      border-right-color: var(--fill-color);\n",
              "    }\n",
              "    40% {\n",
              "      border-color: transparent;\n",
              "      border-right-color: var(--fill-color);\n",
              "      border-top-color: var(--fill-color);\n",
              "    }\n",
              "    60% {\n",
              "      border-color: transparent;\n",
              "      border-right-color: var(--fill-color);\n",
              "    }\n",
              "    80% {\n",
              "      border-color: transparent;\n",
              "      border-right-color: var(--fill-color);\n",
              "      border-bottom-color: var(--fill-color);\n",
              "    }\n",
              "    90% {\n",
              "      border-color: transparent;\n",
              "      border-bottom-color: var(--fill-color);\n",
              "    }\n",
              "  }\n",
              "</style>\n",
              "\n",
              "  <script>\n",
              "    async function quickchart(key) {\n",
              "      const quickchartButtonEl =\n",
              "        document.querySelector('#' + key + ' button');\n",
              "      quickchartButtonEl.disabled = true;  // To prevent multiple clicks.\n",
              "      quickchartButtonEl.classList.add('colab-df-spinner');\n",
              "      try {\n",
              "        const charts = await google.colab.kernel.invokeFunction(\n",
              "            'suggestCharts', [key], {});\n",
              "      } catch (error) {\n",
              "        console.error('Error during call to suggestCharts:', error);\n",
              "      }\n",
              "      quickchartButtonEl.classList.remove('colab-df-spinner');\n",
              "      quickchartButtonEl.classList.add('colab-df-quickchart-complete');\n",
              "    }\n",
              "    (() => {\n",
              "      let quickchartButtonEl =\n",
              "        document.querySelector('#df-a3ed8162-d4ae-452a-a116-1093660f66ba button');\n",
              "      quickchartButtonEl.style.display =\n",
              "        google.colab.kernel.accessAllowed ? 'block' : 'none';\n",
              "    })();\n",
              "  </script>\n",
              "</div>\n",
              "    </div>\n",
              "  </div>\n"
            ],
            "application/vnd.google.colaboratory.intrinsic+json": {
              "type": "dataframe",
              "variable_name": "test_df",
              "summary": "{\n  \"name\": \"test_df\",\n  \"rows\": 594,\n  \"fields\": [\n    {\n      \"column\": \"id\",\n      \"properties\": {\n        \"dtype\": \"number\",\n        \"std\": 465,\n        \"min\": 4,\n        \"max\": 1583,\n        \"num_unique_values\": 594,\n        \"samples\": [\n          89,\n          781,\n          448\n        ],\n        \"semantic_type\": \"\",\n        \"description\": \"\"\n      }\n    },\n    {\n      \"column\": \"img\",\n      \"properties\": {\n        \"dtype\": \"object\",\n        \"semantic_type\": \"\",\n        \"description\": \"\"\n      }\n    }\n  ]\n}"
            }
          },
          "metadata": {},
          "execution_count": 23
        }
      ]
    },
    {
      "cell_type": "markdown",
      "source": [
        "Sada smo dobili tri vrste podataka:\n",
        "\n",
        "* **train_df** - Podaci za treniranje modela\n",
        "* **val_df** - Podaci za validaciju modela\n",
        "* **test_df** - Podaci za testiranje modela\n",
        "\n",
        "Nakon sređivanja i čišćenja podataka, sledeći korak je priprema **VGG16** modela."
      ],
      "metadata": {
        "id": "UJ7kOs1nu_yO"
      }
    },
    {
      "cell_type": "markdown",
      "source": [],
      "metadata": {
        "id": "NL86006vot4v"
      }
    },
    {
      "cell_type": "code",
      "source": [
        "# Importovanje neophodnih biblioteka\n",
        "import keras\n",
        "import pandas as pd\n",
        "import numpy as np\n",
        "#from sklearn.model_selection import train_test_split\n",
        "from sklearn.preprocessing import LabelEncoder\n",
        "from keras.applications import VGG16\n",
        "from keras.models import Model\n",
        "from keras.layers import Dense, Flatten, Dropout\n",
        "from keras.optimizers import Adam\n",
        "#from keras.applications.vgg16 import preprocess_input\n",
        "#from keras.preprocessing import image\n",
        "import os\n",
        "from PIL import Image\n",
        "import matplotlib.pyplot as plt\n",
        "\n",
        "# Učitavanje podataka iz train.csv u train_df DataFrame\n",
        "train_df = pd.read_csv('train.csv')\n",
        "\n",
        "# Definisanje direktorijuma sa slikama\n",
        "img_dir = 'images/'\n",
        "\n",
        "# Učitavanje i predprocesiranje slika\n",
        "def load_and_preprocess_image(image_path):\n",
        "    img = Image.open(image_path)\n",
        "    img = img.resize((224, 224))\n",
        "    img_array = np.asarray(img)\n",
        "    img_array = img_array / 255.0\n",
        "    return img_array\n",
        "\n",
        "# Kreiranje listi sa podacima za treniranje modela\n",
        "x_train = []\n",
        "y_train = []\n",
        "\n",
        "# Popunjavanje x_train i y_train listi\n",
        "for index, row in train_df.iterrows():\n",
        "    id = row['id']\n",
        "    species = row['species']\n",
        "    img_path = os.path.join(img_dir, f'{id}.jpg')\n",
        "\n",
        "    # Učitavanje i sređivanje slike\n",
        "    img = load_and_preprocess_image(img_path)\n",
        "\n",
        "    # Dodavanje slike u x_train listu\n",
        "    x_train.append(img)\n",
        "\n",
        "    # Dodavanje klase u y_train listu\n",
        "    y_train.append(species)\n",
        "\n",
        "# Provera x_train i y_train\n",
        "print('x_train[0] shape:', x_train[0].shape)\n",
        "print('y_train[0]:', y_train[0])\n",
        "\n",
        "x_new = []\n",
        "for image in x_train:\n",
        "    img_array = np.asarray(image)\n",
        "    x_new.append(img_array)\n",
        "x_train = np.array(x_new)\n",
        "\n",
        "# Konverzija x_train u odgovarajući oblik - iz (990, 224, 224) u (990, 224, 224, 3)\n",
        "x_train = np.repeat(x_train[..., np.newaxis], 3, axis=-1)\n",
        "\n",
        "# Transformacija labela u numeričke vrednosti, za output\n",
        "classes = y_train   #Da bismo sačuvali nazive klasa\n",
        "y_train = LabelEncoder().fit_transform(y_train)\n",
        "y_train = np.array(y_train)\n",
        "\n",
        "# Prikaz oblika x_train i y_train\n",
        "print('x_train shape:', x_train.shape)\n",
        "print('y_train shape:', y_train.shape)\n",
        "\n",
        "# Dobijanje ukupnog broja klasa\n",
        "num_classes = train_df['species'].unique().size\n",
        "print('Broj klasa: ', num_classes)\n",
        "\n",
        "########################################################################\n",
        "\n",
        "# Konfiguracija VGG16\n",
        "vgg_conv = VGG16(weights='imagenet', include_top=False, input_shape=(224, 224, 3))\n",
        "\n",
        "# Onemogućavanje treniranja slojeva VGG16 modela\n",
        "for layer in vgg_conv.layers[:-2]:\n",
        "    layer.trainable = False\n",
        "\n",
        "for layer in vgg_conv.layers:\n",
        "    print(layer, layer.trainable)\n",
        "\n",
        "# Kreiranje modela - sekvencijalni\n",
        "model = keras.Sequential()\n",
        "\n",
        "# Dodavanje VGG16 slojeva u model\n",
        "model.add(vgg_conv)\n",
        "\n",
        "# Dodavanje novih slojeva u model\n",
        "model.add(Flatten())\n",
        "model.add(Dense(1024, activation='relu'))\n",
        "model.add(Dropout(0.5))\n",
        "model.add(Dense(num_classes, activation='softmax'))\n",
        "\n",
        "# Prikazivanje podataka o modelu koji je kreiran\n",
        "model.summary()\n",
        "\n",
        "# Kompilacija modela\n",
        "model.compile(optimizer=Adam(learning_rate=0.001), loss='sparse_categorical_crossentropy', metrics=['accuracy'])\n",
        "\n",
        "# Treniranje modela\n",
        "history = model.fit(x_train, y_train, epochs=15, validation_split=0.2, batch_size=32)\n",
        "\n",
        "# Čuvanje modela\n",
        "#model.save('model.keras')\n",
        "\n",
        "# Krive tačnosti i gubitaka\n",
        "acc = history.history['accuracy']\n",
        "val_acc = history.history['val_accuracy']\n",
        "loss = history.history['loss']\n",
        "val_loss = history.history['val_loss']\n",
        "\n",
        "epochs = range(len(acc))\n",
        "\n",
        "# Prikaz tačnosti treninga i validacije\n",
        "# Prikaz gubitka treninga i validacije\n",
        "\n",
        "plt.figure(figsize=(20,10))\n",
        "plt.subplots_adjust(left=0, right=1, bottom=0, top=0.95, wspace=0.05, hspace=0)\n",
        "plt.subplot(121)\n",
        "plt.plot(epochs, acc, 'b', label='Training accuracy')\n",
        "plt.plot(epochs, val_acc, 'r', label='Validation accuracy')\n",
        "plt.title('Training and validation accuracy', size=20)\n",
        "plt.legend(prop={'size': 10})\n",
        "plt.grid()\n",
        "plt.subplot(122)\n",
        "plt.plot(epochs, loss, 'b', label='Training loss')\n",
        "plt.plot(epochs, val_loss, 'r', label='Validation loss')\n",
        "plt.title('Training and validation loss', size=20)\n",
        "plt.legend(prop={'size': 10})\n",
        "plt.grid()\n",
        "plt.show()\n",
        "\n",
        "########################################################################\n",
        "\n",
        "# Učitavanje podataka iz test.csv u test_df DataFrame\n",
        "test_df = pd.read_csv('test.csv')\n",
        "\n",
        "# Kreiranje x_test podataka za predikciju\n",
        "x_test = []\n",
        "\n",
        "# Popunjavanje x_test liste\n",
        "for index, row in test_df.iterrows():\n",
        "    id = int(row['id'])                               # bugfix\n",
        "    img_path = os.path.join(img_dir, f'{id}.jpg')\n",
        "    img = load_and_preprocess_image(img_path)\n",
        "    x_test.append(img)\n",
        "\n",
        "x_new = []\n",
        "for image in x_test:\n",
        "    img_array = np.asarray(image)\n",
        "    x_new.append(img_array)\n",
        "x_test = np.array(x_new)\n",
        "\n",
        "# Konverzija x_test u odgovarajući oblik - iz (594, 224, 224) u (594, 224, 224, 3)\n",
        "x_test = np.repeat(x_test[..., np.newaxis], 3, axis=-1)\n",
        "\n",
        "# Prikaz oblika x_test\n",
        "print('x_test shape:', x_test.shape)\n",
        "\n",
        "# Klasifikacija novih slika\n",
        "y_test = model.predict(x_test)"
      ],
      "metadata": {
        "colab": {
          "base_uri": "https://localhost:8080/",
          "height": 1000
        },
        "id": "FVyrsYJIoudx",
        "outputId": "0ae39791-20ad-493c-9398-a5f76112c25a"
      },
      "execution_count": 1,
      "outputs": [
        {
          "metadata": {
            "tags": null
          },
          "name": "stdout",
          "output_type": "stream",
          "text": [
            "x_train[0] shape: (224, 224)\n",
            "y_train[0]: Acer_Opalus\n",
            "x_train shape: (990, 224, 224, 3)\n",
            "y_train shape: (990,)\n",
            "Broj klasa:  99\n",
            "Downloading data from https://storage.googleapis.com/tensorflow/keras-applications/vgg16/vgg16_weights_tf_dim_ordering_tf_kernels_notop.h5\n",
            "58889256/58889256 [==============================] - 0s 0us/step\n",
            "<keras.src.engine.input_layer.InputLayer object at 0x7c1466e0f220> False\n",
            "<keras.src.layers.convolutional.conv2d.Conv2D object at 0x7c1466700220> False\n",
            "<keras.src.layers.convolutional.conv2d.Conv2D object at 0x7c14667009a0> False\n",
            "<keras.src.layers.pooling.max_pooling2d.MaxPooling2D object at 0x7c14667017b0> False\n",
            "<keras.src.layers.convolutional.conv2d.Conv2D object at 0x7c1466701f90> False\n",
            "<keras.src.layers.convolutional.conv2d.Conv2D object at 0x7c14667026e0> False\n",
            "<keras.src.layers.pooling.max_pooling2d.MaxPooling2D object at 0x7c14667027a0> False\n",
            "<keras.src.layers.convolutional.conv2d.Conv2D object at 0x7c1466703f70> False\n",
            "<keras.src.layers.convolutional.conv2d.Conv2D object at 0x7c1466701b40> False\n",
            "<keras.src.layers.convolutional.conv2d.Conv2D object at 0x7c1465ddcfa0> False\n",
            "<keras.src.layers.pooling.max_pooling2d.MaxPooling2D object at 0x7c1465dde080> False\n",
            "<keras.src.layers.convolutional.conv2d.Conv2D object at 0x7c1465dde8f0> False\n",
            "<keras.src.layers.convolutional.conv2d.Conv2D object at 0x7c1465ddf010> False\n",
            "<keras.src.layers.convolutional.conv2d.Conv2D object at 0x7c1465dde5f0> False\n",
            "<keras.src.layers.pooling.max_pooling2d.MaxPooling2D object at 0x7c1465ddecb0> False\n",
            "<keras.src.layers.convolutional.conv2d.Conv2D object at 0x7c1465ddfd30> False\n",
            "<keras.src.layers.convolutional.conv2d.Conv2D object at 0x7c1465df1540> False\n",
            "<keras.src.layers.convolutional.conv2d.Conv2D object at 0x7c1465df1cf0> True\n",
            "<keras.src.layers.pooling.max_pooling2d.MaxPooling2D object at 0x7c1465df31f0> True\n",
            "Model: \"sequential\"\n",
            "_________________________________________________________________\n",
            " Layer (type)                Output Shape              Param #   \n",
            "=================================================================\n",
            " vgg16 (Functional)          (None, 7, 7, 512)         14714688  \n",
            "                                                                 \n",
            " flatten (Flatten)           (None, 25088)             0         \n",
            "                                                                 \n",
            " dense (Dense)               (None, 1024)              25691136  \n",
            "                                                                 \n",
            " dropout (Dropout)           (None, 1024)              0         \n",
            "                                                                 \n",
            " dense_1 (Dense)             (None, 99)                101475    \n",
            "                                                                 \n",
            "=================================================================\n",
            "Total params: 40507299 (154.52 MB)\n",
            "Trainable params: 28152419 (107.39 MB)\n",
            "Non-trainable params: 12354880 (47.13 MB)\n",
            "_________________________________________________________________\n",
            "Epoch 1/15\n",
            "25/25 [==============================] - ETA: 0s - loss: 4.4404 - accuracy: 0.1439 "
          ]
        },
        {
          "output_type": "error",
          "ename": "KeyboardInterrupt",
          "evalue": "",
          "traceback": [
            "\u001b[0;31m---------------------------------------------------------------------------\u001b[0m",
            "\u001b[0;31mKeyboardInterrupt\u001b[0m                         Traceback (most recent call last)",
            "\u001b[0;32m<ipython-input-1-2c39fa9e4928>\u001b[0m in \u001b[0;36m<cell line: 107>\u001b[0;34m()\u001b[0m\n\u001b[1;32m    105\u001b[0m \u001b[0;34m\u001b[0m\u001b[0m\n\u001b[1;32m    106\u001b[0m \u001b[0;31m# Treniranje modela\u001b[0m\u001b[0;34m\u001b[0m\u001b[0;34m\u001b[0m\u001b[0m\n\u001b[0;32m--> 107\u001b[0;31m \u001b[0mhistory\u001b[0m \u001b[0;34m=\u001b[0m \u001b[0mmodel\u001b[0m\u001b[0;34m.\u001b[0m\u001b[0mfit\u001b[0m\u001b[0;34m(\u001b[0m\u001b[0mx_train\u001b[0m\u001b[0;34m,\u001b[0m \u001b[0my_train\u001b[0m\u001b[0;34m,\u001b[0m \u001b[0mepochs\u001b[0m\u001b[0;34m=\u001b[0m\u001b[0;36m15\u001b[0m\u001b[0;34m,\u001b[0m \u001b[0mvalidation_split\u001b[0m\u001b[0;34m=\u001b[0m\u001b[0;36m0.2\u001b[0m\u001b[0;34m,\u001b[0m \u001b[0mbatch_size\u001b[0m\u001b[0;34m=\u001b[0m\u001b[0;36m32\u001b[0m\u001b[0;34m)\u001b[0m\u001b[0;34m\u001b[0m\u001b[0;34m\u001b[0m\u001b[0m\n\u001b[0m\u001b[1;32m    108\u001b[0m \u001b[0;34m\u001b[0m\u001b[0m\n\u001b[1;32m    109\u001b[0m \u001b[0;31m# Čuvanje modela\u001b[0m\u001b[0;34m\u001b[0m\u001b[0;34m\u001b[0m\u001b[0m\n",
            "\u001b[0;32m/usr/local/lib/python3.10/dist-packages/keras/src/utils/traceback_utils.py\u001b[0m in \u001b[0;36merror_handler\u001b[0;34m(*args, **kwargs)\u001b[0m\n\u001b[1;32m     63\u001b[0m         \u001b[0mfiltered_tb\u001b[0m \u001b[0;34m=\u001b[0m \u001b[0;32mNone\u001b[0m\u001b[0;34m\u001b[0m\u001b[0;34m\u001b[0m\u001b[0m\n\u001b[1;32m     64\u001b[0m         \u001b[0;32mtry\u001b[0m\u001b[0;34m:\u001b[0m\u001b[0;34m\u001b[0m\u001b[0;34m\u001b[0m\u001b[0m\n\u001b[0;32m---> 65\u001b[0;31m             \u001b[0;32mreturn\u001b[0m \u001b[0mfn\u001b[0m\u001b[0;34m(\u001b[0m\u001b[0;34m*\u001b[0m\u001b[0margs\u001b[0m\u001b[0;34m,\u001b[0m \u001b[0;34m**\u001b[0m\u001b[0mkwargs\u001b[0m\u001b[0;34m)\u001b[0m\u001b[0;34m\u001b[0m\u001b[0;34m\u001b[0m\u001b[0m\n\u001b[0m\u001b[1;32m     66\u001b[0m         \u001b[0;32mexcept\u001b[0m \u001b[0mException\u001b[0m \u001b[0;32mas\u001b[0m \u001b[0me\u001b[0m\u001b[0;34m:\u001b[0m\u001b[0;34m\u001b[0m\u001b[0;34m\u001b[0m\u001b[0m\n\u001b[1;32m     67\u001b[0m             \u001b[0mfiltered_tb\u001b[0m \u001b[0;34m=\u001b[0m \u001b[0m_process_traceback_frames\u001b[0m\u001b[0;34m(\u001b[0m\u001b[0me\u001b[0m\u001b[0;34m.\u001b[0m\u001b[0m__traceback__\u001b[0m\u001b[0;34m)\u001b[0m\u001b[0;34m\u001b[0m\u001b[0;34m\u001b[0m\u001b[0m\n",
            "\u001b[0;32m/usr/local/lib/python3.10/dist-packages/keras/src/engine/training.py\u001b[0m in \u001b[0;36mfit\u001b[0;34m(self, x, y, batch_size, epochs, verbose, callbacks, validation_split, validation_data, shuffle, class_weight, sample_weight, initial_epoch, steps_per_epoch, validation_steps, validation_batch_size, validation_freq, max_queue_size, workers, use_multiprocessing)\u001b[0m\n\u001b[1;32m   1854\u001b[0m                             \u001b[0mpss_evaluation_shards\u001b[0m\u001b[0;34m=\u001b[0m\u001b[0mself\u001b[0m\u001b[0;34m.\u001b[0m\u001b[0m_pss_evaluation_shards\u001b[0m\u001b[0;34m,\u001b[0m\u001b[0;34m\u001b[0m\u001b[0;34m\u001b[0m\u001b[0m\n\u001b[1;32m   1855\u001b[0m                         )\n\u001b[0;32m-> 1856\u001b[0;31m                     val_logs = self.evaluate(\n\u001b[0m\u001b[1;32m   1857\u001b[0m                         \u001b[0mx\u001b[0m\u001b[0;34m=\u001b[0m\u001b[0mval_x\u001b[0m\u001b[0;34m,\u001b[0m\u001b[0;34m\u001b[0m\u001b[0;34m\u001b[0m\u001b[0m\n\u001b[1;32m   1858\u001b[0m                         \u001b[0my\u001b[0m\u001b[0;34m=\u001b[0m\u001b[0mval_y\u001b[0m\u001b[0;34m,\u001b[0m\u001b[0;34m\u001b[0m\u001b[0;34m\u001b[0m\u001b[0m\n",
            "\u001b[0;32m/usr/local/lib/python3.10/dist-packages/keras/src/utils/traceback_utils.py\u001b[0m in \u001b[0;36merror_handler\u001b[0;34m(*args, **kwargs)\u001b[0m\n\u001b[1;32m     63\u001b[0m         \u001b[0mfiltered_tb\u001b[0m \u001b[0;34m=\u001b[0m \u001b[0;32mNone\u001b[0m\u001b[0;34m\u001b[0m\u001b[0;34m\u001b[0m\u001b[0m\n\u001b[1;32m     64\u001b[0m         \u001b[0;32mtry\u001b[0m\u001b[0;34m:\u001b[0m\u001b[0;34m\u001b[0m\u001b[0;34m\u001b[0m\u001b[0m\n\u001b[0;32m---> 65\u001b[0;31m             \u001b[0;32mreturn\u001b[0m \u001b[0mfn\u001b[0m\u001b[0;34m(\u001b[0m\u001b[0;34m*\u001b[0m\u001b[0margs\u001b[0m\u001b[0;34m,\u001b[0m \u001b[0;34m**\u001b[0m\u001b[0mkwargs\u001b[0m\u001b[0;34m)\u001b[0m\u001b[0;34m\u001b[0m\u001b[0;34m\u001b[0m\u001b[0m\n\u001b[0m\u001b[1;32m     66\u001b[0m         \u001b[0;32mexcept\u001b[0m \u001b[0mException\u001b[0m \u001b[0;32mas\u001b[0m \u001b[0me\u001b[0m\u001b[0;34m:\u001b[0m\u001b[0;34m\u001b[0m\u001b[0;34m\u001b[0m\u001b[0m\n\u001b[1;32m     67\u001b[0m             \u001b[0mfiltered_tb\u001b[0m \u001b[0;34m=\u001b[0m \u001b[0m_process_traceback_frames\u001b[0m\u001b[0;34m(\u001b[0m\u001b[0me\u001b[0m\u001b[0;34m.\u001b[0m\u001b[0m__traceback__\u001b[0m\u001b[0;34m)\u001b[0m\u001b[0;34m\u001b[0m\u001b[0;34m\u001b[0m\u001b[0m\n",
            "\u001b[0;32m/usr/local/lib/python3.10/dist-packages/keras/src/engine/training.py\u001b[0m in \u001b[0;36mevaluate\u001b[0;34m(self, x, y, batch_size, verbose, sample_weight, steps, callbacks, max_queue_size, workers, use_multiprocessing, return_dict, **kwargs)\u001b[0m\n\u001b[1;32m   2294\u001b[0m                         ):\n\u001b[1;32m   2295\u001b[0m                             \u001b[0mcallbacks\u001b[0m\u001b[0;34m.\u001b[0m\u001b[0mon_test_batch_begin\u001b[0m\u001b[0;34m(\u001b[0m\u001b[0mstep\u001b[0m\u001b[0;34m)\u001b[0m\u001b[0;34m\u001b[0m\u001b[0;34m\u001b[0m\u001b[0m\n\u001b[0;32m-> 2296\u001b[0;31m                             logs = test_function_runner.run_step(\n\u001b[0m\u001b[1;32m   2297\u001b[0m                                 \u001b[0mdataset_or_iterator\u001b[0m\u001b[0;34m,\u001b[0m\u001b[0;34m\u001b[0m\u001b[0;34m\u001b[0m\u001b[0m\n\u001b[1;32m   2298\u001b[0m                                 \u001b[0mdata_handler\u001b[0m\u001b[0;34m,\u001b[0m\u001b[0;34m\u001b[0m\u001b[0;34m\u001b[0m\u001b[0m\n",
            "\u001b[0;32m/usr/local/lib/python3.10/dist-packages/keras/src/engine/training.py\u001b[0m in \u001b[0;36mrun_step\u001b[0;34m(self, dataset_or_iterator, data_handler, step, unused_shards)\u001b[0m\n\u001b[1;32m   4106\u001b[0m \u001b[0;34m\u001b[0m\u001b[0m\n\u001b[1;32m   4107\u001b[0m     \u001b[0;32mdef\u001b[0m \u001b[0mrun_step\u001b[0m\u001b[0;34m(\u001b[0m\u001b[0mself\u001b[0m\u001b[0;34m,\u001b[0m \u001b[0mdataset_or_iterator\u001b[0m\u001b[0;34m,\u001b[0m \u001b[0mdata_handler\u001b[0m\u001b[0;34m,\u001b[0m \u001b[0mstep\u001b[0m\u001b[0;34m,\u001b[0m \u001b[0munused_shards\u001b[0m\u001b[0;34m)\u001b[0m\u001b[0;34m:\u001b[0m\u001b[0;34m\u001b[0m\u001b[0;34m\u001b[0m\u001b[0m\n\u001b[0;32m-> 4108\u001b[0;31m         \u001b[0mtmp_logs\u001b[0m \u001b[0;34m=\u001b[0m \u001b[0mself\u001b[0m\u001b[0;34m.\u001b[0m\u001b[0m_function\u001b[0m\u001b[0;34m(\u001b[0m\u001b[0mdataset_or_iterator\u001b[0m\u001b[0;34m)\u001b[0m\u001b[0;34m\u001b[0m\u001b[0;34m\u001b[0m\u001b[0m\n\u001b[0m\u001b[1;32m   4109\u001b[0m         \u001b[0;32mif\u001b[0m \u001b[0mdata_handler\u001b[0m\u001b[0;34m.\u001b[0m\u001b[0mshould_sync\u001b[0m\u001b[0;34m:\u001b[0m\u001b[0;34m\u001b[0m\u001b[0;34m\u001b[0m\u001b[0m\n\u001b[1;32m   4110\u001b[0m             \u001b[0mcontext\u001b[0m\u001b[0;34m.\u001b[0m\u001b[0masync_wait\u001b[0m\u001b[0;34m(\u001b[0m\u001b[0;34m)\u001b[0m\u001b[0;34m\u001b[0m\u001b[0;34m\u001b[0m\u001b[0m\n",
            "\u001b[0;32m/usr/local/lib/python3.10/dist-packages/tensorflow/python/util/traceback_utils.py\u001b[0m in \u001b[0;36merror_handler\u001b[0;34m(*args, **kwargs)\u001b[0m\n\u001b[1;32m    148\u001b[0m     \u001b[0mfiltered_tb\u001b[0m \u001b[0;34m=\u001b[0m \u001b[0;32mNone\u001b[0m\u001b[0;34m\u001b[0m\u001b[0;34m\u001b[0m\u001b[0m\n\u001b[1;32m    149\u001b[0m     \u001b[0;32mtry\u001b[0m\u001b[0;34m:\u001b[0m\u001b[0;34m\u001b[0m\u001b[0;34m\u001b[0m\u001b[0m\n\u001b[0;32m--> 150\u001b[0;31m       \u001b[0;32mreturn\u001b[0m \u001b[0mfn\u001b[0m\u001b[0;34m(\u001b[0m\u001b[0;34m*\u001b[0m\u001b[0margs\u001b[0m\u001b[0;34m,\u001b[0m \u001b[0;34m**\u001b[0m\u001b[0mkwargs\u001b[0m\u001b[0;34m)\u001b[0m\u001b[0;34m\u001b[0m\u001b[0;34m\u001b[0m\u001b[0m\n\u001b[0m\u001b[1;32m    151\u001b[0m     \u001b[0;32mexcept\u001b[0m \u001b[0mException\u001b[0m \u001b[0;32mas\u001b[0m \u001b[0me\u001b[0m\u001b[0;34m:\u001b[0m\u001b[0;34m\u001b[0m\u001b[0;34m\u001b[0m\u001b[0m\n\u001b[1;32m    152\u001b[0m       \u001b[0mfiltered_tb\u001b[0m \u001b[0;34m=\u001b[0m \u001b[0m_process_traceback_frames\u001b[0m\u001b[0;34m(\u001b[0m\u001b[0me\u001b[0m\u001b[0;34m.\u001b[0m\u001b[0m__traceback__\u001b[0m\u001b[0;34m)\u001b[0m\u001b[0;34m\u001b[0m\u001b[0;34m\u001b[0m\u001b[0m\n",
            "\u001b[0;32m/usr/local/lib/python3.10/dist-packages/tensorflow/python/eager/polymorphic_function/polymorphic_function.py\u001b[0m in \u001b[0;36m__call__\u001b[0;34m(self, *args, **kwds)\u001b[0m\n\u001b[1;32m    830\u001b[0m \u001b[0;34m\u001b[0m\u001b[0m\n\u001b[1;32m    831\u001b[0m       \u001b[0;32mwith\u001b[0m \u001b[0mOptionalXlaContext\u001b[0m\u001b[0;34m(\u001b[0m\u001b[0mself\u001b[0m\u001b[0;34m.\u001b[0m\u001b[0m_jit_compile\u001b[0m\u001b[0;34m)\u001b[0m\u001b[0;34m:\u001b[0m\u001b[0;34m\u001b[0m\u001b[0;34m\u001b[0m\u001b[0m\n\u001b[0;32m--> 832\u001b[0;31m         \u001b[0mresult\u001b[0m \u001b[0;34m=\u001b[0m \u001b[0mself\u001b[0m\u001b[0;34m.\u001b[0m\u001b[0m_call\u001b[0m\u001b[0;34m(\u001b[0m\u001b[0;34m*\u001b[0m\u001b[0margs\u001b[0m\u001b[0;34m,\u001b[0m \u001b[0;34m**\u001b[0m\u001b[0mkwds\u001b[0m\u001b[0;34m)\u001b[0m\u001b[0;34m\u001b[0m\u001b[0;34m\u001b[0m\u001b[0m\n\u001b[0m\u001b[1;32m    833\u001b[0m \u001b[0;34m\u001b[0m\u001b[0m\n\u001b[1;32m    834\u001b[0m       \u001b[0mnew_tracing_count\u001b[0m \u001b[0;34m=\u001b[0m \u001b[0mself\u001b[0m\u001b[0;34m.\u001b[0m\u001b[0mexperimental_get_tracing_count\u001b[0m\u001b[0;34m(\u001b[0m\u001b[0;34m)\u001b[0m\u001b[0;34m\u001b[0m\u001b[0;34m\u001b[0m\u001b[0m\n",
            "\u001b[0;32m/usr/local/lib/python3.10/dist-packages/tensorflow/python/eager/polymorphic_function/polymorphic_function.py\u001b[0m in \u001b[0;36m_call\u001b[0;34m(self, *args, **kwds)\u001b[0m\n\u001b[1;32m    875\u001b[0m       \u001b[0;31m# In this case we have not created variables on the first call. So we can\u001b[0m\u001b[0;34m\u001b[0m\u001b[0;34m\u001b[0m\u001b[0m\n\u001b[1;32m    876\u001b[0m       \u001b[0;31m# run the first trace but we should fail if variables are created.\u001b[0m\u001b[0;34m\u001b[0m\u001b[0;34m\u001b[0m\u001b[0m\n\u001b[0;32m--> 877\u001b[0;31m       results = tracing_compilation.call_function(\n\u001b[0m\u001b[1;32m    878\u001b[0m           \u001b[0margs\u001b[0m\u001b[0;34m,\u001b[0m \u001b[0mkwds\u001b[0m\u001b[0;34m,\u001b[0m \u001b[0mself\u001b[0m\u001b[0;34m.\u001b[0m\u001b[0m_variable_creation_config\u001b[0m\u001b[0;34m\u001b[0m\u001b[0;34m\u001b[0m\u001b[0m\n\u001b[1;32m    879\u001b[0m       )\n",
            "\u001b[0;32m/usr/local/lib/python3.10/dist-packages/tensorflow/python/eager/polymorphic_function/tracing_compilation.py\u001b[0m in \u001b[0;36mcall_function\u001b[0;34m(args, kwargs, tracing_options)\u001b[0m\n\u001b[1;32m    137\u001b[0m   \u001b[0mbound_args\u001b[0m \u001b[0;34m=\u001b[0m \u001b[0mfunction\u001b[0m\u001b[0;34m.\u001b[0m\u001b[0mfunction_type\u001b[0m\u001b[0;34m.\u001b[0m\u001b[0mbind\u001b[0m\u001b[0;34m(\u001b[0m\u001b[0;34m*\u001b[0m\u001b[0margs\u001b[0m\u001b[0;34m,\u001b[0m \u001b[0;34m**\u001b[0m\u001b[0mkwargs\u001b[0m\u001b[0;34m)\u001b[0m\u001b[0;34m\u001b[0m\u001b[0;34m\u001b[0m\u001b[0m\n\u001b[1;32m    138\u001b[0m   \u001b[0mflat_inputs\u001b[0m \u001b[0;34m=\u001b[0m \u001b[0mfunction\u001b[0m\u001b[0;34m.\u001b[0m\u001b[0mfunction_type\u001b[0m\u001b[0;34m.\u001b[0m\u001b[0munpack_inputs\u001b[0m\u001b[0;34m(\u001b[0m\u001b[0mbound_args\u001b[0m\u001b[0;34m)\u001b[0m\u001b[0;34m\u001b[0m\u001b[0;34m\u001b[0m\u001b[0m\n\u001b[0;32m--> 139\u001b[0;31m   return function._call_flat(  # pylint: disable=protected-access\n\u001b[0m\u001b[1;32m    140\u001b[0m       \u001b[0mflat_inputs\u001b[0m\u001b[0;34m,\u001b[0m \u001b[0mcaptured_inputs\u001b[0m\u001b[0;34m=\u001b[0m\u001b[0mfunction\u001b[0m\u001b[0;34m.\u001b[0m\u001b[0mcaptured_inputs\u001b[0m\u001b[0;34m\u001b[0m\u001b[0;34m\u001b[0m\u001b[0m\n\u001b[1;32m    141\u001b[0m   )\n",
            "\u001b[0;32m/usr/local/lib/python3.10/dist-packages/tensorflow/python/eager/polymorphic_function/concrete_function.py\u001b[0m in \u001b[0;36m_call_flat\u001b[0;34m(self, tensor_inputs, captured_inputs)\u001b[0m\n\u001b[1;32m   1321\u001b[0m         and executing_eagerly):\n\u001b[1;32m   1322\u001b[0m       \u001b[0;31m# No tape is watching; skip to running the function.\u001b[0m\u001b[0;34m\u001b[0m\u001b[0;34m\u001b[0m\u001b[0m\n\u001b[0;32m-> 1323\u001b[0;31m       \u001b[0;32mreturn\u001b[0m \u001b[0mself\u001b[0m\u001b[0;34m.\u001b[0m\u001b[0m_inference_function\u001b[0m\u001b[0;34m.\u001b[0m\u001b[0mcall_preflattened\u001b[0m\u001b[0;34m(\u001b[0m\u001b[0margs\u001b[0m\u001b[0;34m)\u001b[0m\u001b[0;34m\u001b[0m\u001b[0;34m\u001b[0m\u001b[0m\n\u001b[0m\u001b[1;32m   1324\u001b[0m     forward_backward = self._select_forward_and_backward_functions(\n\u001b[1;32m   1325\u001b[0m         \u001b[0margs\u001b[0m\u001b[0;34m,\u001b[0m\u001b[0;34m\u001b[0m\u001b[0;34m\u001b[0m\u001b[0m\n",
            "\u001b[0;32m/usr/local/lib/python3.10/dist-packages/tensorflow/python/eager/polymorphic_function/atomic_function.py\u001b[0m in \u001b[0;36mcall_preflattened\u001b[0;34m(self, args)\u001b[0m\n\u001b[1;32m    214\u001b[0m   \u001b[0;32mdef\u001b[0m \u001b[0mcall_preflattened\u001b[0m\u001b[0;34m(\u001b[0m\u001b[0mself\u001b[0m\u001b[0;34m,\u001b[0m \u001b[0margs\u001b[0m\u001b[0;34m:\u001b[0m \u001b[0mSequence\u001b[0m\u001b[0;34m[\u001b[0m\u001b[0mcore\u001b[0m\u001b[0;34m.\u001b[0m\u001b[0mTensor\u001b[0m\u001b[0;34m]\u001b[0m\u001b[0;34m)\u001b[0m \u001b[0;34m->\u001b[0m \u001b[0mAny\u001b[0m\u001b[0;34m:\u001b[0m\u001b[0;34m\u001b[0m\u001b[0;34m\u001b[0m\u001b[0m\n\u001b[1;32m    215\u001b[0m     \u001b[0;34m\"\"\"Calls with flattened tensor inputs and returns the structured output.\"\"\"\u001b[0m\u001b[0;34m\u001b[0m\u001b[0;34m\u001b[0m\u001b[0m\n\u001b[0;32m--> 216\u001b[0;31m     \u001b[0mflat_outputs\u001b[0m \u001b[0;34m=\u001b[0m \u001b[0mself\u001b[0m\u001b[0;34m.\u001b[0m\u001b[0mcall_flat\u001b[0m\u001b[0;34m(\u001b[0m\u001b[0;34m*\u001b[0m\u001b[0margs\u001b[0m\u001b[0;34m)\u001b[0m\u001b[0;34m\u001b[0m\u001b[0;34m\u001b[0m\u001b[0m\n\u001b[0m\u001b[1;32m    217\u001b[0m     \u001b[0;32mreturn\u001b[0m \u001b[0mself\u001b[0m\u001b[0;34m.\u001b[0m\u001b[0mfunction_type\u001b[0m\u001b[0;34m.\u001b[0m\u001b[0mpack_output\u001b[0m\u001b[0;34m(\u001b[0m\u001b[0mflat_outputs\u001b[0m\u001b[0;34m)\u001b[0m\u001b[0;34m\u001b[0m\u001b[0;34m\u001b[0m\u001b[0m\n\u001b[1;32m    218\u001b[0m \u001b[0;34m\u001b[0m\u001b[0m\n",
            "\u001b[0;32m/usr/local/lib/python3.10/dist-packages/tensorflow/python/eager/polymorphic_function/atomic_function.py\u001b[0m in \u001b[0;36mcall_flat\u001b[0;34m(self, *args)\u001b[0m\n\u001b[1;32m    249\u001b[0m         \u001b[0;32mwith\u001b[0m \u001b[0mrecord\u001b[0m\u001b[0;34m.\u001b[0m\u001b[0mstop_recording\u001b[0m\u001b[0;34m(\u001b[0m\u001b[0;34m)\u001b[0m\u001b[0;34m:\u001b[0m\u001b[0;34m\u001b[0m\u001b[0;34m\u001b[0m\u001b[0m\n\u001b[1;32m    250\u001b[0m           \u001b[0;32mif\u001b[0m \u001b[0mself\u001b[0m\u001b[0;34m.\u001b[0m\u001b[0m_bound_context\u001b[0m\u001b[0;34m.\u001b[0m\u001b[0mexecuting_eagerly\u001b[0m\u001b[0;34m(\u001b[0m\u001b[0;34m)\u001b[0m\u001b[0;34m:\u001b[0m\u001b[0;34m\u001b[0m\u001b[0;34m\u001b[0m\u001b[0m\n\u001b[0;32m--> 251\u001b[0;31m             outputs = self._bound_context.call_function(\n\u001b[0m\u001b[1;32m    252\u001b[0m                 \u001b[0mself\u001b[0m\u001b[0;34m.\u001b[0m\u001b[0mname\u001b[0m\u001b[0;34m,\u001b[0m\u001b[0;34m\u001b[0m\u001b[0;34m\u001b[0m\u001b[0m\n\u001b[1;32m    253\u001b[0m                 \u001b[0mlist\u001b[0m\u001b[0;34m(\u001b[0m\u001b[0margs\u001b[0m\u001b[0;34m)\u001b[0m\u001b[0;34m,\u001b[0m\u001b[0;34m\u001b[0m\u001b[0;34m\u001b[0m\u001b[0m\n",
            "\u001b[0;32m/usr/local/lib/python3.10/dist-packages/tensorflow/python/eager/context.py\u001b[0m in \u001b[0;36mcall_function\u001b[0;34m(self, name, tensor_inputs, num_outputs)\u001b[0m\n\u001b[1;32m   1484\u001b[0m     \u001b[0mcancellation_context\u001b[0m \u001b[0;34m=\u001b[0m \u001b[0mcancellation\u001b[0m\u001b[0;34m.\u001b[0m\u001b[0mcontext\u001b[0m\u001b[0;34m(\u001b[0m\u001b[0;34m)\u001b[0m\u001b[0;34m\u001b[0m\u001b[0;34m\u001b[0m\u001b[0m\n\u001b[1;32m   1485\u001b[0m     \u001b[0;32mif\u001b[0m \u001b[0mcancellation_context\u001b[0m \u001b[0;32mis\u001b[0m \u001b[0;32mNone\u001b[0m\u001b[0;34m:\u001b[0m\u001b[0;34m\u001b[0m\u001b[0;34m\u001b[0m\u001b[0m\n\u001b[0;32m-> 1486\u001b[0;31m       outputs = execute.execute(\n\u001b[0m\u001b[1;32m   1487\u001b[0m           \u001b[0mname\u001b[0m\u001b[0;34m.\u001b[0m\u001b[0mdecode\u001b[0m\u001b[0;34m(\u001b[0m\u001b[0;34m\"utf-8\"\u001b[0m\u001b[0;34m)\u001b[0m\u001b[0;34m,\u001b[0m\u001b[0;34m\u001b[0m\u001b[0;34m\u001b[0m\u001b[0m\n\u001b[1;32m   1488\u001b[0m           \u001b[0mnum_outputs\u001b[0m\u001b[0;34m=\u001b[0m\u001b[0mnum_outputs\u001b[0m\u001b[0;34m,\u001b[0m\u001b[0;34m\u001b[0m\u001b[0;34m\u001b[0m\u001b[0m\n",
            "\u001b[0;32m/usr/local/lib/python3.10/dist-packages/tensorflow/python/eager/execute.py\u001b[0m in \u001b[0;36mquick_execute\u001b[0;34m(op_name, num_outputs, inputs, attrs, ctx, name)\u001b[0m\n\u001b[1;32m     51\u001b[0m   \u001b[0;32mtry\u001b[0m\u001b[0;34m:\u001b[0m\u001b[0;34m\u001b[0m\u001b[0;34m\u001b[0m\u001b[0m\n\u001b[1;32m     52\u001b[0m     \u001b[0mctx\u001b[0m\u001b[0;34m.\u001b[0m\u001b[0mensure_initialized\u001b[0m\u001b[0;34m(\u001b[0m\u001b[0;34m)\u001b[0m\u001b[0;34m\u001b[0m\u001b[0;34m\u001b[0m\u001b[0m\n\u001b[0;32m---> 53\u001b[0;31m     tensors = pywrap_tfe.TFE_Py_Execute(ctx._handle, device_name, op_name,\n\u001b[0m\u001b[1;32m     54\u001b[0m                                         inputs, attrs, num_outputs)\n\u001b[1;32m     55\u001b[0m   \u001b[0;32mexcept\u001b[0m \u001b[0mcore\u001b[0m\u001b[0;34m.\u001b[0m\u001b[0m_NotOkStatusException\u001b[0m \u001b[0;32mas\u001b[0m \u001b[0me\u001b[0m\u001b[0;34m:\u001b[0m\u001b[0;34m\u001b[0m\u001b[0;34m\u001b[0m\u001b[0m\n",
            "\u001b[0;31mKeyboardInterrupt\u001b[0m: "
          ]
        }
      ]
    },
    {
      "cell_type": "code",
      "source": [
        "# Verovatnoće klasa za prvu test sliku\n",
        "print(y_test[0])\n",
        "\n",
        "# Prva test slika\n",
        "plt.imshow(x_test[0])\n",
        "plt.title(np.argmax(y_test[0]))\n",
        "plt.axis('off')"
      ],
      "metadata": {
        "id": "IMxadJWwljhc",
        "outputId": "8fee2790-4638-411e-ed65-6c2f002a21b1",
        "colab": {
          "base_uri": "https://localhost:8080/",
          "height": 211
        }
      },
      "execution_count": 4,
      "outputs": [
        {
          "output_type": "error",
          "ename": "NameError",
          "evalue": "name 'y_test' is not defined",
          "traceback": [
            "\u001b[0;31m---------------------------------------------------------------------------\u001b[0m",
            "\u001b[0;31mNameError\u001b[0m                                 Traceback (most recent call last)",
            "\u001b[0;32m<ipython-input-4-8aed84b64db4>\u001b[0m in \u001b[0;36m<cell line: 2>\u001b[0;34m()\u001b[0m\n\u001b[1;32m      1\u001b[0m \u001b[0;31m# Verovatnoće klasa za prvu test sliku\u001b[0m\u001b[0;34m\u001b[0m\u001b[0;34m\u001b[0m\u001b[0m\n\u001b[0;32m----> 2\u001b[0;31m \u001b[0mprint\u001b[0m\u001b[0;34m(\u001b[0m\u001b[0my_test\u001b[0m\u001b[0;34m[\u001b[0m\u001b[0;36m0\u001b[0m\u001b[0;34m]\u001b[0m\u001b[0;34m)\u001b[0m\u001b[0;34m\u001b[0m\u001b[0;34m\u001b[0m\u001b[0m\n\u001b[0m\u001b[1;32m      3\u001b[0m \u001b[0;34m\u001b[0m\u001b[0m\n\u001b[1;32m      4\u001b[0m \u001b[0;31m# Prva test slika\u001b[0m\u001b[0;34m\u001b[0m\u001b[0;34m\u001b[0m\u001b[0m\n\u001b[1;32m      5\u001b[0m \u001b[0mplt\u001b[0m\u001b[0;34m.\u001b[0m\u001b[0mimshow\u001b[0m\u001b[0;34m(\u001b[0m\u001b[0mx_test\u001b[0m\u001b[0;34m[\u001b[0m\u001b[0;36m0\u001b[0m\u001b[0;34m]\u001b[0m\u001b[0;34m)\u001b[0m\u001b[0;34m\u001b[0m\u001b[0;34m\u001b[0m\u001b[0m\n",
            "\u001b[0;31mNameError\u001b[0m: name 'y_test' is not defined"
          ]
        }
      ]
    },
    {
      "cell_type": "markdown",
      "source": [
        "## **5. Zaključak**"
      ],
      "metadata": {
        "id": "T7nY9zzBO6Pu"
      }
    },
    {
      "cell_type": "markdown",
      "source": [],
      "metadata": {
        "id": "80gnq0yCPFZb"
      }
    },
    {
      "cell_type": "markdown",
      "source": [
        "## **6. Literatura**"
      ],
      "metadata": {
        "id": "aVUhegwUO8-x"
      }
    },
    {
      "cell_type": "markdown",
      "source": [],
      "metadata": {
        "id": "rVAEwTJxPF8W"
      }
    }
  ]
}