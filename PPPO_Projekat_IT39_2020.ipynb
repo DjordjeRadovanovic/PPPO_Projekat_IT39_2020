{
  "nbformat": 4,
  "nbformat_minor": 0,
  "metadata": {
    "colab": {
      "provenance": [],
      "authorship_tag": "ABX9TyPuXsNAWLWO5DHjfh22MVKG",
      "include_colab_link": true
    },
    "kernelspec": {
      "name": "python3",
      "display_name": "Python 3"
    },
    "language_info": {
      "name": "python"
    }
  },
  "cells": [
    {
      "cell_type": "markdown",
      "metadata": {
        "id": "view-in-github",
        "colab_type": "text"
      },
      "source": [
        "<a href=\"https://colab.research.google.com/github/DjordjeRadovanovic/PPPO_Projekat_IT39_2020/blob/main/PPPO_Projekat_IT39_2020.ipynb\" target=\"_parent\"><img src=\"https://colab.research.google.com/assets/colab-badge.svg\" alt=\"Open In Colab\"/></a>"
      ]
    },
    {
      "cell_type": "markdown",
      "source": [
        "# **Principi prezentacije i prepoznavanja oblika 2023/2024**"
      ],
      "metadata": {
        "id": "zcLjyarQJLt0"
      }
    },
    {
      "cell_type": "markdown",
      "source": [
        "\n",
        "**Đorđe Radovanović IT39/2020**\n",
        "\n",
        "**Tema:** Klasifikacija lišća"
      ],
      "metadata": {
        "id": "0kAgPujZJNai"
      }
    },
    {
      "cell_type": "markdown",
      "source": [
        "## **Sadržaj**"
      ],
      "metadata": {
        "id": "j_JONDQdLEmZ"
      }
    },
    {
      "cell_type": "markdown",
      "source": [
        "1. Uvod\n",
        "2. Tema\n",
        "3. Učitavanje dataseta\n",
        "4. Projekat\n",
        "5. Zaključak\n",
        "6. Literatura"
      ],
      "metadata": {
        "id": "paZPrjO1Ley8"
      }
    },
    {
      "cell_type": "markdown",
      "source": [
        "## **1. Uvod**"
      ],
      "metadata": {
        "id": "RUM2CE-kNhwy"
      }
    },
    {
      "cell_type": "markdown",
      "source": [],
      "metadata": {
        "id": "fvemCeeoNsdw"
      }
    },
    {
      "cell_type": "markdown",
      "source": [
        "## **2. Metodologija**"
      ],
      "metadata": {
        "id": "hiB5VHRqNxt4"
      }
    },
    {
      "cell_type": "markdown",
      "source": [],
      "metadata": {
        "id": "xHqpSRS3N3dg"
      }
    },
    {
      "cell_type": "markdown",
      "source": [
        "## **3. Učitavanje dataseta**"
      ],
      "metadata": {
        "id": "EWQ2Og6uOhRd"
      }
    },
    {
      "cell_type": "markdown",
      "source": [
        "Prvi korak je učitavanje seta podataka koji će se koristiti prilikom treniranja modela. Da bi se to uradilo, neophodno je skinuti .zip fajl koji sadrži sve potrebne podatke, pomoću **wget** komande."
      ],
      "metadata": {
        "id": "U2RZTv0QPCzG"
      }
    },
    {
      "cell_type": "code",
      "source": [
        "!wget --no-check-certificate 'https://drive.usercontent.google.com/download?id=1r4yy2ZIUGoyESydQzY39L-0s8ld7fuXr&confirm=xxx' -O Leaf_Classification.zip"
      ],
      "metadata": {
        "colab": {
          "base_uri": "https://localhost:8080/"
        },
        "id": "kM-259_HNp-7",
        "outputId": "816c2cf1-2eaf-4600-e494-04de3b2c3709"
      },
      "execution_count": 1,
      "outputs": [
        {
          "output_type": "stream",
          "name": "stdout",
          "text": [
            "--2024-06-15 18:51:26--  https://drive.usercontent.google.com/download?id=1r4yy2ZIUGoyESydQzY39L-0s8ld7fuXr&confirm=xxx\n",
            "Resolving drive.usercontent.google.com (drive.usercontent.google.com)... 173.194.202.132, 2607:f8b0:400e:c00::84\n",
            "Connecting to drive.usercontent.google.com (drive.usercontent.google.com)|173.194.202.132|:443... connected.\n",
            "HTTP request sent, awaiting response... 200 OK\n",
            "Length: 35953027 (34M) [application/octet-stream]\n",
            "Saving to: ‘Leaf_Classification.zip’\n",
            "\n",
            "Leaf_Classification 100%[===================>]  34.29M  59.5MB/s    in 0.6s    \n",
            "\n",
            "2024-06-15 18:51:27 (59.5 MB/s) - ‘Leaf_Classification.zip’ saved [35953027/35953027]\n",
            "\n"
          ]
        }
      ]
    },
    {
      "cell_type": "markdown",
      "source": [
        "Kada je Leaf_Classification.zip fajl skinut, potrebno je izvršiti dekompresiju podataka. To radimo pomoću **unzip** komande."
      ],
      "metadata": {
        "id": "4XXuaOm2PA4t"
      }
    },
    {
      "cell_type": "code",
      "source": [
        "!unzip Leaf_Classification.zip"
      ],
      "metadata": {
        "colab": {
          "base_uri": "https://localhost:8080/"
        },
        "id": "kfy0z1NAPWrK",
        "outputId": "9659a219-7a8c-4949-8b2b-97c823c99210"
      },
      "execution_count": 2,
      "outputs": [
        {
          "output_type": "stream",
          "name": "stdout",
          "text": [
            "Archive:  Leaf_Classification.zip\n",
            "  inflating: images.zip              \n",
            "  inflating: sample_submission.csv.zip  \n",
            "  inflating: test.csv.zip            \n",
            "  inflating: train.csv.zip           \n"
          ]
        }
      ]
    },
    {
      "cell_type": "markdown",
      "source": [
        "Možemo uočiti da se u Leaf_Classification.zip fajlu nalaze još 4 posebna .zip fajla: *images.zip*, *sample_submission.csv.zip*, *train.csv.zip* i *test.csv.zip*. Analizom sadržaja ovih fajlova utvrđeno je da neće trebati *sample_submission.csv.zip*. Stoga, ponovićemo **unzip**, ali samo za ostala tri .zip fajla."
      ],
      "metadata": {
        "id": "r5tpKgVRPW_N"
      }
    },
    {
      "cell_type": "code",
      "source": [
        "!unzip -qq images.zip\n",
        "!unzip -qq train.csv.zip\n",
        "!unzip -qq test.csv.zip"
      ],
      "metadata": {
        "id": "H4Jv2I54RS-3"
      },
      "execution_count": 3,
      "outputs": []
    },
    {
      "cell_type": "markdown",
      "source": [
        "Sada imamo sve podatke raspakovane i spremne za korišćenje u daljem radu. Sledeći korak je pisanje samog koda za pripremu podataka, generisanje, treniranje i testiranje modela."
      ],
      "metadata": {
        "id": "XX3pU-8jTaD8"
      }
    },
    {
      "cell_type": "markdown",
      "source": [
        "## **4. Projekat**"
      ],
      "metadata": {
        "id": "qYqCozqjOh2N"
      }
    },
    {
      "cell_type": "markdown",
      "source": [
        "Prva stvar koju je potrebno uraditi je importovanje svih neophodnih biblioteka za projekat. Potrebno je koristiti **pandas** biblioteku za Python, koja ima DataFrame dvodimenzionalnu strukturu podataka koju možemo koristiti za predstavljanje tabelarnih CSV podataka. Takođe je potrebno koristiti **NumPy** biblioteku za matematičke operacije nad prosleđenim podacima.\n",
        "\n",
        "VGG16 model možemo preuzeti iz **Keras** biblioteke, koja se koristi u svrhe mašinskog učenja. **Keras** biblioteka sadrži veliki broj modela, uključujuči i VGG16, koji će se koristiti. **Keras** koristi TensorFlow backend."
      ],
      "metadata": {
        "id": "OhAzqow9PEuq"
      }
    },
    {
      "cell_type": "code",
      "source": [
        "# Importovanje neophodnih biblioteka\n",
        "import keras\n",
        "import pandas as pd\n",
        "import numpy as np\n",
        "from PIL import Image\n",
        "from sklearn.model_selection import train_test_split\n",
        "from keras.applications import VGG16\n",
        "from keras.models import Model\n",
        "from keras.layers import Dense, Flatten, Dropout\n",
        "from keras.optimizers import Adam\n",
        "from keras.preprocessing.image import ImageDataGenerator"
      ],
      "metadata": {
        "id": "BidhFKo0ihEL"
      },
      "execution_count": 30,
      "outputs": []
    },
    {
      "cell_type": "markdown",
      "source": [
        "Sledeći korak je učitavanje i sređivanje CSV podataka iz train.csv fajla. Učitavanje se vrši pomoću read_csv funkcije iz pandas paketa."
      ],
      "metadata": {
        "id": "LCULRVGki6lJ"
      }
    },
    {
      "cell_type": "code",
      "source": [
        "# Učitavanje podataka iz train.csv u train_data DataFrame\n",
        "train_data = pd.read_csv('train.csv')\n",
        "\n",
        "# Prikazivanje svih kolona\n",
        "train_data.columns"
      ],
      "metadata": {
        "colab": {
          "base_uri": "https://localhost:8080/"
        },
        "id": "nGuov_qsjtFs",
        "outputId": "598e8d63-69a7-487f-f104-2bef3f810234"
      },
      "execution_count": 5,
      "outputs": [
        {
          "output_type": "execute_result",
          "data": {
            "text/plain": [
              "Index(['id', 'species', 'margin1', 'margin2', 'margin3', 'margin4', 'margin5',\n",
              "       'margin6', 'margin7', 'margin8',\n",
              "       ...\n",
              "       'texture55', 'texture56', 'texture57', 'texture58', 'texture59',\n",
              "       'texture60', 'texture61', 'texture62', 'texture63', 'texture64'],\n",
              "      dtype='object', length=194)"
            ]
          },
          "metadata": {},
          "execution_count": 5
        }
      ]
    },
    {
      "cell_type": "markdown",
      "source": [
        "Vidimo da ima veliki broj kolona - marginX kolone, shapeX kolone, textureX kolone. Kako nisu potrebne za ovaj projekat, možemo ih izbaciti."
      ],
      "metadata": {
        "id": "PKpdnBwvm59u"
      }
    },
    {
      "cell_type": "code",
      "source": [
        "# Brisanje nepotrebnih kolona\n",
        "i = 1\n",
        "while i <= 64:\n",
        "  del train_data['margin' + str(i)]\n",
        "  del train_data['shape' + str(i)]\n",
        "  del train_data['texture' + str(i)]\n",
        "  i = i + 1\n",
        "\n",
        "# Prikazivanje svih kolona\n",
        "train_data.columns"
      ],
      "metadata": {
        "colab": {
          "base_uri": "https://localhost:8080/"
        },
        "id": "gCE3VT4EnDtQ",
        "outputId": "da743e75-f8de-4a1c-f7a4-b4ff72247e11"
      },
      "execution_count": 6,
      "outputs": [
        {
          "output_type": "execute_result",
          "data": {
            "text/plain": [
              "Index(['id', 'species'], dtype='object')"
            ]
          },
          "metadata": {},
          "execution_count": 6
        }
      ]
    },
    {
      "cell_type": "markdown",
      "source": [
        "Sada imamo samo dve kolone, **id** (koja predstavlja sliku u /images, poput 1.png), i **species** (klasa datog lista sa slike). Poslednja stvar koju treba odraditi je brisanje redova sa null vrednostima, ukoliko ih ima."
      ],
      "metadata": {
        "id": "HXWhCkx6pNSm"
      }
    },
    {
      "cell_type": "code",
      "source": [
        "# Broj redova pre brisanja null vrednosti\n",
        "print(train_data.shape[0])\n",
        "\n",
        "# Brisanje redova sa null vrednostima\n",
        "train_data.dropna()\n",
        "\n",
        "# Broj redova nakon brisanja null vrednosti\n",
        "print(train_data.shape[0])"
      ],
      "metadata": {
        "colab": {
          "base_uri": "https://localhost:8080/"
        },
        "id": "j-uRiLrJqo6K",
        "outputId": "097c7083-9ce1-41ed-80f0-49ace532e986"
      },
      "execution_count": 7,
      "outputs": [
        {
          "output_type": "stream",
          "name": "stdout",
          "text": [
            "990\n",
            "990\n"
          ]
        }
      ]
    },
    {
      "cell_type": "markdown",
      "source": [
        "Sada možemo dodati slike u train_data dataframe. To možemo obaviti kreiranjem nove kolone gde slika u koloni odgovara ID-ju (\"1 -> images/1.jpg\"). Potrebno je koristiti funkcije za manipulaciju slikama iz **Python Image Library** (**PIL**) biblioteke.\n",
        "\n",
        "**VGG16** zahteva upotrebu 224x224 slika, pa se slike već u ovom koraku mogu prilagoditi datom formatu."
      ],
      "metadata": {
        "id": "5IEElRcsrKRJ"
      }
    },
    {
      "cell_type": "code",
      "source": [
        "# Pretvaranje slike u NumPy array\n",
        "def image_column(id):\n",
        "  img = Image.open(f'images/{id}.jpg')\n",
        "  img = img.resize((224, 224))          # 224x224 dimenzije\n",
        "  return np.array(img)\n",
        "\n",
        "# Dodavanje nove kolone sa slikom koja odgovara koloni 'id'\n",
        "train_data['img'] = train_data['id'].apply(image_column)\n",
        "\n",
        "# Primer slike\n",
        "train_data['img'][0]"
      ],
      "metadata": {
        "id": "q-fl5Mpjs2vH",
        "outputId": "3e59dc26-9364-42ce-cb28-d88c384acde8",
        "colab": {
          "base_uri": "https://localhost:8080/",
          "height": 265
        }
      },
      "execution_count": 19,
      "outputs": [
        {
          "output_type": "execute_result",
          "data": {
            "text/plain": [
              "array([[0, 0, 0, ..., 0, 0, 0],\n",
              "       [0, 0, 0, ..., 0, 0, 0],\n",
              "       [0, 0, 0, ..., 0, 0, 0],\n",
              "       ...,\n",
              "       [0, 0, 0, ..., 0, 0, 0],\n",
              "       [0, 0, 0, ..., 0, 0, 0],\n",
              "       [0, 0, 0, ..., 0, 0, 0]], dtype=uint8)"
            ],
            "text/html": [
              "<style>\n",
              "      .ndarray_repr .ndarray_raw_data {\n",
              "        display: none;\n",
              "      }\n",
              "      .ndarray_repr.show_array .ndarray_raw_data {\n",
              "        display: block;\n",
              "      }\n",
              "      .ndarray_repr.show_array .ndarray_image_preview {\n",
              "        display: none;\n",
              "      }\n",
              "      </style>\n",
              "      <div id=\"id-e4a2cbe4-f035-475e-99a8-ee762aa97776\" class=\"ndarray_repr\"><pre>ndarray (224, 224) <button style=\"padding: 0 2px;\">show data</button></pre><img src=\"data:image/png;base64,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\" class=\"ndarray_image_preview\" /><pre class=\"ndarray_raw_data\">array([[0, 0, 0, ..., 0, 0, 0],\n",
              "       [0, 0, 0, ..., 0, 0, 0],\n",
              "       [0, 0, 0, ..., 0, 0, 0],\n",
              "       ...,\n",
              "       [0, 0, 0, ..., 0, 0, 0],\n",
              "       [0, 0, 0, ..., 0, 0, 0],\n",
              "       [0, 0, 0, ..., 0, 0, 0]], dtype=uint8)</pre></div><script>\n",
              "      (() => {\n",
              "      const titles = ['show data', 'hide data'];\n",
              "      let index = 0\n",
              "      document.querySelector('#id-e4a2cbe4-f035-475e-99a8-ee762aa97776 button').onclick = (e) => {\n",
              "        document.querySelector('#id-e4a2cbe4-f035-475e-99a8-ee762aa97776').classList.toggle('show_array');\n",
              "        index = (++index) % 2;\n",
              "        document.querySelector('#id-e4a2cbe4-f035-475e-99a8-ee762aa97776 button').textContent = titles[index];\n",
              "        e.preventDefault();\n",
              "        e.stopPropagation();\n",
              "      }\n",
              "      })();\n",
              "    </script>"
            ]
          },
          "metadata": {},
          "execution_count": 19
        }
      ]
    },
    {
      "cell_type": "markdown",
      "source": [
        "Podaci su sada u formatu koji je potreban za treniranje **VGG16** modela. Ostalo je da ih podelimo na dva dela, na podatke za treniranje i podatke za validaciju (kako bismo utvrdili da model ima odgovarajuću tačnost predikcije klasifikacije).\n",
        "\n",
        "Podelu vršimo putem **train_test_split** funkcije iz biblioteke **sklearn**."
      ],
      "metadata": {
        "id": "lLoIP3nls3K-"
      }
    },
    {
      "cell_type": "code",
      "source": [
        "# Podela na podatke za treniranje i podatke za validaciju (odnos 80:20)\n",
        "train_df, val_df = train_test_split(train_data, test_size=0.2, random_state=42)"
      ],
      "metadata": {
        "id": "TLiZy2Sbuc3i"
      },
      "execution_count": 20,
      "outputs": []
    },
    {
      "cell_type": "markdown",
      "source": [
        "Sada imamo potpuno spremne dataframe-ove koje ćemo koristiti za treniranje i validaciju modela. Možemo uraditi sličan postupak za podatke koji će se koristiti za predikciju/testiranje modela."
      ],
      "metadata": {
        "id": "qEp4U_3AueLc"
      }
    },
    {
      "cell_type": "code",
      "source": [
        "# Učitavanje podataka iz test.csv u test_df DataFrame\n",
        "test_df = pd.read_csv('test.csv')\n",
        "\n",
        "# Brisanje nepotrebnih kolona\n",
        "i = 1\n",
        "while i <= 64:\n",
        "  del test_df['margin' + str(i)]\n",
        "  del test_df['shape' + str(i)]\n",
        "  del test_df['texture' + str(i)]\n",
        "  i = i + 1\n",
        "\n",
        "# Dodavanje nove kolone sa slikom koja odgovara koloni 'id'\n",
        "test_df['img'] = test_df['id'].apply(image_column)\n",
        "\n",
        "test_df"
      ],
      "metadata": {
        "id": "8EvhwnJXu_Uk",
        "outputId": "1aa342c1-94ac-4700-cf65-c03ffb051ae7",
        "colab": {
          "base_uri": "https://localhost:8080/",
          "height": 423
        }
      },
      "execution_count": 22,
      "outputs": [
        {
          "output_type": "execute_result",
          "data": {
            "text/plain": [
              "       id                                                img\n",
              "0       4  [[0, 0, 0, 0, 0, 0, 0, 0, 0, 0, 0, 0, 0, 0, 0,...\n",
              "1       7  [[0, 0, 0, 0, 0, 0, 0, 0, 0, 0, 0, 0, 0, 0, 0,...\n",
              "2       9  [[0, 0, 0, 0, 0, 0, 0, 0, 0, 0, 0, 0, 0, 0, 0,...\n",
              "3      12  [[0, 0, 0, 0, 0, 0, 0, 0, 0, 0, 0, 0, 0, 0, 0,...\n",
              "4      13  [[0, 0, 0, 0, 0, 0, 0, 0, 0, 0, 0, 0, 0, 0, 0,...\n",
              "..    ...                                                ...\n",
              "589  1576  [[0, 0, 0, 0, 0, 0, 0, 0, 0, 0, 0, 0, 0, 0, 0,...\n",
              "590  1577  [[0, 0, 0, 0, 0, 0, 0, 0, 0, 0, 0, 0, 0, 0, 0,...\n",
              "591  1579  [[0, 0, 0, 0, 0, 0, 0, 0, 0, 0, 0, 0, 0, 0, 0,...\n",
              "592  1580  [[0, 0, 0, 0, 0, 0, 0, 0, 0, 0, 0, 0, 0, 0, 0,...\n",
              "593  1583  [[0, 0, 0, 0, 0, 0, 0, 0, 0, 0, 0, 0, 0, 0, 0,...\n",
              "\n",
              "[594 rows x 2 columns]"
            ],
            "text/html": [
              "\n",
              "  <div id=\"df-59c7afd1-2a46-48c6-ad65-f7780088c513\" class=\"colab-df-container\">\n",
              "    <div>\n",
              "<style scoped>\n",
              "    .dataframe tbody tr th:only-of-type {\n",
              "        vertical-align: middle;\n",
              "    }\n",
              "\n",
              "    .dataframe tbody tr th {\n",
              "        vertical-align: top;\n",
              "    }\n",
              "\n",
              "    .dataframe thead th {\n",
              "        text-align: right;\n",
              "    }\n",
              "</style>\n",
              "<table border=\"1\" class=\"dataframe\">\n",
              "  <thead>\n",
              "    <tr style=\"text-align: right;\">\n",
              "      <th></th>\n",
              "      <th>id</th>\n",
              "      <th>img</th>\n",
              "    </tr>\n",
              "  </thead>\n",
              "  <tbody>\n",
              "    <tr>\n",
              "      <th>0</th>\n",
              "      <td>4</td>\n",
              "      <td>[[0, 0, 0, 0, 0, 0, 0, 0, 0, 0, 0, 0, 0, 0, 0,...</td>\n",
              "    </tr>\n",
              "    <tr>\n",
              "      <th>1</th>\n",
              "      <td>7</td>\n",
              "      <td>[[0, 0, 0, 0, 0, 0, 0, 0, 0, 0, 0, 0, 0, 0, 0,...</td>\n",
              "    </tr>\n",
              "    <tr>\n",
              "      <th>2</th>\n",
              "      <td>9</td>\n",
              "      <td>[[0, 0, 0, 0, 0, 0, 0, 0, 0, 0, 0, 0, 0, 0, 0,...</td>\n",
              "    </tr>\n",
              "    <tr>\n",
              "      <th>3</th>\n",
              "      <td>12</td>\n",
              "      <td>[[0, 0, 0, 0, 0, 0, 0, 0, 0, 0, 0, 0, 0, 0, 0,...</td>\n",
              "    </tr>\n",
              "    <tr>\n",
              "      <th>4</th>\n",
              "      <td>13</td>\n",
              "      <td>[[0, 0, 0, 0, 0, 0, 0, 0, 0, 0, 0, 0, 0, 0, 0,...</td>\n",
              "    </tr>\n",
              "    <tr>\n",
              "      <th>...</th>\n",
              "      <td>...</td>\n",
              "      <td>...</td>\n",
              "    </tr>\n",
              "    <tr>\n",
              "      <th>589</th>\n",
              "      <td>1576</td>\n",
              "      <td>[[0, 0, 0, 0, 0, 0, 0, 0, 0, 0, 0, 0, 0, 0, 0,...</td>\n",
              "    </tr>\n",
              "    <tr>\n",
              "      <th>590</th>\n",
              "      <td>1577</td>\n",
              "      <td>[[0, 0, 0, 0, 0, 0, 0, 0, 0, 0, 0, 0, 0, 0, 0,...</td>\n",
              "    </tr>\n",
              "    <tr>\n",
              "      <th>591</th>\n",
              "      <td>1579</td>\n",
              "      <td>[[0, 0, 0, 0, 0, 0, 0, 0, 0, 0, 0, 0, 0, 0, 0,...</td>\n",
              "    </tr>\n",
              "    <tr>\n",
              "      <th>592</th>\n",
              "      <td>1580</td>\n",
              "      <td>[[0, 0, 0, 0, 0, 0, 0, 0, 0, 0, 0, 0, 0, 0, 0,...</td>\n",
              "    </tr>\n",
              "    <tr>\n",
              "      <th>593</th>\n",
              "      <td>1583</td>\n",
              "      <td>[[0, 0, 0, 0, 0, 0, 0, 0, 0, 0, 0, 0, 0, 0, 0,...</td>\n",
              "    </tr>\n",
              "  </tbody>\n",
              "</table>\n",
              "<p>594 rows × 2 columns</p>\n",
              "</div>\n",
              "    <div class=\"colab-df-buttons\">\n",
              "\n",
              "  <div class=\"colab-df-container\">\n",
              "    <button class=\"colab-df-convert\" onclick=\"convertToInteractive('df-59c7afd1-2a46-48c6-ad65-f7780088c513')\"\n",
              "            title=\"Convert this dataframe to an interactive table.\"\n",
              "            style=\"display:none;\">\n",
              "\n",
              "  <svg xmlns=\"http://www.w3.org/2000/svg\" height=\"24px\" viewBox=\"0 -960 960 960\">\n",
              "    <path d=\"M120-120v-720h720v720H120Zm60-500h600v-160H180v160Zm220 220h160v-160H400v160Zm0 220h160v-160H400v160ZM180-400h160v-160H180v160Zm440 0h160v-160H620v160ZM180-180h160v-160H180v160Zm440 0h160v-160H620v160Z\"/>\n",
              "  </svg>\n",
              "    </button>\n",
              "\n",
              "  <style>\n",
              "    .colab-df-container {\n",
              "      display:flex;\n",
              "      gap: 12px;\n",
              "    }\n",
              "\n",
              "    .colab-df-convert {\n",
              "      background-color: #E8F0FE;\n",
              "      border: none;\n",
              "      border-radius: 50%;\n",
              "      cursor: pointer;\n",
              "      display: none;\n",
              "      fill: #1967D2;\n",
              "      height: 32px;\n",
              "      padding: 0 0 0 0;\n",
              "      width: 32px;\n",
              "    }\n",
              "\n",
              "    .colab-df-convert:hover {\n",
              "      background-color: #E2EBFA;\n",
              "      box-shadow: 0px 1px 2px rgba(60, 64, 67, 0.3), 0px 1px 3px 1px rgba(60, 64, 67, 0.15);\n",
              "      fill: #174EA6;\n",
              "    }\n",
              "\n",
              "    .colab-df-buttons div {\n",
              "      margin-bottom: 4px;\n",
              "    }\n",
              "\n",
              "    [theme=dark] .colab-df-convert {\n",
              "      background-color: #3B4455;\n",
              "      fill: #D2E3FC;\n",
              "    }\n",
              "\n",
              "    [theme=dark] .colab-df-convert:hover {\n",
              "      background-color: #434B5C;\n",
              "      box-shadow: 0px 1px 3px 1px rgba(0, 0, 0, 0.15);\n",
              "      filter: drop-shadow(0px 1px 2px rgba(0, 0, 0, 0.3));\n",
              "      fill: #FFFFFF;\n",
              "    }\n",
              "  </style>\n",
              "\n",
              "    <script>\n",
              "      const buttonEl =\n",
              "        document.querySelector('#df-59c7afd1-2a46-48c6-ad65-f7780088c513 button.colab-df-convert');\n",
              "      buttonEl.style.display =\n",
              "        google.colab.kernel.accessAllowed ? 'block' : 'none';\n",
              "\n",
              "      async function convertToInteractive(key) {\n",
              "        const element = document.querySelector('#df-59c7afd1-2a46-48c6-ad65-f7780088c513');\n",
              "        const dataTable =\n",
              "          await google.colab.kernel.invokeFunction('convertToInteractive',\n",
              "                                                    [key], {});\n",
              "        if (!dataTable) return;\n",
              "\n",
              "        const docLinkHtml = 'Like what you see? Visit the ' +\n",
              "          '<a target=\"_blank\" href=https://colab.research.google.com/notebooks/data_table.ipynb>data table notebook</a>'\n",
              "          + ' to learn more about interactive tables.';\n",
              "        element.innerHTML = '';\n",
              "        dataTable['output_type'] = 'display_data';\n",
              "        await google.colab.output.renderOutput(dataTable, element);\n",
              "        const docLink = document.createElement('div');\n",
              "        docLink.innerHTML = docLinkHtml;\n",
              "        element.appendChild(docLink);\n",
              "      }\n",
              "    </script>\n",
              "  </div>\n",
              "\n",
              "\n",
              "<div id=\"df-8697d2b3-8ebc-4964-9175-7b5ebdfbfa79\">\n",
              "  <button class=\"colab-df-quickchart\" onclick=\"quickchart('df-8697d2b3-8ebc-4964-9175-7b5ebdfbfa79')\"\n",
              "            title=\"Suggest charts\"\n",
              "            style=\"display:none;\">\n",
              "\n",
              "<svg xmlns=\"http://www.w3.org/2000/svg\" height=\"24px\"viewBox=\"0 0 24 24\"\n",
              "     width=\"24px\">\n",
              "    <g>\n",
              "        <path d=\"M19 3H5c-1.1 0-2 .9-2 2v14c0 1.1.9 2 2 2h14c1.1 0 2-.9 2-2V5c0-1.1-.9-2-2-2zM9 17H7v-7h2v7zm4 0h-2V7h2v10zm4 0h-2v-4h2v4z\"/>\n",
              "    </g>\n",
              "</svg>\n",
              "  </button>\n",
              "\n",
              "<style>\n",
              "  .colab-df-quickchart {\n",
              "      --bg-color: #E8F0FE;\n",
              "      --fill-color: #1967D2;\n",
              "      --hover-bg-color: #E2EBFA;\n",
              "      --hover-fill-color: #174EA6;\n",
              "      --disabled-fill-color: #AAA;\n",
              "      --disabled-bg-color: #DDD;\n",
              "  }\n",
              "\n",
              "  [theme=dark] .colab-df-quickchart {\n",
              "      --bg-color: #3B4455;\n",
              "      --fill-color: #D2E3FC;\n",
              "      --hover-bg-color: #434B5C;\n",
              "      --hover-fill-color: #FFFFFF;\n",
              "      --disabled-bg-color: #3B4455;\n",
              "      --disabled-fill-color: #666;\n",
              "  }\n",
              "\n",
              "  .colab-df-quickchart {\n",
              "    background-color: var(--bg-color);\n",
              "    border: none;\n",
              "    border-radius: 50%;\n",
              "    cursor: pointer;\n",
              "    display: none;\n",
              "    fill: var(--fill-color);\n",
              "    height: 32px;\n",
              "    padding: 0;\n",
              "    width: 32px;\n",
              "  }\n",
              "\n",
              "  .colab-df-quickchart:hover {\n",
              "    background-color: var(--hover-bg-color);\n",
              "    box-shadow: 0 1px 2px rgba(60, 64, 67, 0.3), 0 1px 3px 1px rgba(60, 64, 67, 0.15);\n",
              "    fill: var(--button-hover-fill-color);\n",
              "  }\n",
              "\n",
              "  .colab-df-quickchart-complete:disabled,\n",
              "  .colab-df-quickchart-complete:disabled:hover {\n",
              "    background-color: var(--disabled-bg-color);\n",
              "    fill: var(--disabled-fill-color);\n",
              "    box-shadow: none;\n",
              "  }\n",
              "\n",
              "  .colab-df-spinner {\n",
              "    border: 2px solid var(--fill-color);\n",
              "    border-color: transparent;\n",
              "    border-bottom-color: var(--fill-color);\n",
              "    animation:\n",
              "      spin 1s steps(1) infinite;\n",
              "  }\n",
              "\n",
              "  @keyframes spin {\n",
              "    0% {\n",
              "      border-color: transparent;\n",
              "      border-bottom-color: var(--fill-color);\n",
              "      border-left-color: var(--fill-color);\n",
              "    }\n",
              "    20% {\n",
              "      border-color: transparent;\n",
              "      border-left-color: var(--fill-color);\n",
              "      border-top-color: var(--fill-color);\n",
              "    }\n",
              "    30% {\n",
              "      border-color: transparent;\n",
              "      border-left-color: var(--fill-color);\n",
              "      border-top-color: var(--fill-color);\n",
              "      border-right-color: var(--fill-color);\n",
              "    }\n",
              "    40% {\n",
              "      border-color: transparent;\n",
              "      border-right-color: var(--fill-color);\n",
              "      border-top-color: var(--fill-color);\n",
              "    }\n",
              "    60% {\n",
              "      border-color: transparent;\n",
              "      border-right-color: var(--fill-color);\n",
              "    }\n",
              "    80% {\n",
              "      border-color: transparent;\n",
              "      border-right-color: var(--fill-color);\n",
              "      border-bottom-color: var(--fill-color);\n",
              "    }\n",
              "    90% {\n",
              "      border-color: transparent;\n",
              "      border-bottom-color: var(--fill-color);\n",
              "    }\n",
              "  }\n",
              "</style>\n",
              "\n",
              "  <script>\n",
              "    async function quickchart(key) {\n",
              "      const quickchartButtonEl =\n",
              "        document.querySelector('#' + key + ' button');\n",
              "      quickchartButtonEl.disabled = true;  // To prevent multiple clicks.\n",
              "      quickchartButtonEl.classList.add('colab-df-spinner');\n",
              "      try {\n",
              "        const charts = await google.colab.kernel.invokeFunction(\n",
              "            'suggestCharts', [key], {});\n",
              "      } catch (error) {\n",
              "        console.error('Error during call to suggestCharts:', error);\n",
              "      }\n",
              "      quickchartButtonEl.classList.remove('colab-df-spinner');\n",
              "      quickchartButtonEl.classList.add('colab-df-quickchart-complete');\n",
              "    }\n",
              "    (() => {\n",
              "      let quickchartButtonEl =\n",
              "        document.querySelector('#df-8697d2b3-8ebc-4964-9175-7b5ebdfbfa79 button');\n",
              "      quickchartButtonEl.style.display =\n",
              "        google.colab.kernel.accessAllowed ? 'block' : 'none';\n",
              "    })();\n",
              "  </script>\n",
              "</div>\n",
              "    </div>\n",
              "  </div>\n"
            ],
            "application/vnd.google.colaboratory.intrinsic+json": {
              "type": "dataframe",
              "variable_name": "test_df",
              "summary": "{\n  \"name\": \"test_df\",\n  \"rows\": 594,\n  \"fields\": [\n    {\n      \"column\": \"id\",\n      \"properties\": {\n        \"dtype\": \"number\",\n        \"std\": 465,\n        \"min\": 4,\n        \"max\": 1583,\n        \"num_unique_values\": 594,\n        \"samples\": [\n          89,\n          781,\n          448\n        ],\n        \"semantic_type\": \"\",\n        \"description\": \"\"\n      }\n    },\n    {\n      \"column\": \"img\",\n      \"properties\": {\n        \"dtype\": \"object\",\n        \"semantic_type\": \"\",\n        \"description\": \"\"\n      }\n    }\n  ]\n}"
            }
          },
          "metadata": {},
          "execution_count": 22
        }
      ]
    },
    {
      "cell_type": "markdown",
      "source": [
        "Sada smo dobili tri vrste podataka:\n",
        "\n",
        "* **train_df** - Podaci za treniranje modela\n",
        "* **val_df** - Podaci za validaciju modela\n",
        "* **test_df** - Podaci za testiranje modela\n",
        "\n",
        "Nakon sređivanja i čišćenja podataka, sledeći korak je priprema **VGG16** modela."
      ],
      "metadata": {
        "id": "UJ7kOs1nu_yO"
      }
    },
    {
      "cell_type": "markdown",
      "source": [],
      "metadata": {
        "id": "NL86006vot4v"
      }
    },
    {
      "cell_type": "code",
      "source": [
        "vgg_conv = VGG16(weights='imagenet', include_top=False, input_shape=(224, 224, 3))\n",
        "\n",
        "for layer in vgg_conv.layers[:-2]:\n",
        "    layer.trainable = False\n",
        "\n",
        "for layer in vgg_conv.layers:\n",
        "    print(layer, layer.trainable)\n",
        "\n",
        "# Kreirajte model\n",
        "model = keras.Sequential()\n",
        "\n",
        "# Dodajte vgg konvolucionalni osnovni model\n",
        "model.add(vgg_conv)\n",
        "\n",
        "# Dodajte nove FC slojeve\n",
        "model.add(Flatten())\n",
        "model.add(Dense(256, activation='relu'))\n",
        "model.add(Dropout(0.5))\n",
        "model.add(Dense(train_df['species'].size, activation='softmax'))\n",
        "\n",
        "# Prikažite rezime modela. Proverite broj parametara koji se mogu obučiti\n",
        "model.summary()\n",
        "\n",
        "\n",
        "\n",
        "from sklearn.preprocessing import LabelEncoder\n",
        "# Example: Assuming train_df['species'] contains class names like 'Betula_Pendula'\n",
        "encoder = LabelEncoder()\n",
        "train_df['species'] = encoder.fit_transform(train_df['species'])\n",
        "# Now train_df['species'] contains numerical labels instead of string class names\n",
        "print(train_df['species'].unique())  # Verify unique numerical labels\n",
        "\n",
        "\n",
        "\n",
        "# Convert DataFrame columns to numpy arrays if not already\n",
        "X_train = np.stack(train_df['img'].values)\n",
        "# Add channel dimension for RGB images\n",
        "X_train = np.expand_dims(X_train, axis=-1)  # Adjust axis if images are grayscale or already have channels\n",
        "# Repeat channel dimension for RGB images\n",
        "X_train = np.repeat(X_train, 3, axis=-1)  # Repeat the last axis three times\n",
        "\n",
        "y_train = np.array(train_df['species'])\n",
        "\n",
        "print(\"X_train shape:\", X_train.shape)\n",
        "print(\"y_train shape:\", y_train.shape)\n",
        "\n",
        "# Assuming val_df is similarly prepared\n",
        "X_val = np.stack(val_df['img'].values)\n",
        "X_val = np.expand_dims(X_val, axis=-1)\n",
        "X_val = np.repeat(X_val, 3, axis=-1)\n",
        "\n",
        "y_val = np.array(val_df['species'])\n",
        "\n",
        "print(\"X_train shape:\", X_val.shape)\n",
        "print(\"y_train shape:\", y_val.shape)\n",
        "\n",
        "model.compile(optimizer=Adam(lr=0.001), loss='categorical_crossentropy', metrics=['accuracy'])\n",
        "\n",
        "model.fit(X_train, y_train, batch_size=12, epochs=10, validation_data=(X_val, y_val))\n",
        "\n",
        "model.save('pppo_leaf_vgg16.h5')\n"
      ],
      "metadata": {
        "id": "FVyrsYJIoudx",
        "outputId": "693f4129-adad-4ba2-d8c9-268107cab199",
        "colab": {
          "base_uri": "https://localhost:8080/",
          "height": 1000
        }
      },
      "execution_count": 53,
      "outputs": [
        {
          "output_type": "stream",
          "name": "stdout",
          "text": [
            "<keras.src.engine.input_layer.InputLayer object at 0x7e6ecbe9fbb0> False\n",
            "<keras.src.layers.convolutional.conv2d.Conv2D object at 0x7e6ecbe9fb20> False\n",
            "<keras.src.layers.convolutional.conv2d.Conv2D object at 0x7e6ecbec2aa0> False\n",
            "<keras.src.layers.pooling.max_pooling2d.MaxPooling2D object at 0x7e6ecbe9caf0> False\n",
            "<keras.src.layers.convolutional.conv2d.Conv2D object at 0x7e6ed86062f0> False\n",
            "<keras.src.layers.convolutional.conv2d.Conv2D object at 0x7e6ed86c4b20> False\n",
            "<keras.src.layers.pooling.max_pooling2d.MaxPooling2D object at 0x7e6ecbef4d30> False\n",
            "<keras.src.layers.convolutional.conv2d.Conv2D object at 0x7e6ecbec1a50> False\n",
            "<keras.src.layers.convolutional.conv2d.Conv2D object at 0x7e6ecbe45300> False\n",
            "<keras.src.layers.convolutional.conv2d.Conv2D object at 0x7e6ed90ddd50> False\n",
            "<keras.src.layers.pooling.max_pooling2d.MaxPooling2D object at 0x7e6ecbef7790> False\n",
            "<keras.src.layers.convolutional.conv2d.Conv2D object at 0x7e6ecbef4550> False\n",
            "<keras.src.layers.convolutional.conv2d.Conv2D object at 0x7e6ecbef4730> False\n",
            "<keras.src.layers.convolutional.conv2d.Conv2D object at 0x7e6ecbe9faf0> False\n",
            "<keras.src.layers.pooling.max_pooling2d.MaxPooling2D object at 0x7e6ed80fe560> False\n",
            "<keras.src.layers.convolutional.conv2d.Conv2D object at 0x7e6ecbef7280> False\n",
            "<keras.src.layers.convolutional.conv2d.Conv2D object at 0x7e6ed80fe5f0> False\n",
            "<keras.src.layers.convolutional.conv2d.Conv2D object at 0x7e6ecbef4310> True\n",
            "<keras.src.layers.pooling.max_pooling2d.MaxPooling2D object at 0x7e6ed80fece0> True\n",
            "Model: \"sequential_24\"\n",
            "_________________________________________________________________\n",
            " Layer (type)                Output Shape              Param #   \n",
            "=================================================================\n",
            " vgg16 (Functional)          (None, 7, 7, 512)         14714688  \n",
            "                                                                 \n",
            " flatten_24 (Flatten)        (None, 25088)             0         \n",
            "                                                                 \n",
            " dense_48 (Dense)            (None, 256)               6422784   \n",
            "                                                                 \n",
            " dropout_24 (Dropout)        (None, 256)               0         \n",
            "                                                                 \n",
            " dense_49 (Dense)            (None, 792)               203544    \n",
            "                                                                 \n",
            "=================================================================\n",
            "Total params: 21341016 (81.41 MB)\n",
            "Trainable params: 8986136 (34.28 MB)\n",
            "Non-trainable params: 12354880 (47.13 MB)\n",
            "_________________________________________________________________\n",
            "[17  8 69  9  3 30 56 86 33 82 41 34 49 21 88 27 29  6 96 47  4 94 83 10\n",
            " 57 50 70 13 64 37 51 42 65 54 48 25 80 44 40 58 62 53 79 73  2  1 76 95\n",
            " 35  7 68  0 85 39 92 23 89 98 43 18 46 97 14 72 60 36 78 38 11 19 71 77\n",
            " 15 93 59  5 61 16 87 63 84 45 12 66 74 81 26 75 91 90 24 55 32 31 67 28\n",
            " 22 52 20]\n"
          ]
        },
        {
          "output_type": "stream",
          "name": "stderr",
          "text": [
            "WARNING:absl:`lr` is deprecated in Keras optimizer, please use `learning_rate` or use the legacy optimizer, e.g.,tf.keras.optimizers.legacy.Adam.\n"
          ]
        },
        {
          "output_type": "stream",
          "name": "stdout",
          "text": [
            "X_train shape: (792, 224, 224, 3)\n",
            "y_train shape: (792,)\n",
            "X_train shape: (198, 224, 224, 3)\n",
            "y_train shape: (198,)\n",
            "Epoch 1/10\n"
          ]
        },
        {
          "output_type": "error",
          "ename": "ValueError",
          "evalue": "in user code:\n\n    File \"/usr/local/lib/python3.10/dist-packages/keras/src/engine/training.py\", line 1401, in train_function  *\n        return step_function(self, iterator)\n    File \"/usr/local/lib/python3.10/dist-packages/keras/src/engine/training.py\", line 1384, in step_function  **\n        outputs = model.distribute_strategy.run(run_step, args=(data,))\n    File \"/usr/local/lib/python3.10/dist-packages/keras/src/engine/training.py\", line 1373, in run_step  **\n        outputs = model.train_step(data)\n    File \"/usr/local/lib/python3.10/dist-packages/keras/src/engine/training.py\", line 1151, in train_step\n        loss = self.compute_loss(x, y, y_pred, sample_weight)\n    File \"/usr/local/lib/python3.10/dist-packages/keras/src/engine/training.py\", line 1209, in compute_loss\n        return self.compiled_loss(\n    File \"/usr/local/lib/python3.10/dist-packages/keras/src/engine/compile_utils.py\", line 277, in __call__\n        loss_value = loss_obj(y_t, y_p, sample_weight=sw)\n    File \"/usr/local/lib/python3.10/dist-packages/keras/src/losses.py\", line 143, in __call__\n        losses = call_fn(y_true, y_pred)\n    File \"/usr/local/lib/python3.10/dist-packages/keras/src/losses.py\", line 270, in call  **\n        return ag_fn(y_true, y_pred, **self._fn_kwargs)\n    File \"/usr/local/lib/python3.10/dist-packages/keras/src/losses.py\", line 2221, in categorical_crossentropy\n        return backend.categorical_crossentropy(\n    File \"/usr/local/lib/python3.10/dist-packages/keras/src/backend.py\", line 5573, in categorical_crossentropy\n        target.shape.assert_is_compatible_with(output.shape)\n\n    ValueError: Shapes (12, 1) and (12, 792) are incompatible\n",
          "traceback": [
            "\u001b[0;31m---------------------------------------------------------------------------\u001b[0m",
            "\u001b[0;31mValueError\u001b[0m                                Traceback (most recent call last)",
            "\u001b[0;32m<ipython-input-53-85b791e6392c>\u001b[0m in \u001b[0;36m<cell line: 59>\u001b[0;34m()\u001b[0m\n\u001b[1;32m     57\u001b[0m \u001b[0mmodel\u001b[0m\u001b[0;34m.\u001b[0m\u001b[0mcompile\u001b[0m\u001b[0;34m(\u001b[0m\u001b[0moptimizer\u001b[0m\u001b[0;34m=\u001b[0m\u001b[0mAdam\u001b[0m\u001b[0;34m(\u001b[0m\u001b[0mlr\u001b[0m\u001b[0;34m=\u001b[0m\u001b[0;36m0.001\u001b[0m\u001b[0;34m)\u001b[0m\u001b[0;34m,\u001b[0m \u001b[0mloss\u001b[0m\u001b[0;34m=\u001b[0m\u001b[0;34m'categorical_crossentropy'\u001b[0m\u001b[0;34m,\u001b[0m \u001b[0mmetrics\u001b[0m\u001b[0;34m=\u001b[0m\u001b[0;34m[\u001b[0m\u001b[0;34m'accuracy'\u001b[0m\u001b[0;34m]\u001b[0m\u001b[0;34m)\u001b[0m\u001b[0;34m\u001b[0m\u001b[0;34m\u001b[0m\u001b[0m\n\u001b[1;32m     58\u001b[0m \u001b[0;34m\u001b[0m\u001b[0m\n\u001b[0;32m---> 59\u001b[0;31m \u001b[0mmodel\u001b[0m\u001b[0;34m.\u001b[0m\u001b[0mfit\u001b[0m\u001b[0;34m(\u001b[0m\u001b[0mX_train\u001b[0m\u001b[0;34m,\u001b[0m \u001b[0my_train\u001b[0m\u001b[0;34m,\u001b[0m \u001b[0mbatch_size\u001b[0m\u001b[0;34m=\u001b[0m\u001b[0;36m12\u001b[0m\u001b[0;34m,\u001b[0m \u001b[0mepochs\u001b[0m\u001b[0;34m=\u001b[0m\u001b[0;36m10\u001b[0m\u001b[0;34m,\u001b[0m \u001b[0mvalidation_data\u001b[0m\u001b[0;34m=\u001b[0m\u001b[0;34m(\u001b[0m\u001b[0mX_val\u001b[0m\u001b[0;34m,\u001b[0m \u001b[0my_val\u001b[0m\u001b[0;34m)\u001b[0m\u001b[0;34m)\u001b[0m\u001b[0;34m\u001b[0m\u001b[0;34m\u001b[0m\u001b[0m\n\u001b[0m\u001b[1;32m     60\u001b[0m \u001b[0;34m\u001b[0m\u001b[0m\n\u001b[1;32m     61\u001b[0m \u001b[0mmodel\u001b[0m\u001b[0;34m.\u001b[0m\u001b[0msave\u001b[0m\u001b[0;34m(\u001b[0m\u001b[0;34m'pppo_leaf_vgg16.h5'\u001b[0m\u001b[0;34m)\u001b[0m\u001b[0;34m\u001b[0m\u001b[0;34m\u001b[0m\u001b[0m\n",
            "\u001b[0;32m/usr/local/lib/python3.10/dist-packages/keras/src/utils/traceback_utils.py\u001b[0m in \u001b[0;36merror_handler\u001b[0;34m(*args, **kwargs)\u001b[0m\n\u001b[1;32m     68\u001b[0m             \u001b[0;31m# To get the full stack trace, call:\u001b[0m\u001b[0;34m\u001b[0m\u001b[0;34m\u001b[0m\u001b[0m\n\u001b[1;32m     69\u001b[0m             \u001b[0;31m# `tf.debugging.disable_traceback_filtering()`\u001b[0m\u001b[0;34m\u001b[0m\u001b[0;34m\u001b[0m\u001b[0m\n\u001b[0;32m---> 70\u001b[0;31m             \u001b[0;32mraise\u001b[0m \u001b[0me\u001b[0m\u001b[0;34m.\u001b[0m\u001b[0mwith_traceback\u001b[0m\u001b[0;34m(\u001b[0m\u001b[0mfiltered_tb\u001b[0m\u001b[0;34m)\u001b[0m \u001b[0;32mfrom\u001b[0m \u001b[0;32mNone\u001b[0m\u001b[0;34m\u001b[0m\u001b[0;34m\u001b[0m\u001b[0m\n\u001b[0m\u001b[1;32m     71\u001b[0m         \u001b[0;32mfinally\u001b[0m\u001b[0;34m:\u001b[0m\u001b[0;34m\u001b[0m\u001b[0;34m\u001b[0m\u001b[0m\n\u001b[1;32m     72\u001b[0m             \u001b[0;32mdel\u001b[0m \u001b[0mfiltered_tb\u001b[0m\u001b[0;34m\u001b[0m\u001b[0;34m\u001b[0m\u001b[0m\n",
            "\u001b[0;32m/usr/local/lib/python3.10/dist-packages/keras/src/engine/training.py\u001b[0m in \u001b[0;36mtf__train_function\u001b[0;34m(iterator)\u001b[0m\n\u001b[1;32m     13\u001b[0m                 \u001b[0;32mtry\u001b[0m\u001b[0;34m:\u001b[0m\u001b[0;34m\u001b[0m\u001b[0;34m\u001b[0m\u001b[0m\n\u001b[1;32m     14\u001b[0m                     \u001b[0mdo_return\u001b[0m \u001b[0;34m=\u001b[0m \u001b[0;32mTrue\u001b[0m\u001b[0;34m\u001b[0m\u001b[0;34m\u001b[0m\u001b[0m\n\u001b[0;32m---> 15\u001b[0;31m                     \u001b[0mretval_\u001b[0m \u001b[0;34m=\u001b[0m \u001b[0mag__\u001b[0m\u001b[0;34m.\u001b[0m\u001b[0mconverted_call\u001b[0m\u001b[0;34m(\u001b[0m\u001b[0mag__\u001b[0m\u001b[0;34m.\u001b[0m\u001b[0mld\u001b[0m\u001b[0;34m(\u001b[0m\u001b[0mstep_function\u001b[0m\u001b[0;34m)\u001b[0m\u001b[0;34m,\u001b[0m \u001b[0;34m(\u001b[0m\u001b[0mag__\u001b[0m\u001b[0;34m.\u001b[0m\u001b[0mld\u001b[0m\u001b[0;34m(\u001b[0m\u001b[0mself\u001b[0m\u001b[0;34m)\u001b[0m\u001b[0;34m,\u001b[0m \u001b[0mag__\u001b[0m\u001b[0;34m.\u001b[0m\u001b[0mld\u001b[0m\u001b[0;34m(\u001b[0m\u001b[0miterator\u001b[0m\u001b[0;34m)\u001b[0m\u001b[0;34m)\u001b[0m\u001b[0;34m,\u001b[0m \u001b[0;32mNone\u001b[0m\u001b[0;34m,\u001b[0m \u001b[0mfscope\u001b[0m\u001b[0;34m)\u001b[0m\u001b[0;34m\u001b[0m\u001b[0;34m\u001b[0m\u001b[0m\n\u001b[0m\u001b[1;32m     16\u001b[0m                 \u001b[0;32mexcept\u001b[0m\u001b[0;34m:\u001b[0m\u001b[0;34m\u001b[0m\u001b[0;34m\u001b[0m\u001b[0m\n\u001b[1;32m     17\u001b[0m                     \u001b[0mdo_return\u001b[0m \u001b[0;34m=\u001b[0m \u001b[0;32mFalse\u001b[0m\u001b[0;34m\u001b[0m\u001b[0;34m\u001b[0m\u001b[0m\n",
            "\u001b[0;31mValueError\u001b[0m: in user code:\n\n    File \"/usr/local/lib/python3.10/dist-packages/keras/src/engine/training.py\", line 1401, in train_function  *\n        return step_function(self, iterator)\n    File \"/usr/local/lib/python3.10/dist-packages/keras/src/engine/training.py\", line 1384, in step_function  **\n        outputs = model.distribute_strategy.run(run_step, args=(data,))\n    File \"/usr/local/lib/python3.10/dist-packages/keras/src/engine/training.py\", line 1373, in run_step  **\n        outputs = model.train_step(data)\n    File \"/usr/local/lib/python3.10/dist-packages/keras/src/engine/training.py\", line 1151, in train_step\n        loss = self.compute_loss(x, y, y_pred, sample_weight)\n    File \"/usr/local/lib/python3.10/dist-packages/keras/src/engine/training.py\", line 1209, in compute_loss\n        return self.compiled_loss(\n    File \"/usr/local/lib/python3.10/dist-packages/keras/src/engine/compile_utils.py\", line 277, in __call__\n        loss_value = loss_obj(y_t, y_p, sample_weight=sw)\n    File \"/usr/local/lib/python3.10/dist-packages/keras/src/losses.py\", line 143, in __call__\n        losses = call_fn(y_true, y_pred)\n    File \"/usr/local/lib/python3.10/dist-packages/keras/src/losses.py\", line 270, in call  **\n        return ag_fn(y_true, y_pred, **self._fn_kwargs)\n    File \"/usr/local/lib/python3.10/dist-packages/keras/src/losses.py\", line 2221, in categorical_crossentropy\n        return backend.categorical_crossentropy(\n    File \"/usr/local/lib/python3.10/dist-packages/keras/src/backend.py\", line 5573, in categorical_crossentropy\n        target.shape.assert_is_compatible_with(output.shape)\n\n    ValueError: Shapes (12, 1) and (12, 792) are incompatible\n"
          ]
        }
      ]
    },
    {
      "cell_type": "markdown",
      "source": [
        "## **5. Zaključak**"
      ],
      "metadata": {
        "id": "T7nY9zzBO6Pu"
      }
    },
    {
      "cell_type": "markdown",
      "source": [],
      "metadata": {
        "id": "80gnq0yCPFZb"
      }
    },
    {
      "cell_type": "markdown",
      "source": [
        "## **6. Literatura**"
      ],
      "metadata": {
        "id": "aVUhegwUO8-x"
      }
    },
    {
      "cell_type": "markdown",
      "source": [],
      "metadata": {
        "id": "rVAEwTJxPF8W"
      }
    }
  ]
}