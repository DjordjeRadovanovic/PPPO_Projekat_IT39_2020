{
  "nbformat": 4,
  "nbformat_minor": 0,
  "metadata": {
    "colab": {
      "provenance": [],
      "gpuType": "T4",
      "authorship_tag": "ABX9TyM+KFcn9+UZiJcGJkES6nuM",
      "include_colab_link": true
    },
    "kernelspec": {
      "name": "python3",
      "display_name": "Python 3"
    },
    "language_info": {
      "name": "python"
    },
    "accelerator": "GPU"
  },
  "cells": [
    {
      "cell_type": "markdown",
      "metadata": {
        "id": "view-in-github",
        "colab_type": "text"
      },
      "source": [
        "<a href=\"https://colab.research.google.com/github/DjordjeRadovanovic/PPPO_Projekat_IT39_2020/blob/main/PPPO_Projekat_IT39_2020.ipynb\" target=\"_parent\"><img src=\"https://colab.research.google.com/assets/colab-badge.svg\" alt=\"Open In Colab\"/></a>"
      ]
    },
    {
      "cell_type": "markdown",
      "source": [
        "# **Principi prezentacije i prepoznavanja oblika 2023/2024**"
      ],
      "metadata": {
        "id": "zcLjyarQJLt0"
      }
    },
    {
      "cell_type": "markdown",
      "source": [
        "\n",
        "**Đorđe Radovanović IT39/2020**\n",
        "\n",
        "**Tema:** Klasifikacija lišća"
      ],
      "metadata": {
        "id": "0kAgPujZJNai"
      }
    },
    {
      "cell_type": "markdown",
      "source": [
        "## **Sadržaj**"
      ],
      "metadata": {
        "id": "j_JONDQdLEmZ"
      }
    },
    {
      "cell_type": "markdown",
      "source": [
        "1. Uvod\n",
        "2. Tema\n",
        "3. Učitavanje dataseta\n",
        "4. Projekat\n",
        "5. Zaključak\n",
        "6. Literatura"
      ],
      "metadata": {
        "id": "paZPrjO1Ley8"
      }
    },
    {
      "cell_type": "markdown",
      "source": [
        "## **1. Uvod**"
      ],
      "metadata": {
        "id": "RUM2CE-kNhwy"
      }
    },
    {
      "cell_type": "markdown",
      "source": [],
      "metadata": {
        "id": "fvemCeeoNsdw"
      }
    },
    {
      "cell_type": "markdown",
      "source": [
        "## **2. Metodologija**"
      ],
      "metadata": {
        "id": "hiB5VHRqNxt4"
      }
    },
    {
      "cell_type": "markdown",
      "source": [],
      "metadata": {
        "id": "xHqpSRS3N3dg"
      }
    },
    {
      "cell_type": "markdown",
      "source": [
        "## **3. Učitavanje dataseta**"
      ],
      "metadata": {
        "id": "EWQ2Og6uOhRd"
      }
    },
    {
      "cell_type": "markdown",
      "source": [
        "Prvi korak je učitavanje seta podataka koji će se koristiti prilikom treniranja modela. Da bi se to uradilo, neophodno je skinuti .zip fajl koji sadrži sve potrebne podatke, pomoću **wget** komande."
      ],
      "metadata": {
        "id": "U2RZTv0QPCzG"
      }
    },
    {
      "cell_type": "code",
      "source": [
        "!wget --no-check-certificate 'https://drive.usercontent.google.com/download?id=1r4yy2ZIUGoyESydQzY39L-0s8ld7fuXr&confirm=xxx' -O Leaf_Classification.zip"
      ],
      "metadata": {
        "colab": {
          "base_uri": "https://localhost:8080/"
        },
        "id": "kM-259_HNp-7",
        "outputId": "de1109fa-c7ca-4ca7-a90e-66b9ca3d0218"
      },
      "execution_count": 2,
      "outputs": [
        {
          "output_type": "stream",
          "name": "stdout",
          "text": [
            "--2024-06-16 14:12:19--  https://drive.usercontent.google.com/download?id=1r4yy2ZIUGoyESydQzY39L-0s8ld7fuXr&confirm=xxx\n",
            "Resolving drive.usercontent.google.com (drive.usercontent.google.com)... 142.251.2.132, 2607:f8b0:4023:c0d::84\n",
            "Connecting to drive.usercontent.google.com (drive.usercontent.google.com)|142.251.2.132|:443... connected.\n",
            "HTTP request sent, awaiting response... 200 OK\n",
            "Length: 35953027 (34M) [application/octet-stream]\n",
            "Saving to: ‘Leaf_Classification.zip’\n",
            "\n",
            "Leaf_Classification 100%[===================>]  34.29M  28.2MB/s    in 1.2s    \n",
            "\n",
            "2024-06-16 14:12:21 (28.2 MB/s) - ‘Leaf_Classification.zip’ saved [35953027/35953027]\n",
            "\n"
          ]
        }
      ]
    },
    {
      "cell_type": "markdown",
      "source": [
        "Kada je Leaf_Classification.zip fajl skinut, potrebno je izvršiti dekompresiju podataka. To radimo pomoću **unzip** komande."
      ],
      "metadata": {
        "id": "4XXuaOm2PA4t"
      }
    },
    {
      "cell_type": "code",
      "source": [
        "!unzip Leaf_Classification.zip"
      ],
      "metadata": {
        "colab": {
          "base_uri": "https://localhost:8080/"
        },
        "id": "kfy0z1NAPWrK",
        "outputId": "5e9c8a1e-6cc4-4049-8e2a-a136328de85b"
      },
      "execution_count": 3,
      "outputs": [
        {
          "output_type": "stream",
          "name": "stdout",
          "text": [
            "Archive:  Leaf_Classification.zip\n",
            "  inflating: images.zip              \n",
            "  inflating: sample_submission.csv.zip  \n",
            "  inflating: test.csv.zip            \n",
            "  inflating: train.csv.zip           \n"
          ]
        }
      ]
    },
    {
      "cell_type": "markdown",
      "source": [
        "Možemo uočiti da se u Leaf_Classification.zip fajlu nalaze još 4 posebna .zip fajla: *images.zip*, *sample_submission.csv.zip*, *train.csv.zip* i *test.csv.zip*. Analizom sadržaja ovih fajlova utvrđeno je da neće trebati *sample_submission.csv.zip*. Stoga, ponovićemo **unzip**, ali samo za ostala tri .zip fajla."
      ],
      "metadata": {
        "id": "r5tpKgVRPW_N"
      }
    },
    {
      "cell_type": "code",
      "source": [
        "!unzip -qq images.zip\n",
        "!unzip -qq train.csv.zip\n",
        "!unzip -qq test.csv.zip"
      ],
      "metadata": {
        "id": "H4Jv2I54RS-3"
      },
      "execution_count": 4,
      "outputs": []
    },
    {
      "cell_type": "markdown",
      "source": [
        "Sada imamo sve podatke raspakovane i spremne za korišćenje u daljem radu. Sledeći korak je pisanje samog koda za pripremu podataka, generisanje, treniranje i testiranje modela."
      ],
      "metadata": {
        "id": "XX3pU-8jTaD8"
      }
    },
    {
      "cell_type": "markdown",
      "source": [
        "## **4. Projekat**"
      ],
      "metadata": {
        "id": "qYqCozqjOh2N"
      }
    },
    {
      "cell_type": "markdown",
      "source": [
        "Prva stvar koju je potrebno uraditi je importovanje svih neophodnih biblioteka za projekat. Potrebno je koristiti **pandas** biblioteku za Python, koja ima DataFrame dvodimenzionalnu strukturu podataka koju možemo koristiti za predstavljanje tabelarnih CSV podataka. Takođe je potrebno koristiti **NumPy** biblioteku za matematičke operacije nad prosleđenim podacima.\n",
        "\n",
        "VGG16 model možemo preuzeti iz **Keras** biblioteke, koja se koristi u svrhe mašinskog učenja. **Keras** biblioteka sadrži veliki broj modela, uključujuči i VGG16, koji će se koristiti. **Keras** koristi TensorFlow backend."
      ],
      "metadata": {
        "id": "OhAzqow9PEuq"
      }
    },
    {
      "cell_type": "code",
      "source": [
        "# Importovanje neophodnih biblioteka\n",
        "import keras\n",
        "import pandas as pd\n",
        "import numpy as np\n",
        "from PIL import Image\n",
        "from sklearn.model_selection import train_test_split\n",
        "from sklearn.preprocessing import LabelEncoder\n",
        "from keras.applications import VGG16\n",
        "from keras.models import Model\n",
        "from keras.layers import Dense, Flatten, Dropout\n",
        "from keras.optimizers import Adam\n",
        "from keras.preprocessing.image import ImageDataGenerator"
      ],
      "metadata": {
        "id": "BidhFKo0ihEL"
      },
      "execution_count": null,
      "outputs": []
    },
    {
      "cell_type": "markdown",
      "source": [
        "Sledeći korak je učitavanje i sređivanje CSV podataka iz train.csv fajla. Učitavanje se vrši pomoću read_csv funkcije iz pandas paketa."
      ],
      "metadata": {
        "id": "LCULRVGki6lJ"
      }
    },
    {
      "cell_type": "code",
      "source": [
        "# Učitavanje podataka iz train.csv u train_data DataFrame\n",
        "train_data = pd.read_csv('train.csv')\n",
        "\n",
        "# Prikazivanje svih kolona\n",
        "train_data.columns"
      ],
      "metadata": {
        "colab": {
          "base_uri": "https://localhost:8080/"
        },
        "id": "nGuov_qsjtFs",
        "outputId": "0faa328e-d68f-45cf-de0c-a8a74f0a4d81"
      },
      "execution_count": null,
      "outputs": [
        {
          "output_type": "execute_result",
          "data": {
            "text/plain": [
              "Index(['id', 'species', 'margin1', 'margin2', 'margin3', 'margin4', 'margin5',\n",
              "       'margin6', 'margin7', 'margin8',\n",
              "       ...\n",
              "       'texture55', 'texture56', 'texture57', 'texture58', 'texture59',\n",
              "       'texture60', 'texture61', 'texture62', 'texture63', 'texture64'],\n",
              "      dtype='object', length=194)"
            ]
          },
          "metadata": {},
          "execution_count": 18
        }
      ]
    },
    {
      "cell_type": "markdown",
      "source": [
        "Vidimo da ima veliki broj kolona - marginX kolone, shapeX kolone, textureX kolone. Kako nisu potrebne za ovaj projekat, možemo ih izbaciti."
      ],
      "metadata": {
        "id": "PKpdnBwvm59u"
      }
    },
    {
      "cell_type": "code",
      "source": [
        "# Brisanje nepotrebnih kolona\n",
        "i = 1\n",
        "while i <= 64:\n",
        "  del train_data['margin' + str(i)]\n",
        "  del train_data['shape' + str(i)]\n",
        "  del train_data['texture' + str(i)]\n",
        "  i = i + 1\n",
        "\n",
        "# Prikazivanje svih kolona\n",
        "train_data.columns"
      ],
      "metadata": {
        "colab": {
          "base_uri": "https://localhost:8080/"
        },
        "id": "gCE3VT4EnDtQ",
        "outputId": "97f2fd07-f6b9-4260-ba72-ffda7105388e"
      },
      "execution_count": null,
      "outputs": [
        {
          "output_type": "execute_result",
          "data": {
            "text/plain": [
              "Index(['id', 'species'], dtype='object')"
            ]
          },
          "metadata": {},
          "execution_count": 19
        }
      ]
    },
    {
      "cell_type": "markdown",
      "source": [
        "Sada imamo samo dve kolone, **id** (koja predstavlja sliku u /images, poput 1.png), i **species** (klasa datog lista sa slike). Poslednja stvar koju treba odraditi je brisanje redova sa null vrednostima, ukoliko ih ima."
      ],
      "metadata": {
        "id": "HXWhCkx6pNSm"
      }
    },
    {
      "cell_type": "code",
      "source": [
        "# Broj redova pre brisanja null vrednosti\n",
        "print(train_data.shape[0])\n",
        "\n",
        "# Brisanje redova sa null vrednostima\n",
        "train_data.dropna()\n",
        "\n",
        "# Broj redova nakon brisanja null vrednosti\n",
        "print(train_data.shape[0])"
      ],
      "metadata": {
        "colab": {
          "base_uri": "https://localhost:8080/"
        },
        "id": "j-uRiLrJqo6K",
        "outputId": "26994136-1f1d-4a28-cc57-f4d260c235eb"
      },
      "execution_count": null,
      "outputs": [
        {
          "output_type": "stream",
          "name": "stdout",
          "text": [
            "990\n",
            "990\n"
          ]
        }
      ]
    },
    {
      "cell_type": "markdown",
      "source": [
        "Sada možemo dodati slike u train_data dataframe. To možemo obaviti kreiranjem nove kolone gde slika u koloni odgovara ID-ju (\"1 -> images/1.jpg\"). Potrebno je koristiti funkcije za manipulaciju slikama iz **Python Image Library** (**PIL**) biblioteke.\n",
        "\n",
        "**VGG16** zahteva upotrebu 224x224 slika, pa se slike već u ovom koraku mogu prilagoditi datom formatu."
      ],
      "metadata": {
        "id": "5IEElRcsrKRJ"
      }
    },
    {
      "cell_type": "code",
      "source": [
        "# Pretvaranje slike u NumPy array\n",
        "def image_column(id):\n",
        "  img = Image.open(f'images/{id}.jpg')\n",
        "  img = img.resize((224, 224))          # 224x224 dimenzije\n",
        "  return np.asarray(img)\n",
        "\n",
        "# Dodavanje nove kolone sa slikom koja odgovara koloni 'id'\n",
        "train_data['img'] = train_data['id'].apply(image_column)\n",
        "\n",
        "# Primer slike\n",
        "train_data['img'][0]"
      ],
      "metadata": {
        "id": "q-fl5Mpjs2vH",
        "colab": {
          "base_uri": "https://localhost:8080/",
          "height": 265
        },
        "outputId": "0f2d1b17-abf7-4aa7-95e2-231380563aa4"
      },
      "execution_count": null,
      "outputs": [
        {
          "output_type": "execute_result",
          "data": {
            "text/plain": [
              "array([[0, 0, 0, ..., 0, 0, 0],\n",
              "       [0, 0, 0, ..., 0, 0, 0],\n",
              "       [0, 0, 0, ..., 0, 0, 0],\n",
              "       ...,\n",
              "       [0, 0, 0, ..., 0, 0, 0],\n",
              "       [0, 0, 0, ..., 0, 0, 0],\n",
              "       [0, 0, 0, ..., 0, 0, 0]], dtype=uint8)"
            ],
            "text/html": [
              "<style>\n",
              "      .ndarray_repr .ndarray_raw_data {\n",
              "        display: none;\n",
              "      }\n",
              "      .ndarray_repr.show_array .ndarray_raw_data {\n",
              "        display: block;\n",
              "      }\n",
              "      .ndarray_repr.show_array .ndarray_image_preview {\n",
              "        display: none;\n",
              "      }\n",
              "      </style>\n",
              "      <div id=\"id-2ea5c43b-b08c-4a1b-b2d5-62c56488d4c8\" class=\"ndarray_repr\"><pre>ndarray (224, 224) <button style=\"padding: 0 2px;\">show data</button></pre><img src=\"data:image/png;base64,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\" class=\"ndarray_image_preview\" /><pre class=\"ndarray_raw_data\">array([[0, 0, 0, ..., 0, 0, 0],\n",
              "       [0, 0, 0, ..., 0, 0, 0],\n",
              "       [0, 0, 0, ..., 0, 0, 0],\n",
              "       ...,\n",
              "       [0, 0, 0, ..., 0, 0, 0],\n",
              "       [0, 0, 0, ..., 0, 0, 0],\n",
              "       [0, 0, 0, ..., 0, 0, 0]], dtype=uint8)</pre></div><script>\n",
              "      (() => {\n",
              "      const titles = ['show data', 'hide data'];\n",
              "      let index = 0\n",
              "      document.querySelector('#id-2ea5c43b-b08c-4a1b-b2d5-62c56488d4c8 button').onclick = (e) => {\n",
              "        document.querySelector('#id-2ea5c43b-b08c-4a1b-b2d5-62c56488d4c8').classList.toggle('show_array');\n",
              "        index = (++index) % 2;\n",
              "        document.querySelector('#id-2ea5c43b-b08c-4a1b-b2d5-62c56488d4c8 button').textContent = titles[index];\n",
              "        e.preventDefault();\n",
              "        e.stopPropagation();\n",
              "      }\n",
              "      })();\n",
              "    </script>"
            ]
          },
          "metadata": {},
          "execution_count": 22
        }
      ]
    },
    {
      "cell_type": "markdown",
      "source": [
        "Podaci su sada u formatu koji je potreban za treniranje **VGG16** modela. Ostalo je da ih podelimo na dva dela, na podatke za treniranje i podatke za validaciju (kako bismo utvrdili da model ima odgovarajuću tačnost predikcije klasifikacije).\n",
        "\n",
        "Podelu vršimo putem **train_test_split** funkcije iz biblioteke **sklearn**."
      ],
      "metadata": {
        "id": "lLoIP3nls3K-"
      }
    },
    {
      "cell_type": "code",
      "source": [
        "# Podela na podatke za treniranje i podatke za validaciju (odnos 80:20)\n",
        "train_df, val_df = train_test_split(train_data, test_size=0.2, random_state=42)"
      ],
      "metadata": {
        "id": "TLiZy2Sbuc3i"
      },
      "execution_count": null,
      "outputs": []
    },
    {
      "cell_type": "markdown",
      "source": [
        "Sada imamo potpuno spremne dataframe-ove koje ćemo koristiti za treniranje i validaciju modela. Možemo uraditi sličan postupak za podatke koji će se koristiti za predikciju/testiranje modela."
      ],
      "metadata": {
        "id": "qEp4U_3AueLc"
      }
    },
    {
      "cell_type": "code",
      "source": [
        "# Učitavanje podataka iz test.csv u test_df DataFrame\n",
        "test_df = pd.read_csv('test.csv')\n",
        "\n",
        "# Brisanje nepotrebnih kolona\n",
        "i = 1\n",
        "while i <= 64:\n",
        "  del test_df['margin' + str(i)]\n",
        "  del test_df['shape' + str(i)]\n",
        "  del test_df['texture' + str(i)]\n",
        "  i = i + 1\n",
        "\n",
        "# Dodavanje nove kolone sa slikom koja odgovara koloni 'id'\n",
        "test_df['img'] = test_df['id'].apply(image_column)\n",
        "\n",
        "test_df"
      ],
      "metadata": {
        "id": "8EvhwnJXu_Uk",
        "colab": {
          "base_uri": "https://localhost:8080/",
          "height": 423
        },
        "outputId": "1ff0dc54-0f6c-42d6-b804-abaf985bc822"
      },
      "execution_count": null,
      "outputs": [
        {
          "output_type": "execute_result",
          "data": {
            "text/plain": [
              "       id                                                img\n",
              "0       4  [[0, 0, 0, 0, 0, 0, 0, 0, 0, 0, 0, 0, 0, 0, 0,...\n",
              "1       7  [[0, 0, 0, 0, 0, 0, 0, 0, 0, 0, 0, 0, 0, 0, 0,...\n",
              "2       9  [[0, 0, 0, 0, 0, 0, 0, 0, 0, 0, 0, 0, 0, 0, 0,...\n",
              "3      12  [[0, 0, 0, 0, 0, 0, 0, 0, 0, 0, 0, 0, 0, 0, 0,...\n",
              "4      13  [[0, 0, 0, 0, 0, 0, 0, 0, 0, 0, 0, 0, 0, 0, 0,...\n",
              "..    ...                                                ...\n",
              "589  1576  [[0, 0, 0, 0, 0, 0, 0, 0, 0, 0, 0, 0, 0, 0, 0,...\n",
              "590  1577  [[0, 0, 0, 0, 0, 0, 0, 0, 0, 0, 0, 0, 0, 0, 0,...\n",
              "591  1579  [[0, 0, 0, 0, 0, 0, 0, 0, 0, 0, 0, 0, 0, 0, 0,...\n",
              "592  1580  [[0, 0, 0, 0, 0, 0, 0, 0, 0, 0, 0, 0, 0, 0, 0,...\n",
              "593  1583  [[0, 0, 0, 0, 0, 0, 0, 0, 0, 0, 0, 0, 0, 0, 0,...\n",
              "\n",
              "[594 rows x 2 columns]"
            ],
            "text/html": [
              "\n",
              "  <div id=\"df-4de43243-6478-4712-b6ab-638ed7574af8\" class=\"colab-df-container\">\n",
              "    <div>\n",
              "<style scoped>\n",
              "    .dataframe tbody tr th:only-of-type {\n",
              "        vertical-align: middle;\n",
              "    }\n",
              "\n",
              "    .dataframe tbody tr th {\n",
              "        vertical-align: top;\n",
              "    }\n",
              "\n",
              "    .dataframe thead th {\n",
              "        text-align: right;\n",
              "    }\n",
              "</style>\n",
              "<table border=\"1\" class=\"dataframe\">\n",
              "  <thead>\n",
              "    <tr style=\"text-align: right;\">\n",
              "      <th></th>\n",
              "      <th>id</th>\n",
              "      <th>img</th>\n",
              "    </tr>\n",
              "  </thead>\n",
              "  <tbody>\n",
              "    <tr>\n",
              "      <th>0</th>\n",
              "      <td>4</td>\n",
              "      <td>[[0, 0, 0, 0, 0, 0, 0, 0, 0, 0, 0, 0, 0, 0, 0,...</td>\n",
              "    </tr>\n",
              "    <tr>\n",
              "      <th>1</th>\n",
              "      <td>7</td>\n",
              "      <td>[[0, 0, 0, 0, 0, 0, 0, 0, 0, 0, 0, 0, 0, 0, 0,...</td>\n",
              "    </tr>\n",
              "    <tr>\n",
              "      <th>2</th>\n",
              "      <td>9</td>\n",
              "      <td>[[0, 0, 0, 0, 0, 0, 0, 0, 0, 0, 0, 0, 0, 0, 0,...</td>\n",
              "    </tr>\n",
              "    <tr>\n",
              "      <th>3</th>\n",
              "      <td>12</td>\n",
              "      <td>[[0, 0, 0, 0, 0, 0, 0, 0, 0, 0, 0, 0, 0, 0, 0,...</td>\n",
              "    </tr>\n",
              "    <tr>\n",
              "      <th>4</th>\n",
              "      <td>13</td>\n",
              "      <td>[[0, 0, 0, 0, 0, 0, 0, 0, 0, 0, 0, 0, 0, 0, 0,...</td>\n",
              "    </tr>\n",
              "    <tr>\n",
              "      <th>...</th>\n",
              "      <td>...</td>\n",
              "      <td>...</td>\n",
              "    </tr>\n",
              "    <tr>\n",
              "      <th>589</th>\n",
              "      <td>1576</td>\n",
              "      <td>[[0, 0, 0, 0, 0, 0, 0, 0, 0, 0, 0, 0, 0, 0, 0,...</td>\n",
              "    </tr>\n",
              "    <tr>\n",
              "      <th>590</th>\n",
              "      <td>1577</td>\n",
              "      <td>[[0, 0, 0, 0, 0, 0, 0, 0, 0, 0, 0, 0, 0, 0, 0,...</td>\n",
              "    </tr>\n",
              "    <tr>\n",
              "      <th>591</th>\n",
              "      <td>1579</td>\n",
              "      <td>[[0, 0, 0, 0, 0, 0, 0, 0, 0, 0, 0, 0, 0, 0, 0,...</td>\n",
              "    </tr>\n",
              "    <tr>\n",
              "      <th>592</th>\n",
              "      <td>1580</td>\n",
              "      <td>[[0, 0, 0, 0, 0, 0, 0, 0, 0, 0, 0, 0, 0, 0, 0,...</td>\n",
              "    </tr>\n",
              "    <tr>\n",
              "      <th>593</th>\n",
              "      <td>1583</td>\n",
              "      <td>[[0, 0, 0, 0, 0, 0, 0, 0, 0, 0, 0, 0, 0, 0, 0,...</td>\n",
              "    </tr>\n",
              "  </tbody>\n",
              "</table>\n",
              "<p>594 rows × 2 columns</p>\n",
              "</div>\n",
              "    <div class=\"colab-df-buttons\">\n",
              "\n",
              "  <div class=\"colab-df-container\">\n",
              "    <button class=\"colab-df-convert\" onclick=\"convertToInteractive('df-4de43243-6478-4712-b6ab-638ed7574af8')\"\n",
              "            title=\"Convert this dataframe to an interactive table.\"\n",
              "            style=\"display:none;\">\n",
              "\n",
              "  <svg xmlns=\"http://www.w3.org/2000/svg\" height=\"24px\" viewBox=\"0 -960 960 960\">\n",
              "    <path d=\"M120-120v-720h720v720H120Zm60-500h600v-160H180v160Zm220 220h160v-160H400v160Zm0 220h160v-160H400v160ZM180-400h160v-160H180v160Zm440 0h160v-160H620v160ZM180-180h160v-160H180v160Zm440 0h160v-160H620v160Z\"/>\n",
              "  </svg>\n",
              "    </button>\n",
              "\n",
              "  <style>\n",
              "    .colab-df-container {\n",
              "      display:flex;\n",
              "      gap: 12px;\n",
              "    }\n",
              "\n",
              "    .colab-df-convert {\n",
              "      background-color: #E8F0FE;\n",
              "      border: none;\n",
              "      border-radius: 50%;\n",
              "      cursor: pointer;\n",
              "      display: none;\n",
              "      fill: #1967D2;\n",
              "      height: 32px;\n",
              "      padding: 0 0 0 0;\n",
              "      width: 32px;\n",
              "    }\n",
              "\n",
              "    .colab-df-convert:hover {\n",
              "      background-color: #E2EBFA;\n",
              "      box-shadow: 0px 1px 2px rgba(60, 64, 67, 0.3), 0px 1px 3px 1px rgba(60, 64, 67, 0.15);\n",
              "      fill: #174EA6;\n",
              "    }\n",
              "\n",
              "    .colab-df-buttons div {\n",
              "      margin-bottom: 4px;\n",
              "    }\n",
              "\n",
              "    [theme=dark] .colab-df-convert {\n",
              "      background-color: #3B4455;\n",
              "      fill: #D2E3FC;\n",
              "    }\n",
              "\n",
              "    [theme=dark] .colab-df-convert:hover {\n",
              "      background-color: #434B5C;\n",
              "      box-shadow: 0px 1px 3px 1px rgba(0, 0, 0, 0.15);\n",
              "      filter: drop-shadow(0px 1px 2px rgba(0, 0, 0, 0.3));\n",
              "      fill: #FFFFFF;\n",
              "    }\n",
              "  </style>\n",
              "\n",
              "    <script>\n",
              "      const buttonEl =\n",
              "        document.querySelector('#df-4de43243-6478-4712-b6ab-638ed7574af8 button.colab-df-convert');\n",
              "      buttonEl.style.display =\n",
              "        google.colab.kernel.accessAllowed ? 'block' : 'none';\n",
              "\n",
              "      async function convertToInteractive(key) {\n",
              "        const element = document.querySelector('#df-4de43243-6478-4712-b6ab-638ed7574af8');\n",
              "        const dataTable =\n",
              "          await google.colab.kernel.invokeFunction('convertToInteractive',\n",
              "                                                    [key], {});\n",
              "        if (!dataTable) return;\n",
              "\n",
              "        const docLinkHtml = 'Like what you see? Visit the ' +\n",
              "          '<a target=\"_blank\" href=https://colab.research.google.com/notebooks/data_table.ipynb>data table notebook</a>'\n",
              "          + ' to learn more about interactive tables.';\n",
              "        element.innerHTML = '';\n",
              "        dataTable['output_type'] = 'display_data';\n",
              "        await google.colab.output.renderOutput(dataTable, element);\n",
              "        const docLink = document.createElement('div');\n",
              "        docLink.innerHTML = docLinkHtml;\n",
              "        element.appendChild(docLink);\n",
              "      }\n",
              "    </script>\n",
              "  </div>\n",
              "\n",
              "\n",
              "<div id=\"df-a3ed8162-d4ae-452a-a116-1093660f66ba\">\n",
              "  <button class=\"colab-df-quickchart\" onclick=\"quickchart('df-a3ed8162-d4ae-452a-a116-1093660f66ba')\"\n",
              "            title=\"Suggest charts\"\n",
              "            style=\"display:none;\">\n",
              "\n",
              "<svg xmlns=\"http://www.w3.org/2000/svg\" height=\"24px\"viewBox=\"0 0 24 24\"\n",
              "     width=\"24px\">\n",
              "    <g>\n",
              "        <path d=\"M19 3H5c-1.1 0-2 .9-2 2v14c0 1.1.9 2 2 2h14c1.1 0 2-.9 2-2V5c0-1.1-.9-2-2-2zM9 17H7v-7h2v7zm4 0h-2V7h2v10zm4 0h-2v-4h2v4z\"/>\n",
              "    </g>\n",
              "</svg>\n",
              "  </button>\n",
              "\n",
              "<style>\n",
              "  .colab-df-quickchart {\n",
              "      --bg-color: #E8F0FE;\n",
              "      --fill-color: #1967D2;\n",
              "      --hover-bg-color: #E2EBFA;\n",
              "      --hover-fill-color: #174EA6;\n",
              "      --disabled-fill-color: #AAA;\n",
              "      --disabled-bg-color: #DDD;\n",
              "  }\n",
              "\n",
              "  [theme=dark] .colab-df-quickchart {\n",
              "      --bg-color: #3B4455;\n",
              "      --fill-color: #D2E3FC;\n",
              "      --hover-bg-color: #434B5C;\n",
              "      --hover-fill-color: #FFFFFF;\n",
              "      --disabled-bg-color: #3B4455;\n",
              "      --disabled-fill-color: #666;\n",
              "  }\n",
              "\n",
              "  .colab-df-quickchart {\n",
              "    background-color: var(--bg-color);\n",
              "    border: none;\n",
              "    border-radius: 50%;\n",
              "    cursor: pointer;\n",
              "    display: none;\n",
              "    fill: var(--fill-color);\n",
              "    height: 32px;\n",
              "    padding: 0;\n",
              "    width: 32px;\n",
              "  }\n",
              "\n",
              "  .colab-df-quickchart:hover {\n",
              "    background-color: var(--hover-bg-color);\n",
              "    box-shadow: 0 1px 2px rgba(60, 64, 67, 0.3), 0 1px 3px 1px rgba(60, 64, 67, 0.15);\n",
              "    fill: var(--button-hover-fill-color);\n",
              "  }\n",
              "\n",
              "  .colab-df-quickchart-complete:disabled,\n",
              "  .colab-df-quickchart-complete:disabled:hover {\n",
              "    background-color: var(--disabled-bg-color);\n",
              "    fill: var(--disabled-fill-color);\n",
              "    box-shadow: none;\n",
              "  }\n",
              "\n",
              "  .colab-df-spinner {\n",
              "    border: 2px solid var(--fill-color);\n",
              "    border-color: transparent;\n",
              "    border-bottom-color: var(--fill-color);\n",
              "    animation:\n",
              "      spin 1s steps(1) infinite;\n",
              "  }\n",
              "\n",
              "  @keyframes spin {\n",
              "    0% {\n",
              "      border-color: transparent;\n",
              "      border-bottom-color: var(--fill-color);\n",
              "      border-left-color: var(--fill-color);\n",
              "    }\n",
              "    20% {\n",
              "      border-color: transparent;\n",
              "      border-left-color: var(--fill-color);\n",
              "      border-top-color: var(--fill-color);\n",
              "    }\n",
              "    30% {\n",
              "      border-color: transparent;\n",
              "      border-left-color: var(--fill-color);\n",
              "      border-top-color: var(--fill-color);\n",
              "      border-right-color: var(--fill-color);\n",
              "    }\n",
              "    40% {\n",
              "      border-color: transparent;\n",
              "      border-right-color: var(--fill-color);\n",
              "      border-top-color: var(--fill-color);\n",
              "    }\n",
              "    60% {\n",
              "      border-color: transparent;\n",
              "      border-right-color: var(--fill-color);\n",
              "    }\n",
              "    80% {\n",
              "      border-color: transparent;\n",
              "      border-right-color: var(--fill-color);\n",
              "      border-bottom-color: var(--fill-color);\n",
              "    }\n",
              "    90% {\n",
              "      border-color: transparent;\n",
              "      border-bottom-color: var(--fill-color);\n",
              "    }\n",
              "  }\n",
              "</style>\n",
              "\n",
              "  <script>\n",
              "    async function quickchart(key) {\n",
              "      const quickchartButtonEl =\n",
              "        document.querySelector('#' + key + ' button');\n",
              "      quickchartButtonEl.disabled = true;  // To prevent multiple clicks.\n",
              "      quickchartButtonEl.classList.add('colab-df-spinner');\n",
              "      try {\n",
              "        const charts = await google.colab.kernel.invokeFunction(\n",
              "            'suggestCharts', [key], {});\n",
              "      } catch (error) {\n",
              "        console.error('Error during call to suggestCharts:', error);\n",
              "      }\n",
              "      quickchartButtonEl.classList.remove('colab-df-spinner');\n",
              "      quickchartButtonEl.classList.add('colab-df-quickchart-complete');\n",
              "    }\n",
              "    (() => {\n",
              "      let quickchartButtonEl =\n",
              "        document.querySelector('#df-a3ed8162-d4ae-452a-a116-1093660f66ba button');\n",
              "      quickchartButtonEl.style.display =\n",
              "        google.colab.kernel.accessAllowed ? 'block' : 'none';\n",
              "    })();\n",
              "  </script>\n",
              "</div>\n",
              "    </div>\n",
              "  </div>\n"
            ],
            "application/vnd.google.colaboratory.intrinsic+json": {
              "type": "dataframe",
              "variable_name": "test_df",
              "summary": "{\n  \"name\": \"test_df\",\n  \"rows\": 594,\n  \"fields\": [\n    {\n      \"column\": \"id\",\n      \"properties\": {\n        \"dtype\": \"number\",\n        \"std\": 465,\n        \"min\": 4,\n        \"max\": 1583,\n        \"num_unique_values\": 594,\n        \"samples\": [\n          89,\n          781,\n          448\n        ],\n        \"semantic_type\": \"\",\n        \"description\": \"\"\n      }\n    },\n    {\n      \"column\": \"img\",\n      \"properties\": {\n        \"dtype\": \"object\",\n        \"semantic_type\": \"\",\n        \"description\": \"\"\n      }\n    }\n  ]\n}"
            }
          },
          "metadata": {},
          "execution_count": 23
        }
      ]
    },
    {
      "cell_type": "markdown",
      "source": [
        "Sada smo dobili tri vrste podataka:\n",
        "\n",
        "* **train_df** - Podaci za treniranje modela\n",
        "* **val_df** - Podaci za validaciju modela\n",
        "* **test_df** - Podaci za testiranje modela\n",
        "\n",
        "Nakon sređivanja i čišćenja podataka, sledeći korak je priprema **VGG16** modela."
      ],
      "metadata": {
        "id": "UJ7kOs1nu_yO"
      }
    },
    {
      "cell_type": "markdown",
      "source": [],
      "metadata": {
        "id": "NL86006vot4v"
      }
    },
    {
      "cell_type": "code",
      "source": [
        "########################################################################\n",
        "# DEBUG - stavljen ceo gornji kod ovde\n",
        "########################################################################\n",
        "\n",
        "\n",
        "# Importovanje neophodnih biblioteka\n",
        "import keras\n",
        "import pandas as pd\n",
        "import numpy as np\n",
        "#from PIL import Image\n",
        "from sklearn.model_selection import train_test_split\n",
        "from sklearn.preprocessing import LabelEncoder\n",
        "from keras.applications import VGG16\n",
        "from keras.models import Model\n",
        "from keras.layers import Dense, Flatten, Dropout, Conv2D, MaxPool2D\n",
        "from keras.optimizers import Adam, SGD, RMSprop\n",
        "#from keras.preprocessing.image import ImageDataGenerator\n",
        "from keras.applications.vgg16 import preprocess_input\n",
        "from keras.preprocessing import image   #IZMENA\n",
        "import os\n",
        "from PIL import Image # IZMENA!!!!!!!!!!!\n",
        "import matplotlib.pyplot as plt\n",
        "\n",
        "\n",
        "\n",
        "# Učitavanje podataka iz train.csv u train_data DataFrame\n",
        "#train_data = pd.read_csv('train.csv')\n",
        "\n",
        "# Prikazivanje svih kolona\n",
        "#train_data.columns\n",
        "\n",
        "\n",
        "\n",
        "\n",
        "# Brisanje nepotrebnih kolona\n",
        "#i = 1\n",
        "#while i <= 64:\n",
        "#  del train_data['margin' + str(i)]\n",
        "#  del train_data['shape' + str(i)]\n",
        "#  del train_data['texture' + str(i)]\n",
        "#  i = i + 1\n",
        "\n",
        "# Prikazivanje svih kolona\n",
        "#train_data.columns\n",
        "\n",
        "\n",
        "\n",
        "# Broj redova pre brisanja null vrednosti\n",
        "#print(train_data.shape[0])\n",
        "\n",
        "# Brisanje redova sa null vrednostima\n",
        "#train_data.dropna()\n",
        "\n",
        "# Broj redova nakon brisanja null vrednosti\n",
        "#print(train_data.shape[0])\n",
        "\n",
        "\n",
        "\n",
        "\n",
        "# Pretvaranje slike u NumPy array\n",
        "#def image_column(id):\n",
        "#  img = Image.open(f'images/{id}.jpg')\n",
        "#  img = img.resize((224, 224))          # 224x224 dimenzije\n",
        "#  return np.asarray(img)\n",
        "\n",
        "#########################################IZMENA\n",
        "# Pretvaranje slike u NumPy array\n",
        "#def image_column(id):\n",
        "#  img = image.load_img(f'images/{id}.jpg', target_size=(224, 224))\n",
        "#  img = image.img_to_array(img)\n",
        "#  img = np.expand_dims(img, axis=0)\n",
        "#  img = preprocess_input(img)\n",
        "#  return np.asarray(img)\n",
        "\n",
        "# Dodavanje nove kolone sa slikom koja odgovara koloni 'id'\n",
        "#train_data['img'] = train_data['id'].apply(image_column)\n",
        "\n",
        "# Primer slike\n",
        "#train_data['img'][0]\n",
        "\n",
        "\n",
        "\n",
        "# Podela na podatke za treniranje i podatke za validaciju (odnos 80:20)\n",
        "#train_df, val_df = train_test_split(train_data, test_size=0.2, random_state=42)\n",
        "#train_df = train_data\n",
        "#IZMENA!!!!!!!!!!!!!!!!!!!!!!!!!!\n",
        "\n",
        "\n",
        "\n",
        "# Učitavanje podataka iz test.csv u test_df DataFrame\n",
        "#test_df = pd.read_csv('test.csv')\n",
        "\n",
        "# Brisanje nepotrebnih kolona\n",
        "#i = 1\n",
        "#while i <= 64:\n",
        "#  del test_df['margin' + str(i)]\n",
        "#  del test_df['shape' + str(i)]\n",
        "#  del test_df['texture' + str(i)]\n",
        "#  i = i + 1\n",
        "\n",
        "# Dodavanje nove kolone sa slikom koja odgovara koloni 'id'\n",
        "#test_df['img'] = test_df['id'].apply(image_column)\n",
        "\n",
        "#test_df\n",
        "\n",
        "\n",
        "\n",
        "#END DEBUG\n",
        "########################################################################\n",
        "\n",
        "\n",
        "# Load CSV file containing image IDs and corresponding class labels\n",
        "csv_file = 'train.csv'\n",
        "df = pd.read_csv(csv_file)\n",
        "\n",
        "# Define paths to your images directory\n",
        "images_dir = 'images/'  # Adjust this according to your directory structure\n",
        "\n",
        "# Function to load and preprocess images\n",
        "def load_and_preprocess_image(image_path):\n",
        "    img = Image.open(image_path)\n",
        "    # Resize image if necessary\n",
        "    img = img.resize((224, 224))\n",
        "    img_array = np.asarray(img)\n",
        "    # Normalize pixel values to range [0, 1]\n",
        "    img_array = img_array / 255.0\n",
        "    return img_array\n",
        "\n",
        "# Prepare lists to store images and labels\n",
        "X = []\n",
        "y = []\n",
        "\n",
        "# Iterate through each row in the dataframe\n",
        "for index, row in df.iterrows():\n",
        "    image_id = row['id']\n",
        "    species = row['species']\n",
        "    image_path = os.path.join(images_dir, f\"{image_id}.jpg\")\n",
        "\n",
        "    # Load and preprocess the image\n",
        "    img = load_and_preprocess_image(image_path)\n",
        "\n",
        "    # Append image and label to lists\n",
        "    X.append(img)\n",
        "    y.append(species)\n",
        "\n",
        "# Inspect the first element of X and y\n",
        "print(\"X[0] shape:\", X[0].shape)\n",
        "print(\"y[0]:\", y[0])\n",
        "\n",
        "X_new = []\n",
        "for image in X:\n",
        "    img_array = np.asarray(image)\n",
        "    X_new.append(img_array)\n",
        "X = np.array(X_new)\n",
        "\n",
        "# Convert X from (990, 224, 224) to (990, 224, 224, 3)\n",
        "X = np.repeat(X[..., np.newaxis], 3, axis=-1)\n",
        "\n",
        "#plt.imshow(X[0]) # debug slike\n",
        "\n",
        "# Convert lists to numpy arrays\n",
        "#X = [np.array(image) for image in X]\n",
        "\n",
        "y = LabelEncoder().fit_transform(y)\n",
        "\n",
        "print(\"y[0]:\", y[0])\n",
        "\n",
        "y = np.array(y)\n",
        "\n",
        "# Print shapes to verify\n",
        "print(\"X shape:\", X.shape)\n",
        "print(\"y shape:\", y.shape)\n",
        "\n",
        "########################################################################\n",
        "\n",
        "\n",
        "\n",
        "\n",
        "\n",
        "\n",
        "\n",
        "\n",
        "\n",
        "\n",
        "\n",
        "\n",
        "# Pretvaranje naziva klasa iz stringa u numeričke vrednosti\n",
        "#train_df['species'] = LabelEncoder().fit_transform(train_df['species'])\n",
        "\n",
        "# Broj klasa za klasifikaciju\n",
        "#num_classes = train_df['species'].size #.unique()\n",
        "\n",
        "# Konfiguracija za x_train (input - slike)\n",
        "#x_train = train_df['img']\n",
        "#x_train = np.array([np.array(val) for val in x_train])\n",
        "#x_train = np.squeeze(x_train, axis=1) #otklanja dimenziju 1\n",
        "\n",
        "print('#### Shape of input numpy array #####')\n",
        "#print(X_train.shape)\n",
        "print('#### Shape of each element in the array #####')\n",
        "#print(X_train[0].shape)\n",
        "print('#### Object type for input data #####')\n",
        "#print(X_train.dtype)\n",
        "\n",
        "# Konfiguracija za y_train (output - klase)\n",
        "#y_train = train_df['species']  #.unique()\n",
        "#y_train = np.array([np.array(val) for val in y_train])\n",
        "\n",
        "print('#### Shape of output numpy array #####')\n",
        "#print(y_train.shape)\n",
        "print('#### Shape of each element in the array #####')\n",
        "#print(y_train[0].shape)\n",
        "print('#### Object type for input data #####')\n",
        "#print(y_train.dtype)\n",
        "\n",
        "# Konfiguracija VGG16\n",
        "vgg_conv = VGG16(weights='imagenet', include_top=False, input_shape=(224, 224, 3))\n",
        "\n",
        "# Onemogućavanje treniranja slojeva VGG16 modela\n",
        "for layer in vgg_conv.layers[:-2]:\n",
        "    layer.trainable = False\n",
        "\n",
        "for layer in vgg_conv.layers:\n",
        "    print(layer, layer.trainable)\n",
        "\n",
        "# Kreiranje modela - sekvencijalni\n",
        "model = keras.Sequential()\n",
        "\n",
        "# Dodavanje VGG16 slojeva\n",
        "model.add(vgg_conv)\n",
        "\n",
        "# Dodavanje novih slojeva u model\n",
        "model.add(Flatten())\n",
        "model.add(Dense(1024, activation='relu'))\n",
        "model.add(Dropout(0.5))\n",
        "model.add(Dense(99, activation='softmax')) #num_classes umesto 1/99\n",
        "\n",
        "# Prikazivanje podataka o modelu koji je kreiran\n",
        "model.summary()\n",
        "\n",
        "# Kompilacija modela\n",
        "model.compile(optimizer=Adam(learning_rate=0.001), loss='sparse_categorical_crossentropy', metrics=['accuracy'])\n",
        "\n",
        "# Treniranje modela\n",
        "history = model.fit(X, y, epochs=15, validation_split=0.2, batch_size=32)\n",
        "\n",
        "# Sačuvajte model\n",
        "#model.save('model.keras')\n",
        "\n",
        "# Prikažite krive tačnosti i gubitaka\n",
        "acc = history.history['accuracy']\n",
        "val_acc = history.history['val_accuracy']\n",
        "loss = history.history['loss']\n",
        "val_loss = history.history['val_loss']\n",
        "\n",
        "epochs = range(len(acc))\n",
        "\n",
        "# Prikaz tačnosti treninga i validacije\n",
        "# Prikaz gubitka treninga i validacije\n",
        "\n",
        "plt.figure(figsize=(20,10))\n",
        "plt.subplots_adjust(left=0, right=1, bottom=0, top=0.95, wspace=0.05, hspace=0)\n",
        "plt.subplot(121)\n",
        "plt.plot(epochs, acc, 'b', label='Training accuracy')\n",
        "plt.plot(epochs, val_acc, 'r', label='Validation accuracy')\n",
        "plt.title('Training and validation accuracy', size=20)\n",
        "plt.legend(prop={'size': 10})\n",
        "plt.grid()\n",
        "plt.subplot(122)\n",
        "plt.plot(epochs, loss, 'b', label='Training loss')\n",
        "plt.plot(epochs, val_loss, 'r', label='Validation loss')\n",
        "plt.title('Training and validation loss', size=20)\n",
        "plt.legend(prop={'size': 10})\n",
        "plt.grid()\n",
        "plt.show()"
      ],
      "metadata": {
        "colab": {
          "base_uri": "https://localhost:8080/",
          "height": 1000
        },
        "id": "FVyrsYJIoudx",
        "outputId": "25456887-6670-4ccb-e01e-da6ad51704de"
      },
      "execution_count": 14,
      "outputs": [
        {
          "output_type": "stream",
          "name": "stdout",
          "text": [
            "X[0] shape: (224, 224)\n",
            "y[0]: Acer_Opalus\n",
            "y[0]: 3\n",
            "X shape: (990, 224, 224, 3)\n",
            "y shape: (990,)\n",
            "#### Shape of input numpy array #####\n",
            "#### Shape of each element in the array #####\n",
            "#### Object type for input data #####\n",
            "#### Shape of output numpy array #####\n",
            "#### Shape of each element in the array #####\n",
            "#### Object type for input data #####\n",
            "<keras.src.engine.input_layer.InputLayer object at 0x7b78995ae020> False\n",
            "<keras.src.layers.convolutional.conv2d.Conv2D object at 0x7b78995aee00> False\n",
            "<keras.src.layers.convolutional.conv2d.Conv2D object at 0x7b788208f2e0> False\n",
            "<keras.src.layers.pooling.max_pooling2d.MaxPooling2D object at 0x7b78995ac850> False\n",
            "<keras.src.layers.convolutional.conv2d.Conv2D object at 0x7b77dc7105b0> False\n",
            "<keras.src.layers.convolutional.conv2d.Conv2D object at 0x7b7863cfabc0> False\n",
            "<keras.src.layers.pooling.max_pooling2d.MaxPooling2D object at 0x7b7881cb0d90> False\n",
            "<keras.src.layers.convolutional.conv2d.Conv2D object at 0x7b78807624a0> False\n",
            "<keras.src.layers.convolutional.conv2d.Conv2D object at 0x7b78635329b0> False\n",
            "<keras.src.layers.convolutional.conv2d.Conv2D object at 0x7b78995aeb30> False\n",
            "<keras.src.layers.pooling.max_pooling2d.MaxPooling2D object at 0x7b7881cb3310> False\n",
            "<keras.src.layers.convolutional.conv2d.Conv2D object at 0x7b78821c0190> False\n",
            "<keras.src.layers.convolutional.conv2d.Conv2D object at 0x7b78821c35b0> False\n",
            "<keras.src.layers.convolutional.conv2d.Conv2D object at 0x7b78995ae590> False\n",
            "<keras.src.layers.pooling.max_pooling2d.MaxPooling2D object at 0x7b7881d03760> False\n",
            "<keras.src.layers.convolutional.conv2d.Conv2D object at 0x7b78821c1210> False\n",
            "<keras.src.layers.convolutional.conv2d.Conv2D object at 0x7b7881cb1c60> False\n",
            "<keras.src.layers.convolutional.conv2d.Conv2D object at 0x7b7881d01b40> True\n",
            "<keras.src.layers.pooling.max_pooling2d.MaxPooling2D object at 0x7b7890cc3100> True\n",
            "Model: \"sequential_13\"\n",
            "_________________________________________________________________\n",
            " Layer (type)                Output Shape              Param #   \n",
            "=================================================================\n",
            " vgg16 (Functional)          (None, 7, 7, 512)         14714688  \n",
            "                                                                 \n",
            " flatten_13 (Flatten)        (None, 25088)             0         \n",
            "                                                                 \n",
            " dense_26 (Dense)            (None, 1024)              25691136  \n",
            "                                                                 \n",
            " dropout_13 (Dropout)        (None, 1024)              0         \n",
            "                                                                 \n",
            " dense_27 (Dense)            (None, 99)                101475    \n",
            "                                                                 \n",
            "=================================================================\n",
            "Total params: 40507299 (154.52 MB)\n",
            "Trainable params: 28152419 (107.39 MB)\n",
            "Non-trainable params: 12354880 (47.13 MB)\n",
            "_________________________________________________________________\n",
            "Epoch 1/15\n",
            "25/25 [==============================] - 7s 206ms/step - loss: 4.5700 - accuracy: 0.1465 - val_loss: 2.3804 - val_accuracy: 0.4394\n",
            "Epoch 2/15\n",
            "25/25 [==============================] - 5s 185ms/step - loss: 1.6469 - accuracy: 0.5657 - val_loss: 1.0631 - val_accuracy: 0.7020\n",
            "Epoch 3/15\n",
            "25/25 [==============================] - 4s 170ms/step - loss: 0.7677 - accuracy: 0.7816 - val_loss: 0.6975 - val_accuracy: 0.7778\n",
            "Epoch 4/15\n",
            "25/25 [==============================] - 5s 188ms/step - loss: 0.4013 - accuracy: 0.8813 - val_loss: 0.6620 - val_accuracy: 0.8131\n",
            "Epoch 5/15\n",
            "25/25 [==============================] - 5s 189ms/step - loss: 0.2712 - accuracy: 0.9104 - val_loss: 0.6103 - val_accuracy: 0.8131\n",
            "Epoch 6/15\n",
            "25/25 [==============================] - 4s 173ms/step - loss: 0.1530 - accuracy: 0.9596 - val_loss: 0.5381 - val_accuracy: 0.8283\n",
            "Epoch 7/15\n",
            "25/25 [==============================] - 4s 170ms/step - loss: 0.1046 - accuracy: 0.9646 - val_loss: 0.7248 - val_accuracy: 0.8232\n",
            "Epoch 8/15\n",
            "25/25 [==============================] - 5s 189ms/step - loss: 0.1094 - accuracy: 0.9697 - val_loss: 0.4544 - val_accuracy: 0.8788\n",
            "Epoch 9/15\n",
            "25/25 [==============================] - 5s 191ms/step - loss: 0.0499 - accuracy: 0.9836 - val_loss: 0.6667 - val_accuracy: 0.8182\n",
            "Epoch 10/15\n",
            "25/25 [==============================] - 4s 166ms/step - loss: 0.0737 - accuracy: 0.9785 - val_loss: 0.4375 - val_accuracy: 0.8636\n",
            "Epoch 11/15\n",
            "25/25 [==============================] - 5s 186ms/step - loss: 0.0387 - accuracy: 0.9912 - val_loss: 0.5947 - val_accuracy: 0.8535\n",
            "Epoch 12/15\n",
            "25/25 [==============================] - 4s 167ms/step - loss: 0.0374 - accuracy: 0.9924 - val_loss: 0.4503 - val_accuracy: 0.8636\n",
            "Epoch 13/15\n",
            "25/25 [==============================] - 4s 163ms/step - loss: 0.0141 - accuracy: 0.9962 - val_loss: 0.3883 - val_accuracy: 0.8788\n",
            "Epoch 14/15\n",
            "25/25 [==============================] - 5s 185ms/step - loss: 0.0245 - accuracy: 0.9937 - val_loss: 0.3879 - val_accuracy: 0.8889\n",
            "Epoch 15/15\n",
            "25/25 [==============================] - 4s 166ms/step - loss: 0.0178 - accuracy: 0.9949 - val_loss: 0.4482 - val_accuracy: 0.8788\n"
          ]
        },
        {
          "output_type": "display_data",
          "data": {
            "text/plain": [
              "<Figure size 2000x1000 with 2 Axes>"
            ],
            "image/png": "[encoded data removed]"
          },
          "metadata": {}
        }
      ]
    },
    {
      "cell_type": "markdown",
      "source": [
        "## **5. Zaključak**"
      ],
      "metadata": {
        "id": "T7nY9zzBO6Pu"
      }
    },
    {
      "cell_type": "markdown",
      "source": [],
      "metadata": {
        "id": "80gnq0yCPFZb"
      }
    },
    {
      "cell_type": "markdown",
      "source": [
        "## **6. Literatura**"
      ],
      "metadata": {
        "id": "aVUhegwUO8-x"
      }
    },
    {
      "cell_type": "markdown",
      "source": [],
      "metadata": {
        "id": "rVAEwTJxPF8W"
      }
    }
  ]
}