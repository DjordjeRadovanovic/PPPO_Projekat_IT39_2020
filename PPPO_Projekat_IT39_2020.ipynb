{
  "nbformat": 4,
  "nbformat_minor": 0,
  "metadata": {
    "colab": {
      "provenance": [],
      "gpuType": "T4",
      "include_colab_link": true
    },
    "kernelspec": {
      "name": "python3",
      "display_name": "Python 3"
    },
    "language_info": {
      "name": "python"
    },
    "accelerator": "GPU"
  },
  "cells": [
    {
      "cell_type": "markdown",
      "metadata": {
        "id": "view-in-github",
        "colab_type": "text"
      },
      "source": [
        "<a href=\"https://colab.research.google.com/github/DjordjeRadovanovic/PPPO_Projekat_IT39_2020/blob/main/PPPO_Projekat_IT39_2020.ipynb\" target=\"_parent\"><img src=\"https://colab.research.google.com/assets/colab-badge.svg\" alt=\"Open In Colab\"/></a>"
      ]
    },
    {
      "cell_type": "markdown",
      "source": [
        "# **Principi prezentacije i prepoznavanja oblika 2023/2024**"
      ],
      "metadata": {
        "id": "zcLjyarQJLt0"
      }
    },
    {
      "cell_type": "markdown",
      "source": [
        "\n",
        "**Đorđe Radovanović IT39/2020**\n",
        "\n",
        "**Tema:** Klasifikacija lišća"
      ],
      "metadata": {
        "id": "0kAgPujZJNai"
      }
    },
    {
      "cell_type": "markdown",
      "source": [
        "## **Sadržaj**"
      ],
      "metadata": {
        "id": "j_JONDQdLEmZ"
      }
    },
    {
      "cell_type": "markdown",
      "source": [
        "1. Uvod\n",
        "2. Tema\n",
        "3. Učitavanje dataseta\n",
        "4. Projekat\n",
        "5. Zaključak\n",
        "6. Literatura"
      ],
      "metadata": {
        "id": "paZPrjO1Ley8"
      }
    },
    {
      "cell_type": "markdown",
      "source": [
        "## **1. Uvod**"
      ],
      "metadata": {
        "id": "RUM2CE-kNhwy"
      }
    },
    {
      "cell_type": "markdown",
      "source": [],
      "metadata": {
        "id": "fvemCeeoNsdw"
      }
    },
    {
      "cell_type": "markdown",
      "source": [
        "## **2. Metodologija**"
      ],
      "metadata": {
        "id": "hiB5VHRqNxt4"
      }
    },
    {
      "cell_type": "markdown",
      "source": [],
      "metadata": {
        "id": "xHqpSRS3N3dg"
      }
    },
    {
      "cell_type": "markdown",
      "source": [
        "## **3. Učitavanje dataseta**"
      ],
      "metadata": {
        "id": "EWQ2Og6uOhRd"
      }
    },
    {
      "cell_type": "markdown",
      "source": [
        "Prvi korak je učitavanje seta podataka koji će se koristiti prilikom treniranja modela. Da bi se to uradilo, neophodno je skinuti .zip fajl koji sadrži sve potrebne podatke, pomoću **wget** komande."
      ],
      "metadata": {
        "id": "U2RZTv0QPCzG"
      }
    },
    {
      "cell_type": "code",
      "source": [
        "!wget --no-check-certificate 'https://drive.usercontent.google.com/download?id=1r4yy2ZIUGoyESydQzY39L-0s8ld7fuXr&confirm=xxx' -O Leaf_Classification.zip"
      ],
      "metadata": {
        "colab": {
          "base_uri": "https://localhost:8080/"
        },
        "id": "kM-259_HNp-7",
        "outputId": "bb467cfd-f7a5-4dbb-a78c-8558e71d58c7"
      },
      "execution_count": 1,
      "outputs": [
        {
          "output_type": "stream",
          "name": "stdout",
          "text": [
            "--2024-06-16 20:44:05--  https://drive.usercontent.google.com/download?id=1r4yy2ZIUGoyESydQzY39L-0s8ld7fuXr&confirm=xxx\n",
            "Resolving drive.usercontent.google.com (drive.usercontent.google.com)... 142.251.175.132, 2404:6800:4003:c1c::84\n",
            "Connecting to drive.usercontent.google.com (drive.usercontent.google.com)|142.251.175.132|:443... connected.\n",
            "HTTP request sent, awaiting response... 200 OK\n",
            "Length: 35953027 (34M) [application/octet-stream]\n",
            "Saving to: ‘Leaf_Classification.zip’\n",
            "\n",
            "Leaf_Classification 100%[===================>]  34.29M  19.4MB/s    in 1.8s    \n",
            "\n",
            "2024-06-16 20:44:08 (19.4 MB/s) - ‘Leaf_Classification.zip’ saved [35953027/35953027]\n",
            "\n"
          ]
        }
      ]
    },
    {
      "cell_type": "markdown",
      "source": [
        "Kada je Leaf_Classification.zip fajl skinut, potrebno je izvršiti dekompresiju podataka. To radimo pomoću **unzip** komande."
      ],
      "metadata": {
        "id": "4XXuaOm2PA4t"
      }
    },
    {
      "cell_type": "code",
      "source": [
        "!unzip Leaf_Classification.zip"
      ],
      "metadata": {
        "colab": {
          "base_uri": "https://localhost:8080/"
        },
        "id": "kfy0z1NAPWrK",
        "outputId": "5222ff3b-6e65-4f4c-973c-471d178fdbf6"
      },
      "execution_count": 2,
      "outputs": [
        {
          "output_type": "stream",
          "name": "stdout",
          "text": [
            "Archive:  Leaf_Classification.zip\n",
            "  inflating: images.zip              \n",
            "  inflating: sample_submission.csv.zip  \n",
            "  inflating: test.csv.zip            \n",
            "  inflating: train.csv.zip           \n"
          ]
        }
      ]
    },
    {
      "cell_type": "markdown",
      "source": [
        "Možemo uočiti da se u Leaf_Classification.zip fajlu nalaze još 4 posebna .zip fajla: *images.zip*, *sample_submission.csv.zip*, *train.csv.zip* i *test.csv.zip*. Analizom sadržaja ovih fajlova utvrđeno je da neće trebati *sample_submission.csv.zip*. Stoga, ponovićemo **unzip**, ali samo za ostala tri .zip fajla."
      ],
      "metadata": {
        "id": "r5tpKgVRPW_N"
      }
    },
    {
      "cell_type": "code",
      "source": [
        "!unzip -qq images.zip\n",
        "!unzip -qq train.csv.zip\n",
        "!unzip -qq test.csv.zip"
      ],
      "metadata": {
        "id": "H4Jv2I54RS-3"
      },
      "execution_count": 3,
      "outputs": []
    },
    {
      "cell_type": "markdown",
      "source": [
        "Sada imamo sve podatke raspakovane i spremne za korišćenje u daljem radu. Sledeći korak je pisanje samog koda za pripremu podataka, generisanje, treniranje i testiranje modela."
      ],
      "metadata": {
        "id": "XX3pU-8jTaD8"
      }
    },
    {
      "cell_type": "markdown",
      "source": [
        "## **4. Projekat**"
      ],
      "metadata": {
        "id": "qYqCozqjOh2N"
      }
    },
    {
      "cell_type": "markdown",
      "source": [
        "Prva stvar koju je potrebno uraditi je importovanje svih neophodnih biblioteka za projekat. Potrebno je koristiti **pandas** biblioteku za Python, koja ima DataFrame dvodimenzionalnu strukturu podataka koju možemo koristiti za predstavljanje tabelarnih CSV podataka. Takođe je potrebno koristiti **NumPy** biblioteku za matematičke operacije nad prosleđenim podacima.\n",
        "\n",
        "VGG16 model se preuzima iz **Keras** biblioteke, koja se koristi u svrhe mašinskog učenja. **Keras** biblioteka sadrži veliki broj modela, uključujuči i VGG16, koji će se koristiti. **Keras** koristi TensorFlow backend."
      ],
      "metadata": {
        "id": "NL86006vot4v"
      }
    },
    {
      "cell_type": "code",
      "source": [
        "# Importovanje neophodnih biblioteka\n",
        "import keras\n",
        "import pandas as pd\n",
        "import numpy as np\n",
        "from sklearn.preprocessing import LabelEncoder\n",
        "from keras.applications import VGG16\n",
        "from keras.models import Model\n",
        "from keras.layers import Dense, Flatten, Dropout\n",
        "from keras.optimizers import Adam\n",
        "import os\n",
        "from PIL import Image\n",
        "import matplotlib.pyplot as plt"
      ],
      "metadata": {
        "id": "s0MPDqCT6C_j"
      },
      "execution_count": null,
      "outputs": []
    },
    {
      "cell_type": "markdown",
      "source": [
        "Sledeći korak je učitavanje i sređivanje CSV podataka iz train.csv fajla. Učitavanje se vrši pomoću read_csv funkcije iz pandas paketa.\n",
        "\n",
        "Takođe se vrši definisanje direktorijuma u kojem se nalaze slike neophodne za treniranje/testiranje modela."
      ],
      "metadata": {
        "id": "Ol1UzkNF7H4P"
      }
    },
    {
      "cell_type": "code",
      "source": [
        "# Učitavanje podataka iz train.csv u train_df DataFrame\n",
        "train_df = pd.read_csv('train.csv')\n",
        "\n",
        "# Definisanje direktorijuma sa slikama\n",
        "img_dir = 'images/'"
      ],
      "metadata": {
        "id": "rSThsGc76Dee"
      },
      "execution_count": null,
      "outputs": []
    },
    {
      "cell_type": "markdown",
      "source": [
        "Potrebno je učitati slike iz direktorijuma i ubaciti ij u NumPy niz. Definisana je funkcija **load_and_preprocess_image** koja uzima putanju slika, vrši promenu dimenzija u 224x224 (kako bi bile pogodne za VGG16 model), i vraća NumPy niz koji će se kasnije upotrebiti."
      ],
      "metadata": {
        "id": "x5MOWqwG7ilq"
      }
    },
    {
      "cell_type": "code",
      "source": [
        "# Učitavanje i predprocesiranje slika\n",
        "def load_and_preprocess_image(image_path):\n",
        "    img = Image.open(image_path)\n",
        "    img = img.resize((224, 224))\n",
        "    img_array = np.asarray(img)\n",
        "    img_array = img_array / 255.0\n",
        "    return img_array"
      ],
      "metadata": {
        "id": "7mNgRe1H6D06"
      },
      "execution_count": null,
      "outputs": []
    },
    {
      "cell_type": "markdown",
      "source": [
        "Sledeći korak je kreiranje listi x_train i y_train, koje će se koristiti za treniranje modela.\n",
        "\n",
        "* **x_train** - slike lišća\n",
        "* **y_train** - klase lišća, odgovaraju slici iz x_train\n",
        "\n",
        "**Postupak:** Kreiraju se dve liste, i za svaki red u train_df se čitaju podaci. Podatak o ID-ju se pretvara u putanju slike, koja se učitava preko gorenavedene funkcije i ubacuje u x_train, dok se za vrednost y_train uzima naziv klase lista (**species**) koji stoji pored."
      ],
      "metadata": {
        "id": "1vlRR3Sc7sCB"
      }
    },
    {
      "cell_type": "code",
      "source": [
        "# Kreiranje listi sa podacima za treniranje modela\n",
        "x_train = []\n",
        "y_train = []\n",
        "\n",
        "# Popunjavanje x_train i y_train listi\n",
        "for index, row in train_df.iterrows():\n",
        "    id = row['id']\n",
        "    species = row['species']\n",
        "    img_path = os.path.join(img_dir, f'{id}.jpg')\n",
        "\n",
        "    # Učitavanje i sređivanje slike\n",
        "    img = load_and_preprocess_image(img_path)\n",
        "\n",
        "    # Dodavanje slike u x_train listu\n",
        "    x_train.append(img)\n",
        "\n",
        "    # Dodavanje klase u y_train listu\n",
        "    y_train.append(species)"
      ],
      "metadata": {
        "id": "3E_108m36EIe"
      },
      "execution_count": null,
      "outputs": []
    },
    {
      "cell_type": "markdown",
      "source": [
        "Sada kada su kreirani x_train i y_train podaci za treniranje, neophodno je proveriti da li su odgovarajućeg oblika za model."
      ],
      "metadata": {
        "id": "vcrWsSe17siZ"
      }
    },
    {
      "cell_type": "code",
      "source": [
        "# Provera x_train i y_train\n",
        "print('x_train[0] shape:', x_train[0].shape)\n",
        "print('y_train[0]:', y_train[0])"
      ],
      "metadata": {
        "id": "g5rdwN7M6Eev"
      },
      "execution_count": null,
      "outputs": []
    },
    {
      "cell_type": "markdown",
      "source": [
        "Kako podaci za x_train nisu odgovarajućeg oblika, neophodno je izvršiti konverziju. Potrebno je pretvoriti podatke u **NumPy** niz, i dodati četvrtu dimenziju - color channels. Kako RGB ima tri kanala, dodaje se broj 3."
      ],
      "metadata": {
        "id": "BSXVzIkt7s2i"
      }
    },
    {
      "cell_type": "code",
      "source": [
        "x_new = []\n",
        "for image in x_train:\n",
        "    img_array = np.asarray(image)\n",
        "    x_new.append(img_array)\n",
        "x_train = np.array(x_new)\n",
        "\n",
        "# Konverzija x_train u odgovarajući oblik - iz (990, 224, 224) u (990, 224, 224, 3)\n",
        "x_train = np.repeat(x_train[..., np.newaxis], 3, axis=-1)"
      ],
      "metadata": {
        "id": "sE51zrJY6EuC"
      },
      "execution_count": null,
      "outputs": []
    },
    {
      "cell_type": "markdown",
      "source": [
        "Podaci iz y_train se moraju pretvoriti u numeričke vrednosti kako bi se moglo izvršiti treniranje modela. Ta konverzija se vrši pomoću LabelEncoder funkcije iz biblioteke sklearn.\n",
        "\n",
        "LabelEncoder dodeljuje numeričku vrednost svakom nazivu klase, po abecednom redu.\n",
        "\n",
        "U ovom koraku takođe se vrši sortiranje naziva klasa po abecedi, kako bi se kasnije moglo vršiti mapiranje broja klase sa najvećom verovatnoćom sa nazivom klase."
      ],
      "metadata": {
        "id": "GnnwYgGw7tL1"
      }
    },
    {
      "cell_type": "code",
      "source": [
        "# Transformacija labela u numeričke vrednosti, za output\n",
        "classes_names = sorted(set(y_train)) #Da bismo sačuvali nazive klasa\n",
        "y_train = LabelEncoder().fit_transform(y_train)\n",
        "y_train = np.array(y_train)"
      ],
      "metadata": {
        "id": "Ir-VVRj76E-j"
      },
      "execution_count": null,
      "outputs": []
    },
    {
      "cell_type": "markdown",
      "source": [
        "Još jednom se vrši provera oblika input i output podataka za model."
      ],
      "metadata": {
        "id": "LRGfUsfk7tiF"
      }
    },
    {
      "cell_type": "code",
      "source": [
        "# Prikaz oblika x_train i y_train\n",
        "print('x_train shape:', x_train.shape)\n",
        "print('y_train shape:', y_train.shape)"
      ],
      "metadata": {
        "id": "D-29Y2b56FMX"
      },
      "execution_count": null,
      "outputs": []
    },
    {
      "cell_type": "markdown",
      "source": [
        "Kada su podaci odgovarajućeg oblika, može se početi sa izgradnjom i treniranjem modela. Prvo je potrebno definisati ukupan broj mogućih klasa. U slučaju predikcije listova, ima ih 99."
      ],
      "metadata": {
        "id": "8UA2_c6K7t1L"
      }
    },
    {
      "cell_type": "code",
      "source": [
        "# Dobijanje ukupnog broja klasa\n",
        "num_classes = train_df['species'].unique().size\n",
        "print('Broj klasa: ', num_classes)"
      ],
      "metadata": {
        "id": "TWgfNF3S6FdO"
      },
      "execution_count": null,
      "outputs": []
    },
    {
      "cell_type": "markdown",
      "source": [
        "Koristiće se tehnika transfernog učenja (*transfer learning*).\n",
        "\n",
        "**Ideja:** Koristi se postojeći model koji je već treniran za neki dataset. Takav model već ima razvijene tehnike uočavanja karakteristika koje se ne bi mogle razviti sa vrlo malim datasetom (kakav je ovaj). Postojeći model možemo prilagoditi novom setu podataka pomoću dodavanja slojeva, promene konfiguracije i ponovnog treniranja određenog broja slojeva sa novim datasetom.\n",
        "\n",
        "U ovom slučaju koristiće se **VGG16** model kao osnova, jer sadrži dovoljan broj slojeva i dovoljno dobre performanse za ovaj slučaj analize."
      ],
      "metadata": {
        "id": "fSsZdNp37uK9"
      }
    },
    {
      "cell_type": "markdown",
      "source": [
        "Vrši se učitavanje baznog **VGG16** modela, konfiguracija njegovih slojeva. U ovom slučaju, potrebno je onemogućiti treniranje nekih slojeva tog modela.\n",
        "\n",
        "*(Eksperimentisanjem je utvrđeno da je najbolje ostaviti poslednja dva modela otvorenim za treniranje, a svim drugim modelima zabraniti.)*"
      ],
      "metadata": {
        "id": "JeV7MmAoBagA"
      }
    },
    {
      "cell_type": "code",
      "source": [
        "# Konfiguracija VGG16\n",
        "vgg_conv = VGG16(weights='imagenet', include_top=False, input_shape=(224, 224, 3))\n",
        "\n",
        "# Onemogućavanje treniranja slojeva VGG16 modela\n",
        "for layer in vgg_conv.layers[:-2]:\n",
        "    layer.trainable = False\n",
        "\n",
        "for layer in vgg_conv.layers:\n",
        "    print(layer, layer.trainable)"
      ],
      "metadata": {
        "id": "u1CAmfbr6F0K"
      },
      "execution_count": null,
      "outputs": []
    },
    {
      "cell_type": "markdown",
      "source": [
        "Sledeći korak je kreiranje modela. Koristi se sekvencijalni (Sequential) model, kome se dodaju slojevi. Kao početni sloj stavljaju se slojevi prethodno konfigurisanog VGG16 modela.\n",
        "\n",
        "Pored njega, dodaju se još četiri sloja.\n",
        "\n",
        "(Eksperimentisanjem je utvrđeno da ova četiri sloja daju najbolje rezultate.)"
      ],
      "metadata": {
        "id": "cHQHm53u7usF"
      }
    },
    {
      "cell_type": "code",
      "source": [
        "# Kreiranje modela - sekvencijalni\n",
        "model = keras.Sequential()\n",
        "\n",
        "# Dodavanje VGG16 slojeva u model\n",
        "model.add(vgg_conv)\n",
        "\n",
        "# Dodavanje novih slojeva u model\n",
        "model.add(Flatten())\n",
        "model.add(Dense(1024, activation='relu'))\n",
        "model.add(Dropout(0.5))\n",
        "model.add(Dense(num_classes, activation='softmax'))\n",
        "\n",
        "# Prikazivanje podataka o modelu koji je kreiran\n",
        "model.summary()"
      ],
      "metadata": {
        "id": "2uQhicAV6GFS"
      },
      "execution_count": null,
      "outputs": []
    },
    {
      "cell_type": "markdown",
      "source": [],
      "metadata": {
        "id": "qS62wQlF7vCq"
      }
    },
    {
      "cell_type": "code",
      "source": [
        "# Kompilacija modela\n",
        "model.compile(optimizer=Adam(learning_rate=0.001), loss='sparse_categorical_crossentropy', metrics=['accuracy'])"
      ],
      "metadata": {
        "id": "bJA0DSzH6GSS"
      },
      "execution_count": null,
      "outputs": []
    },
    {
      "cell_type": "markdown",
      "source": [],
      "metadata": {
        "id": "WdtP77gt7veW"
      }
    },
    {
      "cell_type": "code",
      "source": [
        "# Treniranje modela\n",
        "history = model.fit(x_train, y_train, epochs=15, validation_split=0.2, batch_size=32)"
      ],
      "metadata": {
        "id": "1VkFW5h96GjS"
      },
      "execution_count": null,
      "outputs": []
    },
    {
      "cell_type": "markdown",
      "source": [],
      "metadata": {
        "id": "En5ICYrW7vxC"
      }
    },
    {
      "cell_type": "code",
      "source": [
        "# Krive tačnosti i gubitaka\n",
        "acc = history.history['accuracy']\n",
        "val_acc = history.history['val_accuracy']\n",
        "loss = history.history['loss']\n",
        "val_loss = history.history['val_loss']\n",
        "\n",
        "epochs = range(len(acc))\n",
        "\n",
        "# Prikaz tačnosti treninga i validacije\n",
        "# Prikaz gubitka treninga i validacije\n",
        "\n",
        "plt.figure(figsize=(20,10))\n",
        "plt.subplots_adjust(left=0, right=1, bottom=0, top=0.95, wspace=0.05, hspace=0)\n",
        "plt.subplot(121)\n",
        "plt.plot(epochs, acc, 'b', label='Training accuracy')\n",
        "plt.plot(epochs, val_acc, 'r', label='Validation accuracy')\n",
        "plt.title('Training and validation accuracy', size=20)\n",
        "plt.legend(prop={'size': 10})\n",
        "plt.grid()\n",
        "plt.subplot(122)\n",
        "plt.plot(epochs, loss, 'b', label='Training loss')\n",
        "plt.plot(epochs, val_loss, 'r', label='Validation loss')\n",
        "plt.title('Training and validation loss', size=20)\n",
        "plt.legend(prop={'size': 10})\n",
        "plt.grid()\n",
        "plt.show()"
      ],
      "metadata": {
        "id": "jJFtxdOl6HT6"
      },
      "execution_count": null,
      "outputs": []
    },
    {
      "cell_type": "markdown",
      "source": [],
      "metadata": {
        "id": "SBZHlxQE7wU1"
      }
    },
    {
      "cell_type": "code",
      "source": [
        "# Čuvanje modela\n",
        "#model.save('models/model.keras')"
      ],
      "metadata": {
        "id": "6IIMGtjK61SU"
      },
      "execution_count": null,
      "outputs": []
    },
    {
      "cell_type": "markdown",
      "source": [],
      "metadata": {
        "id": "6SkE8l2m7wr-"
      }
    },
    {
      "cell_type": "code",
      "source": [
        "# Učitavanje podataka iz test.csv u test_df DataFrame\n",
        "test_df = pd.read_csv('test.csv')\n",
        "\n",
        "# Kreiranje x_test podataka za predikciju\n",
        "x_test = []\n",
        "\n",
        "# Popunjavanje x_test liste\n",
        "for index, row in test_df.iterrows():\n",
        "    id = int(row['id'])                               # bugfix\n",
        "    img_path = os.path.join(img_dir, f'{id}.jpg')\n",
        "    img = load_and_preprocess_image(img_path)\n",
        "    x_test.append(img)\n",
        "\n",
        "x_new = []\n",
        "for image in x_test:\n",
        "    img_array = np.asarray(image)\n",
        "    x_new.append(img_array)\n",
        "x_test = np.array(x_new)\n",
        "\n",
        "# Konverzija x_test u odgovarajući oblik - iz (594, 224, 224) u (594, 224, 224, 3)\n",
        "x_test = np.repeat(x_test[..., np.newaxis], 3, axis=-1)\n",
        "\n",
        "# Prikaz oblika x_test\n",
        "print('x_test shape:', x_test.shape)\n",
        "\n",
        "# Klasifikacija novih slika\n",
        "y_test = model.predict(x_test)"
      ],
      "metadata": {
        "id": "ZAnK0FpR6HhP"
      },
      "execution_count": null,
      "outputs": []
    },
    {
      "cell_type": "markdown",
      "source": [],
      "metadata": {
        "id": "pExWWiKp7xQV"
      }
    },
    {
      "cell_type": "code",
      "source": [
        "# Verovatnoće klasa za prvu test sliku\n",
        "print(y_test[0])\n",
        "\n",
        "# Prva test slika\n",
        "plt.imshow(x_test[0])\n",
        "plt.title(classes_names[np.argmax(y_test[0])])\n",
        "plt.axis('off')"
      ],
      "metadata": {
        "id": "Y6KPoDlW6Hwe"
      },
      "execution_count": null,
      "outputs": []
    },
    {
      "cell_type": "markdown",
      "source": [
        "## **5. Zaključak**"
      ],
      "metadata": {
        "id": "T7nY9zzBO6Pu"
      }
    },
    {
      "cell_type": "markdown",
      "source": [],
      "metadata": {
        "id": "80gnq0yCPFZb"
      }
    },
    {
      "cell_type": "markdown",
      "source": [
        "## **6. Literatura**"
      ],
      "metadata": {
        "id": "aVUhegwUO8-x"
      }
    },
    {
      "cell_type": "markdown",
      "source": [],
      "metadata": {
        "id": "rVAEwTJxPF8W"
      }
    }
  ]
}